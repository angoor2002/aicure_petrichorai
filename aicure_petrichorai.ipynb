{
  "nbformat": 4,
  "nbformat_minor": 0,
  "metadata": {
    "colab": {
      "provenance": [],
      "mount_file_id": "1n6R9EIxOwtYwK85gJJ65BMiC_E8wNjyL",
      "authorship_tag": "ABX9TyP2YC4tR1FwhZyJqHhFoCFH",
      "include_colab_link": true
    },
    "kernelspec": {
      "name": "python3",
      "display_name": "Python 3"
    },
    "language_info": {
      "name": "python"
    }
  },
  "cells": [
    {
      "cell_type": "markdown",
      "metadata": {
        "id": "view-in-github",
        "colab_type": "text"
      },
      "source": [
        "<a href=\"https://colab.research.google.com/github/sangwainupur/aicure_petrichorai/blob/main/aicure_petrichorai.ipynb\" target=\"_parent\"><img src=\"https://colab.research.google.com/assets/colab-badge.svg\" alt=\"Open In Colab\"/></a>"
      ]
    },
    {
      "cell_type": "code",
      "source": [
        "import matplotlib.pyplot as plt\n",
        "import io\n",
        "import pandas as pd\n",
        "import numpy as np\n",
        "import seaborn as sns\n",
        "import tensorflow as tf\n",
        "\n",
        "from sklearn import metrics\n",
        "from sklearn.model_selection import train_test_split\n",
        "from sklearn.linear_model import LinearRegression\n",
        "from sklearn.metrics import mean_squared_error\n",
        "from sklearn.preprocessing import OneHotEncoder\n",
        "from sklearn.compose import ColumnTransformer\n",
        "from sklearn.metrics import mean_absolute_error, mean_squared_error\n",
        "from math import sqrt\n",
        "from sklearn.preprocessing import StandardScaler\n",
        "from tensorflow import keras\n",
        "from xgboost import XGBRegressor\n",
        "from sklearn.model_selection import GridSearchCV\n",
        "%matplotlib inline"
      ],
      "metadata": {
        "id": "N3E9RhGw6RN5"
      },
      "execution_count": 11,
      "outputs": []
    },
    {
      "cell_type": "code",
      "source": [
        "pip install tensorflow_decision_forests\n"
      ],
      "metadata": {
        "colab": {
          "base_uri": "https://localhost:8080/"
        },
        "id": "Sla7uT1XahPu",
        "outputId": "1291c343-af64-4f37-9f45-3b3d3d4619d6"
      },
      "execution_count": 12,
      "outputs": [
        {
          "output_type": "stream",
          "name": "stdout",
          "text": [
            "Requirement already satisfied: tensorflow_decision_forests in /usr/local/lib/python3.10/dist-packages (1.8.1)\n",
            "Requirement already satisfied: numpy in /usr/local/lib/python3.10/dist-packages (from tensorflow_decision_forests) (1.23.5)\n",
            "Requirement already satisfied: pandas in /usr/local/lib/python3.10/dist-packages (from tensorflow_decision_forests) (1.5.3)\n",
            "Requirement already satisfied: tensorflow~=2.15.0 in /usr/local/lib/python3.10/dist-packages (from tensorflow_decision_forests) (2.15.0)\n",
            "Requirement already satisfied: six in /usr/local/lib/python3.10/dist-packages (from tensorflow_decision_forests) (1.16.0)\n",
            "Requirement already satisfied: absl-py in /usr/local/lib/python3.10/dist-packages (from tensorflow_decision_forests) (1.4.0)\n",
            "Requirement already satisfied: wheel in /usr/local/lib/python3.10/dist-packages (from tensorflow_decision_forests) (0.42.0)\n",
            "Requirement already satisfied: wurlitzer in /usr/local/lib/python3.10/dist-packages (from tensorflow_decision_forests) (3.0.3)\n",
            "Requirement already satisfied: astunparse>=1.6.0 in /usr/local/lib/python3.10/dist-packages (from tensorflow~=2.15.0->tensorflow_decision_forests) (1.6.3)\n",
            "Requirement already satisfied: flatbuffers>=23.5.26 in /usr/local/lib/python3.10/dist-packages (from tensorflow~=2.15.0->tensorflow_decision_forests) (23.5.26)\n",
            "Requirement already satisfied: gast!=0.5.0,!=0.5.1,!=0.5.2,>=0.2.1 in /usr/local/lib/python3.10/dist-packages (from tensorflow~=2.15.0->tensorflow_decision_forests) (0.5.4)\n",
            "Requirement already satisfied: google-pasta>=0.1.1 in /usr/local/lib/python3.10/dist-packages (from tensorflow~=2.15.0->tensorflow_decision_forests) (0.2.0)\n",
            "Requirement already satisfied: h5py>=2.9.0 in /usr/local/lib/python3.10/dist-packages (from tensorflow~=2.15.0->tensorflow_decision_forests) (3.9.0)\n",
            "Requirement already satisfied: libclang>=13.0.0 in /usr/local/lib/python3.10/dist-packages (from tensorflow~=2.15.0->tensorflow_decision_forests) (16.0.6)\n",
            "Requirement already satisfied: ml-dtypes~=0.2.0 in /usr/local/lib/python3.10/dist-packages (from tensorflow~=2.15.0->tensorflow_decision_forests) (0.2.0)\n",
            "Requirement already satisfied: opt-einsum>=2.3.2 in /usr/local/lib/python3.10/dist-packages (from tensorflow~=2.15.0->tensorflow_decision_forests) (3.3.0)\n",
            "Requirement already satisfied: packaging in /usr/local/lib/python3.10/dist-packages (from tensorflow~=2.15.0->tensorflow_decision_forests) (23.2)\n",
            "Requirement already satisfied: protobuf!=4.21.0,!=4.21.1,!=4.21.2,!=4.21.3,!=4.21.4,!=4.21.5,<5.0.0dev,>=3.20.3 in /usr/local/lib/python3.10/dist-packages (from tensorflow~=2.15.0->tensorflow_decision_forests) (3.20.3)\n",
            "Requirement already satisfied: setuptools in /usr/local/lib/python3.10/dist-packages (from tensorflow~=2.15.0->tensorflow_decision_forests) (67.7.2)\n",
            "Requirement already satisfied: termcolor>=1.1.0 in /usr/local/lib/python3.10/dist-packages (from tensorflow~=2.15.0->tensorflow_decision_forests) (2.4.0)\n",
            "Requirement already satisfied: typing-extensions>=3.6.6 in /usr/local/lib/python3.10/dist-packages (from tensorflow~=2.15.0->tensorflow_decision_forests) (4.5.0)\n",
            "Requirement already satisfied: wrapt<1.15,>=1.11.0 in /usr/local/lib/python3.10/dist-packages (from tensorflow~=2.15.0->tensorflow_decision_forests) (1.14.1)\n",
            "Requirement already satisfied: tensorflow-io-gcs-filesystem>=0.23.1 in /usr/local/lib/python3.10/dist-packages (from tensorflow~=2.15.0->tensorflow_decision_forests) (0.35.0)\n",
            "Requirement already satisfied: grpcio<2.0,>=1.24.3 in /usr/local/lib/python3.10/dist-packages (from tensorflow~=2.15.0->tensorflow_decision_forests) (1.60.0)\n",
            "Requirement already satisfied: tensorboard<2.16,>=2.15 in /usr/local/lib/python3.10/dist-packages (from tensorflow~=2.15.0->tensorflow_decision_forests) (2.15.1)\n",
            "Requirement already satisfied: tensorflow-estimator<2.16,>=2.15.0 in /usr/local/lib/python3.10/dist-packages (from tensorflow~=2.15.0->tensorflow_decision_forests) (2.15.0)\n",
            "Requirement already satisfied: keras<2.16,>=2.15.0 in /usr/local/lib/python3.10/dist-packages (from tensorflow~=2.15.0->tensorflow_decision_forests) (2.15.0)\n",
            "Requirement already satisfied: python-dateutil>=2.8.1 in /usr/local/lib/python3.10/dist-packages (from pandas->tensorflow_decision_forests) (2.8.2)\n",
            "Requirement already satisfied: pytz>=2020.1 in /usr/local/lib/python3.10/dist-packages (from pandas->tensorflow_decision_forests) (2023.3.post1)\n",
            "Requirement already satisfied: google-auth<3,>=1.6.3 in /usr/local/lib/python3.10/dist-packages (from tensorboard<2.16,>=2.15->tensorflow~=2.15.0->tensorflow_decision_forests) (2.17.3)\n",
            "Requirement already satisfied: google-auth-oauthlib<2,>=0.5 in /usr/local/lib/python3.10/dist-packages (from tensorboard<2.16,>=2.15->tensorflow~=2.15.0->tensorflow_decision_forests) (1.2.0)\n",
            "Requirement already satisfied: markdown>=2.6.8 in /usr/local/lib/python3.10/dist-packages (from tensorboard<2.16,>=2.15->tensorflow~=2.15.0->tensorflow_decision_forests) (3.5.2)\n",
            "Requirement already satisfied: requests<3,>=2.21.0 in /usr/local/lib/python3.10/dist-packages (from tensorboard<2.16,>=2.15->tensorflow~=2.15.0->tensorflow_decision_forests) (2.31.0)\n",
            "Requirement already satisfied: tensorboard-data-server<0.8.0,>=0.7.0 in /usr/local/lib/python3.10/dist-packages (from tensorboard<2.16,>=2.15->tensorflow~=2.15.0->tensorflow_decision_forests) (0.7.2)\n",
            "Requirement already satisfied: werkzeug>=1.0.1 in /usr/local/lib/python3.10/dist-packages (from tensorboard<2.16,>=2.15->tensorflow~=2.15.0->tensorflow_decision_forests) (3.0.1)\n",
            "Requirement already satisfied: cachetools<6.0,>=2.0.0 in /usr/local/lib/python3.10/dist-packages (from google-auth<3,>=1.6.3->tensorboard<2.16,>=2.15->tensorflow~=2.15.0->tensorflow_decision_forests) (5.3.2)\n",
            "Requirement already satisfied: pyasn1-modules>=0.2.1 in /usr/local/lib/python3.10/dist-packages (from google-auth<3,>=1.6.3->tensorboard<2.16,>=2.15->tensorflow~=2.15.0->tensorflow_decision_forests) (0.3.0)\n",
            "Requirement already satisfied: rsa<5,>=3.1.4 in /usr/local/lib/python3.10/dist-packages (from google-auth<3,>=1.6.3->tensorboard<2.16,>=2.15->tensorflow~=2.15.0->tensorflow_decision_forests) (4.9)\n",
            "Requirement already satisfied: requests-oauthlib>=0.7.0 in /usr/local/lib/python3.10/dist-packages (from google-auth-oauthlib<2,>=0.5->tensorboard<2.16,>=2.15->tensorflow~=2.15.0->tensorflow_decision_forests) (1.3.1)\n",
            "Requirement already satisfied: charset-normalizer<4,>=2 in /usr/local/lib/python3.10/dist-packages (from requests<3,>=2.21.0->tensorboard<2.16,>=2.15->tensorflow~=2.15.0->tensorflow_decision_forests) (3.3.2)\n",
            "Requirement already satisfied: idna<4,>=2.5 in /usr/local/lib/python3.10/dist-packages (from requests<3,>=2.21.0->tensorboard<2.16,>=2.15->tensorflow~=2.15.0->tensorflow_decision_forests) (3.6)\n",
            "Requirement already satisfied: urllib3<3,>=1.21.1 in /usr/local/lib/python3.10/dist-packages (from requests<3,>=2.21.0->tensorboard<2.16,>=2.15->tensorflow~=2.15.0->tensorflow_decision_forests) (2.0.7)\n",
            "Requirement already satisfied: certifi>=2017.4.17 in /usr/local/lib/python3.10/dist-packages (from requests<3,>=2.21.0->tensorboard<2.16,>=2.15->tensorflow~=2.15.0->tensorflow_decision_forests) (2023.11.17)\n",
            "Requirement already satisfied: MarkupSafe>=2.1.1 in /usr/local/lib/python3.10/dist-packages (from werkzeug>=1.0.1->tensorboard<2.16,>=2.15->tensorflow~=2.15.0->tensorflow_decision_forests) (2.1.3)\n",
            "Requirement already satisfied: pyasn1<0.6.0,>=0.4.6 in /usr/local/lib/python3.10/dist-packages (from pyasn1-modules>=0.2.1->google-auth<3,>=1.6.3->tensorboard<2.16,>=2.15->tensorflow~=2.15.0->tensorflow_decision_forests) (0.5.1)\n",
            "Requirement already satisfied: oauthlib>=3.0.0 in /usr/local/lib/python3.10/dist-packages (from requests-oauthlib>=0.7.0->google-auth-oauthlib<2,>=0.5->tensorboard<2.16,>=2.15->tensorflow~=2.15.0->tensorflow_decision_forests) (3.2.2)\n"
          ]
        }
      ]
    },
    {
      "cell_type": "code",
      "source": [
        "import tensorflow_decision_forests as tfdf"
      ],
      "metadata": {
        "id": "mb6AX8_Kakzb"
      },
      "execution_count": 13,
      "outputs": []
    },
    {
      "cell_type": "markdown",
      "source": [
        "# **Loading Data**"
      ],
      "metadata": {
        "id": "yWJ34Yh7VdKn"
      }
    },
    {
      "cell_type": "code",
      "execution_count": 14,
      "metadata": {
        "colab": {
          "base_uri": "https://localhost:8080/"
        },
        "id": "9BWtrFVz3dcE",
        "outputId": "05adf7bd-5b08-406c-a82c-3dc593825a9b"
      },
      "outputs": [
        {
          "output_type": "stream",
          "name": "stdout",
          "text": [
            "                                   uuid          VLF    VLF_PCT           LF  \\\n",
            "0  4a122afe-6e52-4ed0-840d-66155da95ba1  2259.833995  67.884986  1058.573968   \n",
            "1  0848f722-52ec-420c-adb1-a1e90a2e2709  2430.367576  60.980572  1541.466293   \n",
            "2  7814286a-f939-45a7-8620-82b339a7ad4b   989.800997  27.651929  2478.164707   \n",
            "3  de843d67-0ed3-4dfe-af91-78923dc31810  2025.914557  57.014236  1464.561241   \n",
            "4  ba117ec1-3de8-4da3-a315-4c7716589439  1576.443907  71.274370   619.624143   \n",
            "\n",
            "      LF_PCT      LF_NU          HF    HF_PCT     HF_NU           TP  ...  \\\n",
            "0  31.799362  99.017120   10.507787  0.315652  0.982880  3328.915749  ...   \n",
            "1  38.677070  99.122594   13.644635  0.342359  0.877406  3985.478504  ...   \n",
            "2  69.232133  95.693128  111.535043  3.115939  4.306872  3579.500746  ...   \n",
            "3  41.216368  95.883762   62.872820  1.769396  4.116238  3553.348618  ...   \n",
            "4  28.014521  97.524479   15.728281  0.711109  2.475521  2211.796331  ...   \n",
            "\n",
            "       KURT      SKEW  MEAN_REL_RR  MEDIAN_REL_RR  SDRR_REL_RR  RMSSD_REL_RR  \\\n",
            "0 -0.812408 -0.156490    -0.000055      -0.000191     0.017395      0.007729   \n",
            "1  0.014594 -0.595771    -0.000035      -0.000671     0.021513      0.011262   \n",
            "2 -0.470107  0.170303     0.000080      -0.001355     0.029976      0.015781   \n",
            "3  0.176038 -0.506675     0.000024       0.000587     0.023851      0.011562   \n",
            "4  0.410326  0.208714    -0.000109      -0.000151     0.014282      0.007043   \n",
            "\n",
            "   SDSD_REL_RR SDRR_RMSSD_REL_RR  KURT_REL_RR  SKEW_REL_RR  \n",
            "0     0.007729          2.250533    -0.812408    -0.156490  \n",
            "1     0.011262          1.910181     0.014594    -0.595771  \n",
            "2     0.015781          1.899494    -0.470107     0.170303  \n",
            "3     0.011562          2.062848     0.176038    -0.506675  \n",
            "4     0.007043          2.027828     0.410326     0.208714  \n",
            "\n",
            "[5 rows x 37 columns]\n"
          ]
        }
      ],
      "source": [
        "\n",
        "with io.open('/content/drive/MyDrive/aicure/train_data.csv', 'r', encoding='utf-8') as f:\n",
        "  data = pd.read_csv(f)\n",
        "\n",
        "\n",
        "print(data.head())\n"
      ]
    },
    {
      "cell_type": "markdown",
      "source": [
        "# **Exploratory Data Analysis (EDA)**"
      ],
      "metadata": {
        "id": "qFMJx3msVQeb"
      }
    },
    {
      "cell_type": "markdown",
      "source": [
        "Understanding the structure"
      ],
      "metadata": {
        "id": "-8ecWDNAVnGk"
      }
    },
    {
      "cell_type": "code",
      "source": [
        "data.shape"
      ],
      "metadata": {
        "colab": {
          "base_uri": "https://localhost:8080/"
        },
        "id": "h5TAy4zG4aCG",
        "outputId": "6b3c088a-9095-4f77-b041-de87fc6a79be"
      },
      "execution_count": 15,
      "outputs": [
        {
          "output_type": "execute_result",
          "data": {
            "text/plain": [
              "(5000, 37)"
            ]
          },
          "metadata": {},
          "execution_count": 15
        }
      ]
    },
    {
      "cell_type": "code",
      "source": [
        "data.columns"
      ],
      "metadata": {
        "colab": {
          "base_uri": "https://localhost:8080/"
        },
        "id": "Flcy17eI5cX_",
        "outputId": "cd0a32cf-33d2-4359-8ebe-71c68a4fa093"
      },
      "execution_count": 16,
      "outputs": [
        {
          "output_type": "execute_result",
          "data": {
            "text/plain": [
              "Index(['uuid', 'VLF', 'VLF_PCT', 'LF', 'LF_PCT', 'LF_NU', 'HF', 'HF_PCT',\n",
              "       'HF_NU', 'TP', 'LF_HF', 'HF_LF', 'SD1', 'SD2', 'sampen', 'higuci',\n",
              "       'datasetId', 'condition', 'MEAN_RR', 'MEDIAN_RR', 'SDRR', 'RMSSD',\n",
              "       'SDSD', 'SDRR_RMSSD', 'HR', 'pNN25', 'pNN50', 'KURT', 'SKEW',\n",
              "       'MEAN_REL_RR', 'MEDIAN_REL_RR', 'SDRR_REL_RR', 'RMSSD_REL_RR',\n",
              "       'SDSD_REL_RR', 'SDRR_RMSSD_REL_RR', 'KURT_REL_RR', 'SKEW_REL_RR'],\n",
              "      dtype='object')"
            ]
          },
          "metadata": {},
          "execution_count": 16
        }
      ]
    },
    {
      "cell_type": "code",
      "source": [
        "data.info()"
      ],
      "metadata": {
        "colab": {
          "base_uri": "https://localhost:8080/"
        },
        "id": "VTMQGGA8GNj4",
        "outputId": "b723cbdb-e770-4e15-c122-7c44fd57065c"
      },
      "execution_count": 17,
      "outputs": [
        {
          "output_type": "stream",
          "name": "stdout",
          "text": [
            "<class 'pandas.core.frame.DataFrame'>\n",
            "RangeIndex: 5000 entries, 0 to 4999\n",
            "Data columns (total 37 columns):\n",
            " #   Column             Non-Null Count  Dtype  \n",
            "---  ------             --------------  -----  \n",
            " 0   uuid               5000 non-null   object \n",
            " 1   VLF                5000 non-null   float64\n",
            " 2   VLF_PCT            5000 non-null   float64\n",
            " 3   LF                 5000 non-null   float64\n",
            " 4   LF_PCT             5000 non-null   float64\n",
            " 5   LF_NU              5000 non-null   float64\n",
            " 6   HF                 5000 non-null   float64\n",
            " 7   HF_PCT             5000 non-null   float64\n",
            " 8   HF_NU              5000 non-null   float64\n",
            " 9   TP                 5000 non-null   float64\n",
            " 10  LF_HF              5000 non-null   float64\n",
            " 11  HF_LF              5000 non-null   float64\n",
            " 12  SD1                5000 non-null   float64\n",
            " 13  SD2                5000 non-null   float64\n",
            " 14  sampen             5000 non-null   float64\n",
            " 15  higuci             5000 non-null   float64\n",
            " 16  datasetId          5000 non-null   int64  \n",
            " 17  condition          5000 non-null   object \n",
            " 18  MEAN_RR            5000 non-null   float64\n",
            " 19  MEDIAN_RR          5000 non-null   float64\n",
            " 20  SDRR               5000 non-null   float64\n",
            " 21  RMSSD              5000 non-null   float64\n",
            " 22  SDSD               5000 non-null   float64\n",
            " 23  SDRR_RMSSD         5000 non-null   float64\n",
            " 24  HR                 5000 non-null   float64\n",
            " 25  pNN25              5000 non-null   float64\n",
            " 26  pNN50              5000 non-null   float64\n",
            " 27  KURT               5000 non-null   float64\n",
            " 28  SKEW               5000 non-null   float64\n",
            " 29  MEAN_REL_RR        5000 non-null   float64\n",
            " 30  MEDIAN_REL_RR      5000 non-null   float64\n",
            " 31  SDRR_REL_RR        5000 non-null   float64\n",
            " 32  RMSSD_REL_RR       5000 non-null   float64\n",
            " 33  SDSD_REL_RR        5000 non-null   float64\n",
            " 34  SDRR_RMSSD_REL_RR  5000 non-null   float64\n",
            " 35  KURT_REL_RR        5000 non-null   float64\n",
            " 36  SKEW_REL_RR        5000 non-null   float64\n",
            "dtypes: float64(34), int64(1), object(2)\n",
            "memory usage: 1.4+ MB\n"
          ]
        }
      ]
    },
    {
      "cell_type": "code",
      "source": [
        "feature_columns = data.columns\n",
        "\n",
        "label_columns = list(feature_columns)\n",
        "print(label_columns)"
      ],
      "metadata": {
        "colab": {
          "base_uri": "https://localhost:8080/"
        },
        "id": "wtVBCEX_7lC8",
        "outputId": "85b92a40-2c8a-46c8-ace3-99602a06fc0f"
      },
      "execution_count": 27,
      "outputs": [
        {
          "output_type": "stream",
          "name": "stdout",
          "text": [
            "['uuid', 'VLF', 'VLF_PCT', 'LF', 'LF_PCT', 'LF_NU', 'HF', 'HF_PCT', 'HF_NU', 'TP', 'LF_HF', 'HF_LF', 'SD1', 'SD2', 'sampen', 'higuci', 'datasetId', 'condition', 'MEAN_RR', 'MEDIAN_RR', 'SDRR', 'RMSSD', 'SDSD', 'SDRR_RMSSD', 'HR', 'pNN25', 'pNN50', 'KURT', 'SKEW', 'MEAN_REL_RR', 'MEDIAN_REL_RR', 'SDRR_REL_RR', 'RMSSD_REL_RR', 'SDSD_REL_RR', 'SDRR_RMSSD_REL_RR', 'KURT_REL_RR', 'SKEW_REL_RR']\n"
          ]
        }
      ]
    },
    {
      "cell_type": "code",
      "source": [
        "data.isnull().sum()"
      ],
      "metadata": {
        "colab": {
          "base_uri": "https://localhost:8080/"
        },
        "id": "BQifRrWx5giw",
        "outputId": "e54d38ff-c3e9-4adb-9fc3-c916deb96639"
      },
      "execution_count": 28,
      "outputs": [
        {
          "output_type": "execute_result",
          "data": {
            "text/plain": [
              "uuid                 0\n",
              "VLF                  0\n",
              "VLF_PCT              0\n",
              "LF                   0\n",
              "LF_PCT               0\n",
              "LF_NU                0\n",
              "HF                   0\n",
              "HF_PCT               0\n",
              "HF_NU                0\n",
              "TP                   0\n",
              "LF_HF                0\n",
              "HF_LF                0\n",
              "SD1                  0\n",
              "SD2                  0\n",
              "sampen               0\n",
              "higuci               0\n",
              "datasetId            0\n",
              "condition            0\n",
              "MEAN_RR              0\n",
              "MEDIAN_RR            0\n",
              "SDRR                 0\n",
              "RMSSD                0\n",
              "SDSD                 0\n",
              "SDRR_RMSSD           0\n",
              "HR                   0\n",
              "pNN25                0\n",
              "pNN50                0\n",
              "KURT                 0\n",
              "SKEW                 0\n",
              "MEAN_REL_RR          0\n",
              "MEDIAN_REL_RR        0\n",
              "SDRR_REL_RR          0\n",
              "RMSSD_REL_RR         0\n",
              "SDSD_REL_RR          0\n",
              "SDRR_RMSSD_REL_RR    0\n",
              "KURT_REL_RR          0\n",
              "SKEW_REL_RR          0\n",
              "dtype: int64"
            ]
          },
          "metadata": {},
          "execution_count": 28
        }
      ]
    },
    {
      "cell_type": "markdown",
      "source": [
        "We observe that the dataset does not have null values for any feature"
      ],
      "metadata": {
        "id": "EScFyIV8Ymjd"
      }
    },
    {
      "cell_type": "code",
      "source": [
        "[features for features in data.columns if data[features].isnull().sum()>0]"
      ],
      "metadata": {
        "colab": {
          "base_uri": "https://localhost:8080/"
        },
        "id": "sIbXiNsoS9py",
        "outputId": "7f51c0b7-78b1-4915-852d-a4cc380674cd"
      },
      "execution_count": 29,
      "outputs": [
        {
          "output_type": "execute_result",
          "data": {
            "text/plain": [
              "[]"
            ]
          },
          "metadata": {},
          "execution_count": 29
        }
      ]
    },
    {
      "cell_type": "code",
      "source": [
        "data.describe()"
      ],
      "metadata": {
        "colab": {
          "base_uri": "https://localhost:8080/",
          "height": 384
        },
        "id": "zK7Pgh8b5pI6",
        "outputId": "cfac5e93-fc82-4f41-97db-f1e14a22b326"
      },
      "execution_count": 30,
      "outputs": [
        {
          "output_type": "execute_result",
          "data": {
            "text/plain": [
              "                VLF      VLF_PCT           LF       LF_PCT        LF_NU  \\\n",
              "count   5000.000000  5000.000000  5000.000000  5000.000000  5000.000000   \n",
              "mean    2242.846274    64.618473   944.666618    33.756563    95.513467   \n",
              "std     1853.845285    16.858102   572.705322    16.121002     4.200091   \n",
              "min      182.001656    19.492924   105.352082     2.218141    70.677164   \n",
              "25%     1009.686180    52.998781   547.027436    21.775991    93.560684   \n",
              "50%     1705.183308    66.792593   779.619006    31.364370    96.583947   \n",
              "75%     2678.847972    77.328811  1199.089822    44.458585    98.758406   \n",
              "max    12278.649761    97.703187  3211.424686    77.507972    99.986873   \n",
              "\n",
              "                HF       HF_PCT        HF_NU            TP        LF_HF  ...  \\\n",
              "count  5000.000000  5000.000000  5000.000000   5000.000000  5000.000000  ...   \n",
              "mean     39.787329     1.624964     4.486533   3227.300221   111.958521  ...   \n",
              "std      46.887627     1.793648     4.200091   1957.986129   330.772146  ...   \n",
              "min       0.063182     0.002234     0.013127    393.870306     2.410311  ...   \n",
              "25%      10.946137     0.347487     1.241594   1863.994785    14.529600  ...   \n",
              "50%      24.939947     1.023576     3.416053   2826.860362    28.273553  ...   \n",
              "75%      45.549542     2.276872     6.439316   4085.011726    79.541694  ...   \n",
              "max     359.927420    12.533266    29.322836  13119.276456  7617.164272  ...   \n",
              "\n",
              "              KURT         SKEW   MEAN_REL_RR  MEDIAN_REL_RR  SDRR_REL_RR  \\\n",
              "count  5000.000000  5000.000000  5.000000e+03    5000.000000  5000.000000   \n",
              "mean      0.564676     0.070378  5.114420e-07      -0.000448     0.018638   \n",
              "std       1.738594     0.706996  1.662361e-04       0.000878     0.005468   \n",
              "min      -1.851368    -2.130673 -1.049175e-03      -0.004361     0.008992   \n",
              "25%      -0.347156    -0.340853 -7.130486e-05      -0.000911     0.014335   \n",
              "50%       0.065799    -0.042454  1.639271e-06      -0.000297     0.017363   \n",
              "75%       0.782407     0.342719  6.955046e-05       0.000161     0.021882   \n",
              "max      16.367846     3.626919  9.518686e-04       0.002038     0.036017   \n",
              "\n",
              "       RMSSD_REL_RR  SDSD_REL_RR  SDRR_RMSSD_REL_RR  KURT_REL_RR  SKEW_REL_RR  \n",
              "count   5000.000000  5000.000000        5000.000000  5000.000000  5000.000000  \n",
              "mean       0.009758     0.009758           2.005098     0.564676     0.070378  \n",
              "std        0.003953     0.003953           0.378332     1.738594     0.706996  \n",
              "min        0.003645     0.003645           1.188950    -1.851368    -2.130673  \n",
              "25%        0.006999     0.006999           1.744527    -0.347156    -0.340853  \n",
              "50%        0.008766     0.008766           1.936696     0.065799    -0.042454  \n",
              "75%        0.011538     0.011537           2.220642     0.782407     0.342719  \n",
              "max        0.026660     0.026660           3.676899    16.367846     3.626919  \n",
              "\n",
              "[8 rows x 35 columns]"
            ],
            "text/html": [
              "\n",
              "  <div id=\"df-3d155d59-3627-4c64-b10f-92d529e979a2\" class=\"colab-df-container\">\n",
              "    <div>\n",
              "<style scoped>\n",
              "    .dataframe tbody tr th:only-of-type {\n",
              "        vertical-align: middle;\n",
              "    }\n",
              "\n",
              "    .dataframe tbody tr th {\n",
              "        vertical-align: top;\n",
              "    }\n",
              "\n",
              "    .dataframe thead th {\n",
              "        text-align: right;\n",
              "    }\n",
              "</style>\n",
              "<table border=\"1\" class=\"dataframe\">\n",
              "  <thead>\n",
              "    <tr style=\"text-align: right;\">\n",
              "      <th></th>\n",
              "      <th>VLF</th>\n",
              "      <th>VLF_PCT</th>\n",
              "      <th>LF</th>\n",
              "      <th>LF_PCT</th>\n",
              "      <th>LF_NU</th>\n",
              "      <th>HF</th>\n",
              "      <th>HF_PCT</th>\n",
              "      <th>HF_NU</th>\n",
              "      <th>TP</th>\n",
              "      <th>LF_HF</th>\n",
              "      <th>...</th>\n",
              "      <th>KURT</th>\n",
              "      <th>SKEW</th>\n",
              "      <th>MEAN_REL_RR</th>\n",
              "      <th>MEDIAN_REL_RR</th>\n",
              "      <th>SDRR_REL_RR</th>\n",
              "      <th>RMSSD_REL_RR</th>\n",
              "      <th>SDSD_REL_RR</th>\n",
              "      <th>SDRR_RMSSD_REL_RR</th>\n",
              "      <th>KURT_REL_RR</th>\n",
              "      <th>SKEW_REL_RR</th>\n",
              "    </tr>\n",
              "  </thead>\n",
              "  <tbody>\n",
              "    <tr>\n",
              "      <th>count</th>\n",
              "      <td>5000.000000</td>\n",
              "      <td>5000.000000</td>\n",
              "      <td>5000.000000</td>\n",
              "      <td>5000.000000</td>\n",
              "      <td>5000.000000</td>\n",
              "      <td>5000.000000</td>\n",
              "      <td>5000.000000</td>\n",
              "      <td>5000.000000</td>\n",
              "      <td>5000.000000</td>\n",
              "      <td>5000.000000</td>\n",
              "      <td>...</td>\n",
              "      <td>5000.000000</td>\n",
              "      <td>5000.000000</td>\n",
              "      <td>5.000000e+03</td>\n",
              "      <td>5000.000000</td>\n",
              "      <td>5000.000000</td>\n",
              "      <td>5000.000000</td>\n",
              "      <td>5000.000000</td>\n",
              "      <td>5000.000000</td>\n",
              "      <td>5000.000000</td>\n",
              "      <td>5000.000000</td>\n",
              "    </tr>\n",
              "    <tr>\n",
              "      <th>mean</th>\n",
              "      <td>2242.846274</td>\n",
              "      <td>64.618473</td>\n",
              "      <td>944.666618</td>\n",
              "      <td>33.756563</td>\n",
              "      <td>95.513467</td>\n",
              "      <td>39.787329</td>\n",
              "      <td>1.624964</td>\n",
              "      <td>4.486533</td>\n",
              "      <td>3227.300221</td>\n",
              "      <td>111.958521</td>\n",
              "      <td>...</td>\n",
              "      <td>0.564676</td>\n",
              "      <td>0.070378</td>\n",
              "      <td>5.114420e-07</td>\n",
              "      <td>-0.000448</td>\n",
              "      <td>0.018638</td>\n",
              "      <td>0.009758</td>\n",
              "      <td>0.009758</td>\n",
              "      <td>2.005098</td>\n",
              "      <td>0.564676</td>\n",
              "      <td>0.070378</td>\n",
              "    </tr>\n",
              "    <tr>\n",
              "      <th>std</th>\n",
              "      <td>1853.845285</td>\n",
              "      <td>16.858102</td>\n",
              "      <td>572.705322</td>\n",
              "      <td>16.121002</td>\n",
              "      <td>4.200091</td>\n",
              "      <td>46.887627</td>\n",
              "      <td>1.793648</td>\n",
              "      <td>4.200091</td>\n",
              "      <td>1957.986129</td>\n",
              "      <td>330.772146</td>\n",
              "      <td>...</td>\n",
              "      <td>1.738594</td>\n",
              "      <td>0.706996</td>\n",
              "      <td>1.662361e-04</td>\n",
              "      <td>0.000878</td>\n",
              "      <td>0.005468</td>\n",
              "      <td>0.003953</td>\n",
              "      <td>0.003953</td>\n",
              "      <td>0.378332</td>\n",
              "      <td>1.738594</td>\n",
              "      <td>0.706996</td>\n",
              "    </tr>\n",
              "    <tr>\n",
              "      <th>min</th>\n",
              "      <td>182.001656</td>\n",
              "      <td>19.492924</td>\n",
              "      <td>105.352082</td>\n",
              "      <td>2.218141</td>\n",
              "      <td>70.677164</td>\n",
              "      <td>0.063182</td>\n",
              "      <td>0.002234</td>\n",
              "      <td>0.013127</td>\n",
              "      <td>393.870306</td>\n",
              "      <td>2.410311</td>\n",
              "      <td>...</td>\n",
              "      <td>-1.851368</td>\n",
              "      <td>-2.130673</td>\n",
              "      <td>-1.049175e-03</td>\n",
              "      <td>-0.004361</td>\n",
              "      <td>0.008992</td>\n",
              "      <td>0.003645</td>\n",
              "      <td>0.003645</td>\n",
              "      <td>1.188950</td>\n",
              "      <td>-1.851368</td>\n",
              "      <td>-2.130673</td>\n",
              "    </tr>\n",
              "    <tr>\n",
              "      <th>25%</th>\n",
              "      <td>1009.686180</td>\n",
              "      <td>52.998781</td>\n",
              "      <td>547.027436</td>\n",
              "      <td>21.775991</td>\n",
              "      <td>93.560684</td>\n",
              "      <td>10.946137</td>\n",
              "      <td>0.347487</td>\n",
              "      <td>1.241594</td>\n",
              "      <td>1863.994785</td>\n",
              "      <td>14.529600</td>\n",
              "      <td>...</td>\n",
              "      <td>-0.347156</td>\n",
              "      <td>-0.340853</td>\n",
              "      <td>-7.130486e-05</td>\n",
              "      <td>-0.000911</td>\n",
              "      <td>0.014335</td>\n",
              "      <td>0.006999</td>\n",
              "      <td>0.006999</td>\n",
              "      <td>1.744527</td>\n",
              "      <td>-0.347156</td>\n",
              "      <td>-0.340853</td>\n",
              "    </tr>\n",
              "    <tr>\n",
              "      <th>50%</th>\n",
              "      <td>1705.183308</td>\n",
              "      <td>66.792593</td>\n",
              "      <td>779.619006</td>\n",
              "      <td>31.364370</td>\n",
              "      <td>96.583947</td>\n",
              "      <td>24.939947</td>\n",
              "      <td>1.023576</td>\n",
              "      <td>3.416053</td>\n",
              "      <td>2826.860362</td>\n",
              "      <td>28.273553</td>\n",
              "      <td>...</td>\n",
              "      <td>0.065799</td>\n",
              "      <td>-0.042454</td>\n",
              "      <td>1.639271e-06</td>\n",
              "      <td>-0.000297</td>\n",
              "      <td>0.017363</td>\n",
              "      <td>0.008766</td>\n",
              "      <td>0.008766</td>\n",
              "      <td>1.936696</td>\n",
              "      <td>0.065799</td>\n",
              "      <td>-0.042454</td>\n",
              "    </tr>\n",
              "    <tr>\n",
              "      <th>75%</th>\n",
              "      <td>2678.847972</td>\n",
              "      <td>77.328811</td>\n",
              "      <td>1199.089822</td>\n",
              "      <td>44.458585</td>\n",
              "      <td>98.758406</td>\n",
              "      <td>45.549542</td>\n",
              "      <td>2.276872</td>\n",
              "      <td>6.439316</td>\n",
              "      <td>4085.011726</td>\n",
              "      <td>79.541694</td>\n",
              "      <td>...</td>\n",
              "      <td>0.782407</td>\n",
              "      <td>0.342719</td>\n",
              "      <td>6.955046e-05</td>\n",
              "      <td>0.000161</td>\n",
              "      <td>0.021882</td>\n",
              "      <td>0.011538</td>\n",
              "      <td>0.011537</td>\n",
              "      <td>2.220642</td>\n",
              "      <td>0.782407</td>\n",
              "      <td>0.342719</td>\n",
              "    </tr>\n",
              "    <tr>\n",
              "      <th>max</th>\n",
              "      <td>12278.649761</td>\n",
              "      <td>97.703187</td>\n",
              "      <td>3211.424686</td>\n",
              "      <td>77.507972</td>\n",
              "      <td>99.986873</td>\n",
              "      <td>359.927420</td>\n",
              "      <td>12.533266</td>\n",
              "      <td>29.322836</td>\n",
              "      <td>13119.276456</td>\n",
              "      <td>7617.164272</td>\n",
              "      <td>...</td>\n",
              "      <td>16.367846</td>\n",
              "      <td>3.626919</td>\n",
              "      <td>9.518686e-04</td>\n",
              "      <td>0.002038</td>\n",
              "      <td>0.036017</td>\n",
              "      <td>0.026660</td>\n",
              "      <td>0.026660</td>\n",
              "      <td>3.676899</td>\n",
              "      <td>16.367846</td>\n",
              "      <td>3.626919</td>\n",
              "    </tr>\n",
              "  </tbody>\n",
              "</table>\n",
              "<p>8 rows × 35 columns</p>\n",
              "</div>\n",
              "    <div class=\"colab-df-buttons\">\n",
              "\n",
              "  <div class=\"colab-df-container\">\n",
              "    <button class=\"colab-df-convert\" onclick=\"convertToInteractive('df-3d155d59-3627-4c64-b10f-92d529e979a2')\"\n",
              "            title=\"Convert this dataframe to an interactive table.\"\n",
              "            style=\"display:none;\">\n",
              "\n",
              "  <svg xmlns=\"http://www.w3.org/2000/svg\" height=\"24px\" viewBox=\"0 -960 960 960\">\n",
              "    <path d=\"M120-120v-720h720v720H120Zm60-500h600v-160H180v160Zm220 220h160v-160H400v160Zm0 220h160v-160H400v160ZM180-400h160v-160H180v160Zm440 0h160v-160H620v160ZM180-180h160v-160H180v160Zm440 0h160v-160H620v160Z\"/>\n",
              "  </svg>\n",
              "    </button>\n",
              "\n",
              "  <style>\n",
              "    .colab-df-container {\n",
              "      display:flex;\n",
              "      gap: 12px;\n",
              "    }\n",
              "\n",
              "    .colab-df-convert {\n",
              "      background-color: #E8F0FE;\n",
              "      border: none;\n",
              "      border-radius: 50%;\n",
              "      cursor: pointer;\n",
              "      display: none;\n",
              "      fill: #1967D2;\n",
              "      height: 32px;\n",
              "      padding: 0 0 0 0;\n",
              "      width: 32px;\n",
              "    }\n",
              "\n",
              "    .colab-df-convert:hover {\n",
              "      background-color: #E2EBFA;\n",
              "      box-shadow: 0px 1px 2px rgba(60, 64, 67, 0.3), 0px 1px 3px 1px rgba(60, 64, 67, 0.15);\n",
              "      fill: #174EA6;\n",
              "    }\n",
              "\n",
              "    .colab-df-buttons div {\n",
              "      margin-bottom: 4px;\n",
              "    }\n",
              "\n",
              "    [theme=dark] .colab-df-convert {\n",
              "      background-color: #3B4455;\n",
              "      fill: #D2E3FC;\n",
              "    }\n",
              "\n",
              "    [theme=dark] .colab-df-convert:hover {\n",
              "      background-color: #434B5C;\n",
              "      box-shadow: 0px 1px 3px 1px rgba(0, 0, 0, 0.15);\n",
              "      filter: drop-shadow(0px 1px 2px rgba(0, 0, 0, 0.3));\n",
              "      fill: #FFFFFF;\n",
              "    }\n",
              "  </style>\n",
              "\n",
              "    <script>\n",
              "      const buttonEl =\n",
              "        document.querySelector('#df-3d155d59-3627-4c64-b10f-92d529e979a2 button.colab-df-convert');\n",
              "      buttonEl.style.display =\n",
              "        google.colab.kernel.accessAllowed ? 'block' : 'none';\n",
              "\n",
              "      async function convertToInteractive(key) {\n",
              "        const element = document.querySelector('#df-3d155d59-3627-4c64-b10f-92d529e979a2');\n",
              "        const dataTable =\n",
              "          await google.colab.kernel.invokeFunction('convertToInteractive',\n",
              "                                                    [key], {});\n",
              "        if (!dataTable) return;\n",
              "\n",
              "        const docLinkHtml = 'Like what you see? Visit the ' +\n",
              "          '<a target=\"_blank\" href=https://colab.research.google.com/notebooks/data_table.ipynb>data table notebook</a>'\n",
              "          + ' to learn more about interactive tables.';\n",
              "        element.innerHTML = '';\n",
              "        dataTable['output_type'] = 'display_data';\n",
              "        await google.colab.output.renderOutput(dataTable, element);\n",
              "        const docLink = document.createElement('div');\n",
              "        docLink.innerHTML = docLinkHtml;\n",
              "        element.appendChild(docLink);\n",
              "      }\n",
              "    </script>\n",
              "  </div>\n",
              "\n",
              "\n",
              "<div id=\"df-803f8dfa-55e0-468d-96c8-0f843bf60bff\">\n",
              "  <button class=\"colab-df-quickchart\" onclick=\"quickchart('df-803f8dfa-55e0-468d-96c8-0f843bf60bff')\"\n",
              "            title=\"Suggest charts\"\n",
              "            style=\"display:none;\">\n",
              "\n",
              "<svg xmlns=\"http://www.w3.org/2000/svg\" height=\"24px\"viewBox=\"0 0 24 24\"\n",
              "     width=\"24px\">\n",
              "    <g>\n",
              "        <path d=\"M19 3H5c-1.1 0-2 .9-2 2v14c0 1.1.9 2 2 2h14c1.1 0 2-.9 2-2V5c0-1.1-.9-2-2-2zM9 17H7v-7h2v7zm4 0h-2V7h2v10zm4 0h-2v-4h2v4z\"/>\n",
              "    </g>\n",
              "</svg>\n",
              "  </button>\n",
              "\n",
              "<style>\n",
              "  .colab-df-quickchart {\n",
              "      --bg-color: #E8F0FE;\n",
              "      --fill-color: #1967D2;\n",
              "      --hover-bg-color: #E2EBFA;\n",
              "      --hover-fill-color: #174EA6;\n",
              "      --disabled-fill-color: #AAA;\n",
              "      --disabled-bg-color: #DDD;\n",
              "  }\n",
              "\n",
              "  [theme=dark] .colab-df-quickchart {\n",
              "      --bg-color: #3B4455;\n",
              "      --fill-color: #D2E3FC;\n",
              "      --hover-bg-color: #434B5C;\n",
              "      --hover-fill-color: #FFFFFF;\n",
              "      --disabled-bg-color: #3B4455;\n",
              "      --disabled-fill-color: #666;\n",
              "  }\n",
              "\n",
              "  .colab-df-quickchart {\n",
              "    background-color: var(--bg-color);\n",
              "    border: none;\n",
              "    border-radius: 50%;\n",
              "    cursor: pointer;\n",
              "    display: none;\n",
              "    fill: var(--fill-color);\n",
              "    height: 32px;\n",
              "    padding: 0;\n",
              "    width: 32px;\n",
              "  }\n",
              "\n",
              "  .colab-df-quickchart:hover {\n",
              "    background-color: var(--hover-bg-color);\n",
              "    box-shadow: 0 1px 2px rgba(60, 64, 67, 0.3), 0 1px 3px 1px rgba(60, 64, 67, 0.15);\n",
              "    fill: var(--button-hover-fill-color);\n",
              "  }\n",
              "\n",
              "  .colab-df-quickchart-complete:disabled,\n",
              "  .colab-df-quickchart-complete:disabled:hover {\n",
              "    background-color: var(--disabled-bg-color);\n",
              "    fill: var(--disabled-fill-color);\n",
              "    box-shadow: none;\n",
              "  }\n",
              "\n",
              "  .colab-df-spinner {\n",
              "    border: 2px solid var(--fill-color);\n",
              "    border-color: transparent;\n",
              "    border-bottom-color: var(--fill-color);\n",
              "    animation:\n",
              "      spin 1s steps(1) infinite;\n",
              "  }\n",
              "\n",
              "  @keyframes spin {\n",
              "    0% {\n",
              "      border-color: transparent;\n",
              "      border-bottom-color: var(--fill-color);\n",
              "      border-left-color: var(--fill-color);\n",
              "    }\n",
              "    20% {\n",
              "      border-color: transparent;\n",
              "      border-left-color: var(--fill-color);\n",
              "      border-top-color: var(--fill-color);\n",
              "    }\n",
              "    30% {\n",
              "      border-color: transparent;\n",
              "      border-left-color: var(--fill-color);\n",
              "      border-top-color: var(--fill-color);\n",
              "      border-right-color: var(--fill-color);\n",
              "    }\n",
              "    40% {\n",
              "      border-color: transparent;\n",
              "      border-right-color: var(--fill-color);\n",
              "      border-top-color: var(--fill-color);\n",
              "    }\n",
              "    60% {\n",
              "      border-color: transparent;\n",
              "      border-right-color: var(--fill-color);\n",
              "    }\n",
              "    80% {\n",
              "      border-color: transparent;\n",
              "      border-right-color: var(--fill-color);\n",
              "      border-bottom-color: var(--fill-color);\n",
              "    }\n",
              "    90% {\n",
              "      border-color: transparent;\n",
              "      border-bottom-color: var(--fill-color);\n",
              "    }\n",
              "  }\n",
              "</style>\n",
              "\n",
              "  <script>\n",
              "    async function quickchart(key) {\n",
              "      const quickchartButtonEl =\n",
              "        document.querySelector('#' + key + ' button');\n",
              "      quickchartButtonEl.disabled = true;  // To prevent multiple clicks.\n",
              "      quickchartButtonEl.classList.add('colab-df-spinner');\n",
              "      try {\n",
              "        const charts = await google.colab.kernel.invokeFunction(\n",
              "            'suggestCharts', [key], {});\n",
              "      } catch (error) {\n",
              "        console.error('Error during call to suggestCharts:', error);\n",
              "      }\n",
              "      quickchartButtonEl.classList.remove('colab-df-spinner');\n",
              "      quickchartButtonEl.classList.add('colab-df-quickchart-complete');\n",
              "    }\n",
              "    (() => {\n",
              "      let quickchartButtonEl =\n",
              "        document.querySelector('#df-803f8dfa-55e0-468d-96c8-0f843bf60bff button');\n",
              "      quickchartButtonEl.style.display =\n",
              "        google.colab.kernel.accessAllowed ? 'block' : 'none';\n",
              "    })();\n",
              "  </script>\n",
              "</div>\n",
              "\n",
              "    </div>\n",
              "  </div>\n"
            ]
          },
          "metadata": {},
          "execution_count": 30
        }
      ]
    },
    {
      "cell_type": "code",
      "source": [
        "print(data.condition.value_counts())"
      ],
      "metadata": {
        "colab": {
          "base_uri": "https://localhost:8080/"
        },
        "id": "Ma-nv16wLcKr",
        "outputId": "0ee2a37f-460f-48b7-c2de-5dd1d952569a"
      },
      "execution_count": 31,
      "outputs": [
        {
          "output_type": "stream",
          "name": "stdout",
          "text": [
            "no stress        2709\n",
            "interruption     1387\n",
            "time pressure     904\n",
            "Name: condition, dtype: int64\n"
          ]
        }
      ]
    },
    {
      "cell_type": "code",
      "source": [
        "#data.replace({'no stress': 0, 'interruption': 1, 'time pressure': 2}, inplace = True)"
      ],
      "metadata": {
        "id": "G_gJmwzdL16j"
      },
      "execution_count": null,
      "outputs": []
    },
    {
      "cell_type": "code",
      "source": [
        "data['condition']"
      ],
      "metadata": {
        "id": "6sKE0BCGTJgo",
        "colab": {
          "base_uri": "https://localhost:8080/"
        },
        "outputId": "388bc389-f583-4fe2-84f7-916a210ee32a"
      },
      "execution_count": 32,
      "outputs": [
        {
          "output_type": "execute_result",
          "data": {
            "text/plain": [
              "0       interruption\n",
              "1       interruption\n",
              "2       interruption\n",
              "3          no stress\n",
              "4       interruption\n",
              "            ...     \n",
              "4995       no stress\n",
              "4996    interruption\n",
              "4997       no stress\n",
              "4998       no stress\n",
              "4999       no stress\n",
              "Name: condition, Length: 5000, dtype: object"
            ]
          },
          "metadata": {},
          "execution_count": 32
        }
      ]
    },
    {
      "cell_type": "code",
      "source": [
        "plt.figure(figsize=(9, 8))\n",
        "sns.distplot(data['HR'], color='g', bins=100, hist_kws={'alpha': 0.4})"
      ],
      "metadata": {
        "colab": {
          "base_uri": "https://localhost:8080/",
          "height": 904
        },
        "id": "k5cd_yokbDLX",
        "outputId": "e9b7fd2a-3435-4b1c-f6af-2ac9e720b834"
      },
      "execution_count": 33,
      "outputs": [
        {
          "output_type": "stream",
          "name": "stderr",
          "text": [
            "<ipython-input-33-d6571c0921ab>:2: UserWarning: \n",
            "\n",
            "`distplot` is a deprecated function and will be removed in seaborn v0.14.0.\n",
            "\n",
            "Please adapt your code to use either `displot` (a figure-level function with\n",
            "similar flexibility) or `histplot` (an axes-level function for histograms).\n",
            "\n",
            "For a guide to updating your code to use the new functions, please see\n",
            "https://gist.github.com/mwaskom/de44147ed2974457ad6372750bbe5751\n",
            "\n",
            "  sns.distplot(data['HR'], color='g', bins=100, hist_kws={'alpha': 0.4})\n"
          ]
        },
        {
          "output_type": "execute_result",
          "data": {
            "text/plain": [
              "<Axes: xlabel='HR', ylabel='Density'>"
            ]
          },
          "metadata": {},
          "execution_count": 33
        },
        {
          "output_type": "display_data",
          "data": {
            "text/plain": [
              "<Figure size 900x800 with 1 Axes>"
            ],
            "image/png": "[encoded data removed]"
          },
          "metadata": {}
        }
      ]
    },
    {
      "cell_type": "code",
      "source": [
        "plt.plot(data['HR'])\n",
        "plt.title('Heart Rate')\n",
        "plt.show()"
      ],
      "metadata": {
        "colab": {
          "base_uri": "https://localhost:8080/",
          "height": 452
        },
        "id": "5xH9kmtL5smh",
        "outputId": "5b8918a3-fb22-4ed0-b3af-79016b86b016"
      },
      "execution_count": 34,
      "outputs": [
        {
          "output_type": "display_data",
          "data": {
            "text/plain": [
              "<Figure size 640x480 with 1 Axes>"
            ],
            "image/png": "[encoded data removed]"
          },
          "metadata": {}
        }
      ]
    },
    {
      "cell_type": "code",
      "source": [
        "data.hist(figsize=(16, 20), bins=50, xlabelsize=8, ylabelsize=8)"
      ],
      "metadata": {
        "colab": {
          "base_uri": "https://localhost:8080/",
          "height": 1000
        },
        "id": "37wuGX1_bbxZ",
        "outputId": "d7baf7d1-c61d-4831-9e69-19740fe70364"
      },
      "execution_count": 35,
      "outputs": [
        {
          "output_type": "execute_result",
          "data": {
            "text/plain": [
              "array([[<Axes: title={'center': 'VLF'}>,\n",
              "        <Axes: title={'center': 'VLF_PCT'}>,\n",
              "        <Axes: title={'center': 'LF'}>,\n",
              "        <Axes: title={'center': 'LF_PCT'}>,\n",
              "        <Axes: title={'center': 'LF_NU'}>,\n",
              "        <Axes: title={'center': 'HF'}>],\n",
              "       [<Axes: title={'center': 'HF_PCT'}>,\n",
              "        <Axes: title={'center': 'HF_NU'}>,\n",
              "        <Axes: title={'center': 'TP'}>,\n",
              "        <Axes: title={'center': 'LF_HF'}>,\n",
              "        <Axes: title={'center': 'HF_LF'}>,\n",
              "        <Axes: title={'center': 'SD1'}>],\n",
              "       [<Axes: title={'center': 'SD2'}>,\n",
              "        <Axes: title={'center': 'sampen'}>,\n",
              "        <Axes: title={'center': 'higuci'}>,\n",
              "        <Axes: title={'center': 'datasetId'}>,\n",
              "        <Axes: title={'center': 'MEAN_RR'}>,\n",
              "        <Axes: title={'center': 'MEDIAN_RR'}>],\n",
              "       [<Axes: title={'center': 'SDRR'}>,\n",
              "        <Axes: title={'center': 'RMSSD'}>,\n",
              "        <Axes: title={'center': 'SDSD'}>,\n",
              "        <Axes: title={'center': 'SDRR_RMSSD'}>,\n",
              "        <Axes: title={'center': 'HR'}>,\n",
              "        <Axes: title={'center': 'pNN25'}>],\n",
              "       [<Axes: title={'center': 'pNN50'}>,\n",
              "        <Axes: title={'center': 'KURT'}>,\n",
              "        <Axes: title={'center': 'SKEW'}>,\n",
              "        <Axes: title={'center': 'MEAN_REL_RR'}>,\n",
              "        <Axes: title={'center': 'MEDIAN_REL_RR'}>,\n",
              "        <Axes: title={'center': 'SDRR_REL_RR'}>],\n",
              "       [<Axes: title={'center': 'RMSSD_REL_RR'}>,\n",
              "        <Axes: title={'center': 'SDSD_REL_RR'}>,\n",
              "        <Axes: title={'center': 'SDRR_RMSSD_REL_RR'}>,\n",
              "        <Axes: title={'center': 'KURT_REL_RR'}>,\n",
              "        <Axes: title={'center': 'SKEW_REL_RR'}>, <Axes: >]], dtype=object)"
            ]
          },
          "metadata": {},
          "execution_count": 35
        },
        {
          "output_type": "display_data",
          "data": {
            "text/plain": [
              "<Figure size 1600x2000 with 36 Axes>"
            ],
            "image/png": "[encoded data removed]"
          },
          "metadata": {}
        }
      ]
    },
    {
      "cell_type": "code",
      "source": [
        "#label_columns = 'label'\n",
        "\n",
        "features_to_visualize = ['MEDIAN_RR', 'MEAN_RR', 'HF_PCT', 'HF_LF', 'LF_HF', 'HF_NU', 'LF_NU', 'HF', 'SDRR_RMSSD_REL_RR', 'SDSD_REL_RR']\n",
        "\n",
        "\n",
        "feature_columns = data.columns[1:]\n",
        "\n",
        "\n",
        "plt.rcParams.update({'font.size': 8})\n",
        "fig, axes = plt.subplots(nrows=5, ncols=2, figsize=(8, 10))\n",
        "axes = axes.ravel()\n",
        "\n",
        "\n",
        "for idx, ax in enumerate(axes):\n",
        "    ax.figure\n",
        "    numeric_values = pd.to_numeric(data[feature_columns[idx]], errors='coerce').dropna()\n",
        "\n",
        "    if not numeric_values.empty:\n",
        "        binwidth = (max(numeric_values) - min(numeric_values)) / 50\n",
        "\n",
        "        # Plot the histogram for each feature\n",
        "        ax.hist(numeric_values, bins=np.arange(min(numeric_values), max(numeric_values) + binwidth, binwidth),\n",
        "                alpha=0.5, color='blue')\n",
        "        ax.set_title(feature_columns[idx])\n",
        "\n",
        "plt.tight_layout()\n",
        "plt.show()"
      ],
      "metadata": {
        "colab": {
          "base_uri": "https://localhost:8080/",
          "height": 1000
        },
        "id": "EGufjWic6LnI",
        "outputId": "a4133a02-0feb-4ac0-ba5c-1de9ac864228"
      },
      "execution_count": 36,
      "outputs": [
        {
          "output_type": "display_data",
          "data": {
            "text/plain": [
              "<Figure size 800x1000 with 10 Axes>"
            ],
            "image/png": "[encoded data removed]"
          },
          "metadata": {}
        }
      ]
    },
    {
      "cell_type": "code",
      "source": [
        "data.groupby(['HR','condition']).size()"
      ],
      "metadata": {
        "colab": {
          "base_uri": "https://localhost:8080/"
        },
        "id": "e4d5B8OoTHya",
        "outputId": "8b9558a6-cb4b-4e60-e75a-623c7ce5487e"
      },
      "execution_count": 37,
      "outputs": [
        {
          "output_type": "execute_result",
          "data": {
            "text/plain": [
              "HR          condition    \n",
              "48.743153   time pressure    1\n",
              "49.278204   time pressure    1\n",
              "50.101326   time pressure    1\n",
              "50.616525   time pressure    1\n",
              "50.647153   time pressure    1\n",
              "                            ..\n",
              "110.682548  interruption     1\n",
              "111.089674  interruption     1\n",
              "112.600632  interruption     1\n",
              "112.897918  interruption     1\n",
              "113.178390  interruption     1\n",
              "Length: 5000, dtype: int64"
            ]
          },
          "metadata": {},
          "execution_count": 37
        }
      ]
    },
    {
      "cell_type": "code",
      "source": [
        "correlation = data.corr()\n",
        "sns.heatmap(correlation, xticklabels = correlation.columns, yticklabels = correlation.columns, annot = False)"
      ],
      "metadata": {
        "colab": {
          "base_uri": "https://localhost:8080/",
          "height": 616
        },
        "id": "jSCD-r2vTWgk",
        "outputId": "8f1b3cae-c286-499a-a86e-3de74a32d38c"
      },
      "execution_count": 38,
      "outputs": [
        {
          "output_type": "stream",
          "name": "stderr",
          "text": [
            "<ipython-input-38-9cfc45fef0b8>:1: FutureWarning: The default value of numeric_only in DataFrame.corr is deprecated. In a future version, it will default to False. Select only valid columns or specify the value of numeric_only to silence this warning.\n",
            "  correlation = data.corr()\n"
          ]
        },
        {
          "output_type": "execute_result",
          "data": {
            "text/plain": [
              "<Axes: >"
            ]
          },
          "metadata": {},
          "execution_count": 38
        },
        {
          "output_type": "display_data",
          "data": {
            "text/plain": [
              "<Figure size 640x480 with 2 Axes>"
            ],
            "image/png": "[encoded data removed]"
          },
          "metadata": {}
        }
      ]
    },
    {
      "cell_type": "markdown",
      "source": [
        "Dropping columns that do not contribute to the changing heartrate i.e. datasetId\n"
      ],
      "metadata": {
        "id": "aoNKhCvRWAbx"
      }
    },
    {
      "cell_type": "code",
      "source": [
        "data = data.drop('datasetId', axis=1)"
      ],
      "metadata": {
        "id": "nyrXq6LeTNLM"
      },
      "execution_count": 39,
      "outputs": []
    },
    {
      "cell_type": "code",
      "source": [
        "data.columns"
      ],
      "metadata": {
        "colab": {
          "base_uri": "https://localhost:8080/"
        },
        "id": "mpnguIuKTUIW",
        "outputId": "a64df4f4-8690-4e9e-fa9f-773bb55ff0b5"
      },
      "execution_count": 40,
      "outputs": [
        {
          "output_type": "execute_result",
          "data": {
            "text/plain": [
              "Index(['uuid', 'VLF', 'VLF_PCT', 'LF', 'LF_PCT', 'LF_NU', 'HF', 'HF_PCT',\n",
              "       'HF_NU', 'TP', 'LF_HF', 'HF_LF', 'SD1', 'SD2', 'sampen', 'higuci',\n",
              "       'condition', 'MEAN_RR', 'MEDIAN_RR', 'SDRR', 'RMSSD', 'SDSD',\n",
              "       'SDRR_RMSSD', 'HR', 'pNN25', 'pNN50', 'KURT', 'SKEW', 'MEAN_REL_RR',\n",
              "       'MEDIAN_REL_RR', 'SDRR_REL_RR', 'RMSSD_REL_RR', 'SDSD_REL_RR',\n",
              "       'SDRR_RMSSD_REL_RR', 'KURT_REL_RR', 'SKEW_REL_RR'],\n",
              "      dtype='object')"
            ]
          },
          "metadata": {},
          "execution_count": 40
        }
      ]
    },
    {
      "cell_type": "code",
      "source": [
        "#X = data.iloc[:, 1:]\n",
        "#Y = data['HR']"
      ],
      "metadata": {
        "id": "Jw4BskiX9nOX"
      },
      "execution_count": 41,
      "outputs": []
    },
    {
      "cell_type": "code",
      "source": [
        "X = data.drop('HR', axis=1)\n",
        "X=X.drop('uuid', axis=1)  # Features (all columns except 'HR' and 'uuid')\n",
        "y = data['HR']"
      ],
      "metadata": {
        "id": "TvPNpufvNlic"
      },
      "execution_count": 42,
      "outputs": []
    },
    {
      "cell_type": "code",
      "source": [
        "X.columns"
      ],
      "metadata": {
        "colab": {
          "base_uri": "https://localhost:8080/"
        },
        "id": "rbp7liyUN95X",
        "outputId": "9a147f8f-1c55-4dba-f0b3-9d5c6f0b532f"
      },
      "execution_count": 43,
      "outputs": [
        {
          "output_type": "execute_result",
          "data": {
            "text/plain": [
              "Index(['VLF', 'VLF_PCT', 'LF', 'LF_PCT', 'LF_NU', 'HF', 'HF_PCT', 'HF_NU',\n",
              "       'TP', 'LF_HF', 'HF_LF', 'SD1', 'SD2', 'sampen', 'higuci', 'condition',\n",
              "       'MEAN_RR', 'MEDIAN_RR', 'SDRR', 'RMSSD', 'SDSD', 'SDRR_RMSSD', 'pNN25',\n",
              "       'pNN50', 'KURT', 'SKEW', 'MEAN_REL_RR', 'MEDIAN_REL_RR', 'SDRR_REL_RR',\n",
              "       'RMSSD_REL_RR', 'SDSD_REL_RR', 'SDRR_RMSSD_REL_RR', 'KURT_REL_RR',\n",
              "       'SKEW_REL_RR'],\n",
              "      dtype='object')"
            ]
          },
          "metadata": {},
          "execution_count": 43
        }
      ]
    },
    {
      "cell_type": "code",
      "source": [
        "y"
      ],
      "metadata": {
        "colab": {
          "base_uri": "https://localhost:8080/"
        },
        "id": "aqTTqthpPI-s",
        "outputId": "b580b4dd-d5ae-41c6-c93f-142018e86309"
      },
      "execution_count": 44,
      "outputs": [
        {
          "output_type": "execute_result",
          "data": {
            "text/plain": [
              "0       72.947850\n",
              "1       63.063063\n",
              "2       83.191736\n",
              "3       80.828414\n",
              "4       76.299115\n",
              "          ...    \n",
              "4995    83.920808\n",
              "4996    79.969017\n",
              "4997    57.844321\n",
              "4998    66.656028\n",
              "4999    83.364080\n",
              "Name: HR, Length: 5000, dtype: float64"
            ]
          },
          "metadata": {},
          "execution_count": 44
        }
      ]
    },
    {
      "cell_type": "markdown",
      "source": [
        "# One Hot Encoding\n"
      ],
      "metadata": {
        "id": "QWfDi4JpNjcz"
      }
    },
    {
      "cell_type": "code",
      "source": [
        "categorical_columns = ['condition']\n",
        "condition_index = X.columns.get_loc('condition')\n",
        "print(condition_index)\n",
        "preprocessor = ColumnTransformer(\n",
        "    transformers=[\n",
        "        ('encoder', OneHotEncoder(),[condition_index])\n",
        "    ],\n",
        "    remainder='passthrough'  # Keep the non-categorical columns as they are\n",
        ")\n",
        "X = pd.DataFrame(preprocessor.fit_transform(X), columns=preprocessor.get_feature_names_out())"
      ],
      "metadata": {
        "colab": {
          "base_uri": "https://localhost:8080/"
        },
        "id": "2pRXoCpeOjrh",
        "outputId": "21af8c29-e5d5-40ef-f74d-dd3b5a9f5993"
      },
      "execution_count": 45,
      "outputs": [
        {
          "output_type": "stream",
          "name": "stdout",
          "text": [
            "15\n"
          ]
        }
      ]
    },
    {
      "cell_type": "markdown",
      "source": [
        "# Splitting the data into train and validation sets"
      ],
      "metadata": {
        "id": "B0dCvzE6WSLp"
      }
    },
    {
      "cell_type": "code",
      "source": [
        "X_train, X_test, y_train, y_test = train_test_split(X, y, test_size=0.2, random_state=42)"
      ],
      "metadata": {
        "id": "6P3MrMe8OnoH"
      },
      "execution_count": 46,
      "outputs": []
    },
    {
      "cell_type": "code",
      "source": [
        "X.head(5)"
      ],
      "metadata": {
        "colab": {
          "base_uri": "https://localhost:8080/",
          "height": 273
        },
        "id": "1mWKAMQnPOUV",
        "outputId": "eaa029eb-f355-496e-88c1-25b8961a963d"
      },
      "execution_count": 47,
      "outputs": [
        {
          "output_type": "execute_result",
          "data": {
            "text/plain": [
              "   encoder__condition_interruption  encoder__condition_no stress  \\\n",
              "0                              1.0                           0.0   \n",
              "1                              1.0                           0.0   \n",
              "2                              1.0                           0.0   \n",
              "3                              0.0                           1.0   \n",
              "4                              1.0                           0.0   \n",
              "\n",
              "   encoder__condition_time pressure  remainder__VLF  remainder__VLF_PCT  \\\n",
              "0                               0.0     2259.833995           67.884986   \n",
              "1                               0.0     2430.367576           60.980572   \n",
              "2                               0.0      989.800997           27.651929   \n",
              "3                               0.0     2025.914557           57.014236   \n",
              "4                               0.0     1576.443907           71.274370   \n",
              "\n",
              "   remainder__LF  remainder__LF_PCT  remainder__LF_NU  remainder__HF  \\\n",
              "0    1058.573968          31.799362         99.017120      10.507787   \n",
              "1    1541.466293          38.677070         99.122594      13.644635   \n",
              "2    2478.164707          69.232133         95.693128     111.535043   \n",
              "3    1464.561241          41.216368         95.883762      62.872820   \n",
              "4     619.624143          28.014521         97.524479      15.728281   \n",
              "\n",
              "   remainder__HF_PCT  ...  remainder__KURT  remainder__SKEW  \\\n",
              "0           0.315652  ...        -0.812408        -0.156490   \n",
              "1           0.342359  ...         0.014594        -0.595771   \n",
              "2           3.115939  ...        -0.470107         0.170303   \n",
              "3           1.769396  ...         0.176038        -0.506675   \n",
              "4           0.711109  ...         0.410326         0.208714   \n",
              "\n",
              "   remainder__MEAN_REL_RR  remainder__MEDIAN_REL_RR  remainder__SDRR_REL_RR  \\\n",
              "0               -0.000055                 -0.000191                0.017395   \n",
              "1               -0.000035                 -0.000671                0.021513   \n",
              "2                0.000080                 -0.001355                0.029976   \n",
              "3                0.000024                  0.000587                0.023851   \n",
              "4               -0.000109                 -0.000151                0.014282   \n",
              "\n",
              "   remainder__RMSSD_REL_RR  remainder__SDSD_REL_RR  \\\n",
              "0                 0.007729                0.007729   \n",
              "1                 0.011262                0.011262   \n",
              "2                 0.015781                0.015781   \n",
              "3                 0.011562                0.011562   \n",
              "4                 0.007043                0.007043   \n",
              "\n",
              "   remainder__SDRR_RMSSD_REL_RR  remainder__KURT_REL_RR  \\\n",
              "0                      2.250533               -0.812408   \n",
              "1                      1.910181                0.014594   \n",
              "2                      1.899494               -0.470107   \n",
              "3                      2.062848                0.176038   \n",
              "4                      2.027828                0.410326   \n",
              "\n",
              "   remainder__SKEW_REL_RR  \n",
              "0               -0.156490  \n",
              "1               -0.595771  \n",
              "2                0.170303  \n",
              "3               -0.506675  \n",
              "4                0.208714  \n",
              "\n",
              "[5 rows x 36 columns]"
            ],
            "text/html": [
              "\n",
              "  <div id=\"df-7e0ab856-8a4e-4416-a700-521e6ec456dd\" class=\"colab-df-container\">\n",
              "    <div>\n",
              "<style scoped>\n",
              "    .dataframe tbody tr th:only-of-type {\n",
              "        vertical-align: middle;\n",
              "    }\n",
              "\n",
              "    .dataframe tbody tr th {\n",
              "        vertical-align: top;\n",
              "    }\n",
              "\n",
              "    .dataframe thead th {\n",
              "        text-align: right;\n",
              "    }\n",
              "</style>\n",
              "<table border=\"1\" class=\"dataframe\">\n",
              "  <thead>\n",
              "    <tr style=\"text-align: right;\">\n",
              "      <th></th>\n",
              "      <th>encoder__condition_interruption</th>\n",
              "      <th>encoder__condition_no stress</th>\n",
              "      <th>encoder__condition_time pressure</th>\n",
              "      <th>remainder__VLF</th>\n",
              "      <th>remainder__VLF_PCT</th>\n",
              "      <th>remainder__LF</th>\n",
              "      <th>remainder__LF_PCT</th>\n",
              "      <th>remainder__LF_NU</th>\n",
              "      <th>remainder__HF</th>\n",
              "      <th>remainder__HF_PCT</th>\n",
              "      <th>...</th>\n",
              "      <th>remainder__KURT</th>\n",
              "      <th>remainder__SKEW</th>\n",
              "      <th>remainder__MEAN_REL_RR</th>\n",
              "      <th>remainder__MEDIAN_REL_RR</th>\n",
              "      <th>remainder__SDRR_REL_RR</th>\n",
              "      <th>remainder__RMSSD_REL_RR</th>\n",
              "      <th>remainder__SDSD_REL_RR</th>\n",
              "      <th>remainder__SDRR_RMSSD_REL_RR</th>\n",
              "      <th>remainder__KURT_REL_RR</th>\n",
              "      <th>remainder__SKEW_REL_RR</th>\n",
              "    </tr>\n",
              "  </thead>\n",
              "  <tbody>\n",
              "    <tr>\n",
              "      <th>0</th>\n",
              "      <td>1.0</td>\n",
              "      <td>0.0</td>\n",
              "      <td>0.0</td>\n",
              "      <td>2259.833995</td>\n",
              "      <td>67.884986</td>\n",
              "      <td>1058.573968</td>\n",
              "      <td>31.799362</td>\n",
              "      <td>99.017120</td>\n",
              "      <td>10.507787</td>\n",
              "      <td>0.315652</td>\n",
              "      <td>...</td>\n",
              "      <td>-0.812408</td>\n",
              "      <td>-0.156490</td>\n",
              "      <td>-0.000055</td>\n",
              "      <td>-0.000191</td>\n",
              "      <td>0.017395</td>\n",
              "      <td>0.007729</td>\n",
              "      <td>0.007729</td>\n",
              "      <td>2.250533</td>\n",
              "      <td>-0.812408</td>\n",
              "      <td>-0.156490</td>\n",
              "    </tr>\n",
              "    <tr>\n",
              "      <th>1</th>\n",
              "      <td>1.0</td>\n",
              "      <td>0.0</td>\n",
              "      <td>0.0</td>\n",
              "      <td>2430.367576</td>\n",
              "      <td>60.980572</td>\n",
              "      <td>1541.466293</td>\n",
              "      <td>38.677070</td>\n",
              "      <td>99.122594</td>\n",
              "      <td>13.644635</td>\n",
              "      <td>0.342359</td>\n",
              "      <td>...</td>\n",
              "      <td>0.014594</td>\n",
              "      <td>-0.595771</td>\n",
              "      <td>-0.000035</td>\n",
              "      <td>-0.000671</td>\n",
              "      <td>0.021513</td>\n",
              "      <td>0.011262</td>\n",
              "      <td>0.011262</td>\n",
              "      <td>1.910181</td>\n",
              "      <td>0.014594</td>\n",
              "      <td>-0.595771</td>\n",
              "    </tr>\n",
              "    <tr>\n",
              "      <th>2</th>\n",
              "      <td>1.0</td>\n",
              "      <td>0.0</td>\n",
              "      <td>0.0</td>\n",
              "      <td>989.800997</td>\n",
              "      <td>27.651929</td>\n",
              "      <td>2478.164707</td>\n",
              "      <td>69.232133</td>\n",
              "      <td>95.693128</td>\n",
              "      <td>111.535043</td>\n",
              "      <td>3.115939</td>\n",
              "      <td>...</td>\n",
              "      <td>-0.470107</td>\n",
              "      <td>0.170303</td>\n",
              "      <td>0.000080</td>\n",
              "      <td>-0.001355</td>\n",
              "      <td>0.029976</td>\n",
              "      <td>0.015781</td>\n",
              "      <td>0.015781</td>\n",
              "      <td>1.899494</td>\n",
              "      <td>-0.470107</td>\n",
              "      <td>0.170303</td>\n",
              "    </tr>\n",
              "    <tr>\n",
              "      <th>3</th>\n",
              "      <td>0.0</td>\n",
              "      <td>1.0</td>\n",
              "      <td>0.0</td>\n",
              "      <td>2025.914557</td>\n",
              "      <td>57.014236</td>\n",
              "      <td>1464.561241</td>\n",
              "      <td>41.216368</td>\n",
              "      <td>95.883762</td>\n",
              "      <td>62.872820</td>\n",
              "      <td>1.769396</td>\n",
              "      <td>...</td>\n",
              "      <td>0.176038</td>\n",
              "      <td>-0.506675</td>\n",
              "      <td>0.000024</td>\n",
              "      <td>0.000587</td>\n",
              "      <td>0.023851</td>\n",
              "      <td>0.011562</td>\n",
              "      <td>0.011562</td>\n",
              "      <td>2.062848</td>\n",
              "      <td>0.176038</td>\n",
              "      <td>-0.506675</td>\n",
              "    </tr>\n",
              "    <tr>\n",
              "      <th>4</th>\n",
              "      <td>1.0</td>\n",
              "      <td>0.0</td>\n",
              "      <td>0.0</td>\n",
              "      <td>1576.443907</td>\n",
              "      <td>71.274370</td>\n",
              "      <td>619.624143</td>\n",
              "      <td>28.014521</td>\n",
              "      <td>97.524479</td>\n",
              "      <td>15.728281</td>\n",
              "      <td>0.711109</td>\n",
              "      <td>...</td>\n",
              "      <td>0.410326</td>\n",
              "      <td>0.208714</td>\n",
              "      <td>-0.000109</td>\n",
              "      <td>-0.000151</td>\n",
              "      <td>0.014282</td>\n",
              "      <td>0.007043</td>\n",
              "      <td>0.007043</td>\n",
              "      <td>2.027828</td>\n",
              "      <td>0.410326</td>\n",
              "      <td>0.208714</td>\n",
              "    </tr>\n",
              "  </tbody>\n",
              "</table>\n",
              "<p>5 rows × 36 columns</p>\n",
              "</div>\n",
              "    <div class=\"colab-df-buttons\">\n",
              "\n",
              "  <div class=\"colab-df-container\">\n",
              "    <button class=\"colab-df-convert\" onclick=\"convertToInteractive('df-7e0ab856-8a4e-4416-a700-521e6ec456dd')\"\n",
              "            title=\"Convert this dataframe to an interactive table.\"\n",
              "            style=\"display:none;\">\n",
              "\n",
              "  <svg xmlns=\"http://www.w3.org/2000/svg\" height=\"24px\" viewBox=\"0 -960 960 960\">\n",
              "    <path d=\"M120-120v-720h720v720H120Zm60-500h600v-160H180v160Zm220 220h160v-160H400v160Zm0 220h160v-160H400v160ZM180-400h160v-160H180v160Zm440 0h160v-160H620v160ZM180-180h160v-160H180v160Zm440 0h160v-160H620v160Z\"/>\n",
              "  </svg>\n",
              "    </button>\n",
              "\n",
              "  <style>\n",
              "    .colab-df-container {\n",
              "      display:flex;\n",
              "      gap: 12px;\n",
              "    }\n",
              "\n",
              "    .colab-df-convert {\n",
              "      background-color: #E8F0FE;\n",
              "      border: none;\n",
              "      border-radius: 50%;\n",
              "      cursor: pointer;\n",
              "      display: none;\n",
              "      fill: #1967D2;\n",
              "      height: 32px;\n",
              "      padding: 0 0 0 0;\n",
              "      width: 32px;\n",
              "    }\n",
              "\n",
              "    .colab-df-convert:hover {\n",
              "      background-color: #E2EBFA;\n",
              "      box-shadow: 0px 1px 2px rgba(60, 64, 67, 0.3), 0px 1px 3px 1px rgba(60, 64, 67, 0.15);\n",
              "      fill: #174EA6;\n",
              "    }\n",
              "\n",
              "    .colab-df-buttons div {\n",
              "      margin-bottom: 4px;\n",
              "    }\n",
              "\n",
              "    [theme=dark] .colab-df-convert {\n",
              "      background-color: #3B4455;\n",
              "      fill: #D2E3FC;\n",
              "    }\n",
              "\n",
              "    [theme=dark] .colab-df-convert:hover {\n",
              "      background-color: #434B5C;\n",
              "      box-shadow: 0px 1px 3px 1px rgba(0, 0, 0, 0.15);\n",
              "      filter: drop-shadow(0px 1px 2px rgba(0, 0, 0, 0.3));\n",
              "      fill: #FFFFFF;\n",
              "    }\n",
              "  </style>\n",
              "\n",
              "    <script>\n",
              "      const buttonEl =\n",
              "        document.querySelector('#df-7e0ab856-8a4e-4416-a700-521e6ec456dd button.colab-df-convert');\n",
              "      buttonEl.style.display =\n",
              "        google.colab.kernel.accessAllowed ? 'block' : 'none';\n",
              "\n",
              "      async function convertToInteractive(key) {\n",
              "        const element = document.querySelector('#df-7e0ab856-8a4e-4416-a700-521e6ec456dd');\n",
              "        const dataTable =\n",
              "          await google.colab.kernel.invokeFunction('convertToInteractive',\n",
              "                                                    [key], {});\n",
              "        if (!dataTable) return;\n",
              "\n",
              "        const docLinkHtml = 'Like what you see? Visit the ' +\n",
              "          '<a target=\"_blank\" href=https://colab.research.google.com/notebooks/data_table.ipynb>data table notebook</a>'\n",
              "          + ' to learn more about interactive tables.';\n",
              "        element.innerHTML = '';\n",
              "        dataTable['output_type'] = 'display_data';\n",
              "        await google.colab.output.renderOutput(dataTable, element);\n",
              "        const docLink = document.createElement('div');\n",
              "        docLink.innerHTML = docLinkHtml;\n",
              "        element.appendChild(docLink);\n",
              "      }\n",
              "    </script>\n",
              "  </div>\n",
              "\n",
              "\n",
              "<div id=\"df-ed98fc8f-c903-4475-99c7-f8ad7d50d7a8\">\n",
              "  <button class=\"colab-df-quickchart\" onclick=\"quickchart('df-ed98fc8f-c903-4475-99c7-f8ad7d50d7a8')\"\n",
              "            title=\"Suggest charts\"\n",
              "            style=\"display:none;\">\n",
              "\n",
              "<svg xmlns=\"http://www.w3.org/2000/svg\" height=\"24px\"viewBox=\"0 0 24 24\"\n",
              "     width=\"24px\">\n",
              "    <g>\n",
              "        <path d=\"M19 3H5c-1.1 0-2 .9-2 2v14c0 1.1.9 2 2 2h14c1.1 0 2-.9 2-2V5c0-1.1-.9-2-2-2zM9 17H7v-7h2v7zm4 0h-2V7h2v10zm4 0h-2v-4h2v4z\"/>\n",
              "    </g>\n",
              "</svg>\n",
              "  </button>\n",
              "\n",
              "<style>\n",
              "  .colab-df-quickchart {\n",
              "      --bg-color: #E8F0FE;\n",
              "      --fill-color: #1967D2;\n",
              "      --hover-bg-color: #E2EBFA;\n",
              "      --hover-fill-color: #174EA6;\n",
              "      --disabled-fill-color: #AAA;\n",
              "      --disabled-bg-color: #DDD;\n",
              "  }\n",
              "\n",
              "  [theme=dark] .colab-df-quickchart {\n",
              "      --bg-color: #3B4455;\n",
              "      --fill-color: #D2E3FC;\n",
              "      --hover-bg-color: #434B5C;\n",
              "      --hover-fill-color: #FFFFFF;\n",
              "      --disabled-bg-color: #3B4455;\n",
              "      --disabled-fill-color: #666;\n",
              "  }\n",
              "\n",
              "  .colab-df-quickchart {\n",
              "    background-color: var(--bg-color);\n",
              "    border: none;\n",
              "    border-radius: 50%;\n",
              "    cursor: pointer;\n",
              "    display: none;\n",
              "    fill: var(--fill-color);\n",
              "    height: 32px;\n",
              "    padding: 0;\n",
              "    width: 32px;\n",
              "  }\n",
              "\n",
              "  .colab-df-quickchart:hover {\n",
              "    background-color: var(--hover-bg-color);\n",
              "    box-shadow: 0 1px 2px rgba(60, 64, 67, 0.3), 0 1px 3px 1px rgba(60, 64, 67, 0.15);\n",
              "    fill: var(--button-hover-fill-color);\n",
              "  }\n",
              "\n",
              "  .colab-df-quickchart-complete:disabled,\n",
              "  .colab-df-quickchart-complete:disabled:hover {\n",
              "    background-color: var(--disabled-bg-color);\n",
              "    fill: var(--disabled-fill-color);\n",
              "    box-shadow: none;\n",
              "  }\n",
              "\n",
              "  .colab-df-spinner {\n",
              "    border: 2px solid var(--fill-color);\n",
              "    border-color: transparent;\n",
              "    border-bottom-color: var(--fill-color);\n",
              "    animation:\n",
              "      spin 1s steps(1) infinite;\n",
              "  }\n",
              "\n",
              "  @keyframes spin {\n",
              "    0% {\n",
              "      border-color: transparent;\n",
              "      border-bottom-color: var(--fill-color);\n",
              "      border-left-color: var(--fill-color);\n",
              "    }\n",
              "    20% {\n",
              "      border-color: transparent;\n",
              "      border-left-color: var(--fill-color);\n",
              "      border-top-color: var(--fill-color);\n",
              "    }\n",
              "    30% {\n",
              "      border-color: transparent;\n",
              "      border-left-color: var(--fill-color);\n",
              "      border-top-color: var(--fill-color);\n",
              "      border-right-color: var(--fill-color);\n",
              "    }\n",
              "    40% {\n",
              "      border-color: transparent;\n",
              "      border-right-color: var(--fill-color);\n",
              "      border-top-color: var(--fill-color);\n",
              "    }\n",
              "    60% {\n",
              "      border-color: transparent;\n",
              "      border-right-color: var(--fill-color);\n",
              "    }\n",
              "    80% {\n",
              "      border-color: transparent;\n",
              "      border-right-color: var(--fill-color);\n",
              "      border-bottom-color: var(--fill-color);\n",
              "    }\n",
              "    90% {\n",
              "      border-color: transparent;\n",
              "      border-bottom-color: var(--fill-color);\n",
              "    }\n",
              "  }\n",
              "</style>\n",
              "\n",
              "  <script>\n",
              "    async function quickchart(key) {\n",
              "      const quickchartButtonEl =\n",
              "        document.querySelector('#' + key + ' button');\n",
              "      quickchartButtonEl.disabled = true;  // To prevent multiple clicks.\n",
              "      quickchartButtonEl.classList.add('colab-df-spinner');\n",
              "      try {\n",
              "        const charts = await google.colab.kernel.invokeFunction(\n",
              "            'suggestCharts', [key], {});\n",
              "      } catch (error) {\n",
              "        console.error('Error during call to suggestCharts:', error);\n",
              "      }\n",
              "      quickchartButtonEl.classList.remove('colab-df-spinner');\n",
              "      quickchartButtonEl.classList.add('colab-df-quickchart-complete');\n",
              "    }\n",
              "    (() => {\n",
              "      let quickchartButtonEl =\n",
              "        document.querySelector('#df-ed98fc8f-c903-4475-99c7-f8ad7d50d7a8 button');\n",
              "      quickchartButtonEl.style.display =\n",
              "        google.colab.kernel.accessAllowed ? 'block' : 'none';\n",
              "    })();\n",
              "  </script>\n",
              "</div>\n",
              "\n",
              "    </div>\n",
              "  </div>\n"
            ]
          },
          "metadata": {},
          "execution_count": 47
        }
      ]
    },
    {
      "cell_type": "markdown",
      "source": [
        "PCA"
      ],
      "metadata": {
        "id": "XukNvJ-MPe24"
      }
    },
    {
      "cell_type": "code",
      "source": [
        "# from sklearn.decomposition import PCA\n",
        "\n",
        "# pca=PCA(n_components=10)\n",
        "\n",
        "# X_train=pca.fit_transform(X_train)\n",
        "# X_test=pca.transform(X_test)\n",
        "\n"
      ],
      "metadata": {
        "id": "8J5kSidyPcQr"
      },
      "execution_count": null,
      "outputs": []
    },
    {
      "cell_type": "markdown",
      "source": [
        "# Model Training"
      ],
      "metadata": {
        "id": "x3v6yW15YBkX"
      }
    },
    {
      "cell_type": "markdown",
      "source": [
        "#XGBoost"
      ],
      "metadata": {
        "id": "RIfxqdqiWc_B"
      }
    },
    {
      "cell_type": "code",
      "source": [
        "xgb_model = XGBRegressor()\n",
        "\n",
        "\n",
        "xgb_model.fit(X_train, y_train)\n",
        "\n",
        "\n",
        "y_pred = xgb_model.predict(X_test)"
      ],
      "metadata": {
        "id": "BbaKUdJ8Wd1Z"
      },
      "execution_count": 114,
      "outputs": []
    },
    {
      "cell_type": "code",
      "source": [
        "mse = mean_squared_error(y_test, y_pred)\n",
        "mae = mean_absolute_error(y_test, y_pred)\n",
        "\n",
        "print(\"Mean Squared Error:\", mse)\n",
        "print(\"Mean Absolute Error:\", mae)"
      ],
      "metadata": {
        "colab": {
          "base_uri": "https://localhost:8080/"
        },
        "id": "DUIxE56CWqj0",
        "outputId": "50841a8e-1a5c-4560-ff15-6e0c39de1126"
      },
      "execution_count": 115,
      "outputs": [
        {
          "output_type": "stream",
          "name": "stdout",
          "text": [
            "Mean Squared Error: 0.26623196850810904\n",
            "Mean Absolute Error: 0.3210510026324215\n"
          ]
        }
      ]
    },
    {
      "cell_type": "markdown",
      "source": [
        "Mean Squared Error using XGBoost comes out to be 0.26623196850810904, now we try using Random Forest and do a comparative analysis"
      ],
      "metadata": {
        "id": "rtpWi6VLXRa-"
      }
    },
    {
      "cell_type": "markdown",
      "source": [
        "\n",
        "\n",
        "---\n",
        "\n"
      ],
      "metadata": {
        "id": "mvg9EYudef6F"
      }
    },
    {
      "cell_type": "markdown",
      "source": [
        "#Random Forest"
      ],
      "metadata": {
        "id": "bv09RuILb59Y"
      }
    },
    {
      "cell_type": "code",
      "source": [
        "dataset_df = data.drop('uuid', axis=1)"
      ],
      "metadata": {
        "id": "_nTixs-ynl2s"
      },
      "execution_count": 51,
      "outputs": []
    },
    {
      "cell_type": "code",
      "source": [
        "import numpy as np\n",
        "\n",
        "def split_dataset(dataset, test_ratio=0.30):\n",
        "  test_indices = np.random.rand(len(dataset)) < test_ratio\n",
        "  return dataset[~test_indices], dataset[test_indices]\n",
        "\n",
        "train_ds_pd, valid_ds_pd = split_dataset(dataset_df)\n",
        "print(\"{} examples in training, {} examples in testing.\".format(\n",
        "    len(train_ds_pd), len(valid_ds_pd)))"
      ],
      "metadata": {
        "colab": {
          "base_uri": "https://localhost:8080/"
        },
        "id": "gQq0nHiucnqQ",
        "outputId": "78f2ee0c-f984-4c11-ff9a-5c07ee774ff6"
      },
      "execution_count": 52,
      "outputs": [
        {
          "output_type": "stream",
          "name": "stdout",
          "text": [
            "3492 examples in training, 1508 examples in testing.\n"
          ]
        }
      ]
    },
    {
      "cell_type": "code",
      "source": [
        "label = 'HR'\n",
        "train_ds = tfdf.keras.pd_dataframe_to_tf_dataset(train_ds_pd, label=label, task = tfdf.keras.Task.REGRESSION)\n",
        "valid_ds = tfdf.keras.pd_dataframe_to_tf_dataset(valid_ds_pd, label=label, task = tfdf.keras.Task.REGRESSION)"
      ],
      "metadata": {
        "id": "TwqExpCeb8lH"
      },
      "execution_count": 53,
      "outputs": []
    },
    {
      "cell_type": "code",
      "source": [
        "tfdf.keras.get_all_models()"
      ],
      "metadata": {
        "colab": {
          "base_uri": "https://localhost:8080/"
        },
        "id": "wSabs_aQc0a9",
        "outputId": "65b3074c-9ea2-483f-de60-5078bf74314a"
      },
      "execution_count": 54,
      "outputs": [
        {
          "output_type": "execute_result",
          "data": {
            "text/plain": [
              "[tensorflow_decision_forests.keras.RandomForestModel,\n",
              " tensorflow_decision_forests.keras.GradientBoostedTreesModel,\n",
              " tensorflow_decision_forests.keras.CartModel,\n",
              " tensorflow_decision_forests.keras.DistributedGradientBoostedTreesModel]"
            ]
          },
          "metadata": {},
          "execution_count": 54
        }
      ]
    },
    {
      "cell_type": "code",
      "source": [
        "rf = tfdf.keras.RandomForestModel(task = tfdf.keras.Task.REGRESSION)\n",
        "rf.compile(metrics=[\"mse\", \"mae\"])"
      ],
      "metadata": {
        "colab": {
          "base_uri": "https://localhost:8080/"
        },
        "id": "5FWqPRC9c7sy",
        "outputId": "3559e84a-7eb7-41cb-e13d-0b66a8159d2a"
      },
      "execution_count": 57,
      "outputs": [
        {
          "output_type": "stream",
          "name": "stdout",
          "text": [
            "Use /tmp/tmpoekwu9wr as temporary training directory\n"
          ]
        }
      ]
    },
    {
      "cell_type": "code",
      "source": [
        "rf.fit(x=train_ds)"
      ],
      "metadata": {
        "colab": {
          "base_uri": "https://localhost:8080/"
        },
        "id": "ECvtnkWWdB0Y",
        "outputId": "d92b8f8c-29f6-4111-ef3a-79d2181655a9"
      },
      "execution_count": 58,
      "outputs": [
        {
          "output_type": "stream",
          "name": "stdout",
          "text": [
            "Reading training dataset...\n",
            "Training dataset read in 0:00:01.043413. Found 3492 examples.\n",
            "Training model...\n",
            "Model trained in 0:00:11.251748\n",
            "Compiling model...\n",
            "Model compiled.\n"
          ]
        },
        {
          "output_type": "execute_result",
          "data": {
            "text/plain": [
              "<keras.src.callbacks.History at 0x7bfb3bd99ff0>"
            ]
          },
          "metadata": {},
          "execution_count": 58
        }
      ]
    },
    {
      "cell_type": "code",
      "source": [
        "tfdf.model_plotter.plot_model_in_colab(rf, tree_idx=0, max_depth=3)"
      ],
      "metadata": {
        "colab": {
          "base_uri": "https://localhost:8080/",
          "height": 405
        },
        "id": "CaUaeA2wdJ3S",
        "outputId": "b3d3ec25-7279-461d-87a0-1c969a24709c"
      },
      "execution_count": 76,
      "outputs": [
        {
          "output_type": "execute_result",
          "data": {
            "text/plain": [
              "<IPython.core.display.HTML object>"
            ],
            "text/html": [
              "\n",
              "<script src=\"https://d3js.org/d3.v6.min.js\"></script>\n",
              "<div id=\"tree_plot_7130075a33214d6a894f05dd8a329095\"></div>\n",
              "<script>\n",
              "/*\n",
              " * Copyright 2021 Google LLC.\n",
              " * Licensed under the Apache License, Version 2.0 (the \"License\");\n",
              " * you may not use this file except in compliance with the License.\n",
              " * You may obtain a copy of the License at\n",
              " *\n",
              " *     https://www.apache.org/licenses/LICENSE-2.0\n",
              " *\n",
              " * Unless required by applicable law or agreed to in writing, software\n",
              " * distributed under the License is distributed on an \"AS IS\" BASIS,\n",
              " * WITHOUT WARRANTIES OR CONDITIONS OF ANY KIND, either express or implied.\n",
              " * See the License for the specific language governing permissions and\n",
              " * limitations under the License.\n",
              " */\n",
              "\n",
              "/**\n",
              " *  Plotting of decision trees generated by TF-DF.\n",
              " *\n",
              " *  A tree is a recursive structure of node objects.\n",
              " *  A node contains one or more of the following components:\n",
              " *\n",
              " *    - A value: Representing the output of the node. If the node is not a leaf,\n",
              " *      the value is only present for analysis i.e. it is not used for\n",
              " *      predictions.\n",
              " *\n",
              " *    - A condition : For non-leaf nodes, the condition (also known as split)\n",
              " *      defines a binary test to branch to the positive or negative child.\n",
              " *\n",
              " *    - An explanation: Generally a plot showing the relation between the label\n",
              " *      and the condition to give insights about the effect of the condition.\n",
              " *\n",
              " *    - Two children : For non-leaf nodes, the children nodes. The first\n",
              " *      children (i.e. \"node.children[0]\") is the negative children (drawn in\n",
              " *      red). The second children is the positive one (drawn in green).\n",
              " *\n",
              " */\n",
              "\n",
              "/**\n",
              " * Plots a single decision tree into a DOM element.\n",
              " * @param {!options} options Dictionary of configurations.\n",
              " * @param {!tree} raw_tree Recursive tree structure.\n",
              " * @param {string} canvas_id Id of the output dom element.\n",
              " */\n",
              "function display_tree(options, raw_tree, canvas_id) {\n",
              "  console.log(options);\n",
              "\n",
              "  // Determine the node placement.\n",
              "  const tree_struct = d3.tree().nodeSize(\n",
              "      [options.node_y_offset, options.node_x_offset])(d3.hierarchy(raw_tree));\n",
              "\n",
              "  // Boundaries of the node placement.\n",
              "  let x_min = Infinity;\n",
              "  let x_max = -x_min;\n",
              "  let y_min = Infinity;\n",
              "  let y_max = -x_min;\n",
              "\n",
              "  tree_struct.each(d => {\n",
              "    if (d.x > x_max) x_max = d.x;\n",
              "    if (d.x < x_min) x_min = d.x;\n",
              "    if (d.y > y_max) y_max = d.y;\n",
              "    if (d.y < y_min) y_min = d.y;\n",
              "  });\n",
              "\n",
              "  // Size of the plot.\n",
              "  const width = y_max - y_min + options.node_x_size + options.margin * 2;\n",
              "  const height = x_max - x_min + options.node_y_size + options.margin * 2 +\n",
              "      options.node_y_offset - options.node_y_size;\n",
              "\n",
              "  const plot = d3.select(canvas_id);\n",
              "\n",
              "  // Tool tip\n",
              "  options.tooltip = plot.append('div')\n",
              "                        .attr('width', 100)\n",
              "                        .attr('height', 100)\n",
              "                        .style('padding', '4px')\n",
              "                        .style('background', '#fff')\n",
              "                        .style('box-shadow', '4px 4px 0px rgba(0,0,0,0.1)')\n",
              "                        .style('border', '1px solid black')\n",
              "                        .style('font-family', 'sans-serif')\n",
              "                        .style('font-size', options.font_size)\n",
              "                        .style('position', 'absolute')\n",
              "                        .style('z-index', '10')\n",
              "                        .attr('pointer-events', 'none')\n",
              "                        .style('display', 'none');\n",
              "\n",
              "  // Create canvas\n",
              "  const svg = plot.append('svg').attr('width', width).attr('height', height);\n",
              "  const graph =\n",
              "      svg.style('overflow', 'visible')\n",
              "          .append('g')\n",
              "          .attr('font-family', 'sans-serif')\n",
              "          .attr('font-size', options.font_size)\n",
              "          .attr(\n",
              "              'transform',\n",
              "              () => `translate(${options.margin},${\n",
              "                  - x_min + options.node_y_offset / 2 + options.margin})`);\n",
              "\n",
              "  // Plot bounding box.\n",
              "  if (options.show_plot_bounding_box) {\n",
              "    svg.append('rect')\n",
              "        .attr('width', width)\n",
              "        .attr('height', height)\n",
              "        .attr('fill', 'none')\n",
              "        .attr('stroke-width', 1.0)\n",
              "        .attr('stroke', 'black');\n",
              "  }\n",
              "\n",
              "  // Draw the edges.\n",
              "  display_edges(options, graph, tree_struct);\n",
              "\n",
              "  // Draw the nodes.\n",
              "  display_nodes(options, graph, tree_struct);\n",
              "}\n",
              "\n",
              "/**\n",
              " * Draw the nodes of the tree.\n",
              " * @param {!options} options Dictionary of configurations.\n",
              " * @param {!graph} graph D3 search handle containing the graph.\n",
              " * @param {!tree_struct} tree_struct Structure of the tree (node placement,\n",
              " *     data, etc.).\n",
              " */\n",
              "function display_nodes(options, graph, tree_struct) {\n",
              "  const nodes = graph.append('g')\n",
              "                    .selectAll('g')\n",
              "                    .data(tree_struct.descendants())\n",
              "                    .join('g')\n",
              "                    .attr('transform', d => `translate(${d.y},${d.x})`);\n",
              "\n",
              "  nodes.append('rect')\n",
              "      .attr('x', 0.5)\n",
              "      .attr('y', 0.5)\n",
              "      .attr('width', options.node_x_size)\n",
              "      .attr('height', options.node_y_size)\n",
              "      .attr('stroke', 'lightgrey')\n",
              "      .attr('stroke-width', 1)\n",
              "      .attr('fill', 'white')\n",
              "      .attr('y', -options.node_y_size / 2);\n",
              "\n",
              "  // Brackets on the right of condition nodes without children.\n",
              "  non_leaf_node_without_children =\n",
              "      nodes.filter(node => node.data.condition != null && node.children == null)\n",
              "          .append('g')\n",
              "          .attr('transform', `translate(${options.node_x_size},0)`);\n",
              "\n",
              "  non_leaf_node_without_children.append('path')\n",
              "      .attr('d', 'M0,0 C 10,0 0,10 10,10')\n",
              "      .attr('fill', 'none')\n",
              "      .attr('stroke-width', 1.0)\n",
              "      .attr('stroke', '#F00');\n",
              "\n",
              "  non_leaf_node_without_children.append('path')\n",
              "      .attr('d', 'M0,0 C 10,0 0,-10 10,-10')\n",
              "      .attr('fill', 'none')\n",
              "      .attr('stroke-width', 1.0)\n",
              "      .attr('stroke', '#0F0');\n",
              "\n",
              "  const node_content = nodes.append('g').attr(\n",
              "      'transform',\n",
              "      `translate(0,${options.node_padding - options.node_y_size / 2})`);\n",
              "\n",
              "  node_content.append(node => create_node_element(options, node));\n",
              "}\n",
              "\n",
              "/**\n",
              " * Creates the D3 content for a single node.\n",
              " * @param {!options} options Dictionary of configurations.\n",
              " * @param {!node} node Node to draw.\n",
              " * @return {!d3} D3 content.\n",
              " */\n",
              "function create_node_element(options, node) {\n",
              "  // Output accumulator.\n",
              "  let output = {\n",
              "    // Content to draw.\n",
              "    content: d3.create('svg:g'),\n",
              "    // Vertical offset to the next element to draw.\n",
              "    vertical_offset: 0\n",
              "  };\n",
              "\n",
              "  // Conditions.\n",
              "  if (node.data.condition != null) {\n",
              "    display_condition(options, node.data.condition, output);\n",
              "  }\n",
              "\n",
              "  // Values.\n",
              "  if (node.data.value != null) {\n",
              "    display_value(options, node.data.value, output);\n",
              "  }\n",
              "\n",
              "  // Explanations.\n",
              "  if (node.data.explanation != null) {\n",
              "    display_explanation(options, node.data.explanation, output);\n",
              "  }\n",
              "\n",
              "  return output.content.node();\n",
              "}\n",
              "\n",
              "\n",
              "/**\n",
              " * Adds a single line of text inside of a node.\n",
              " * @param {!options} options Dictionary of configurations.\n",
              " * @param {string} text Text to display.\n",
              " * @param {!output} output Output display accumulator.\n",
              " */\n",
              "function display_node_text(options, text, output) {\n",
              "  output.content.append('text')\n",
              "      .attr('x', options.node_padding)\n",
              "      .attr('y', output.vertical_offset)\n",
              "      .attr('alignment-baseline', 'hanging')\n",
              "      .text(text);\n",
              "  output.vertical_offset += 10;\n",
              "}\n",
              "\n",
              "/**\n",
              " * Adds a single line of text inside of a node with a tooltip.\n",
              " * @param {!options} options Dictionary of configurations.\n",
              " * @param {string} text Text to display.\n",
              " * @param {string} tooltip Text in the Tooltip.\n",
              " * @param {!output} output Output display accumulator.\n",
              " */\n",
              "function display_node_text_with_tooltip(options, text, tooltip, output) {\n",
              "  const item = output.content.append('text')\n",
              "                   .attr('x', options.node_padding)\n",
              "                   .attr('alignment-baseline', 'hanging')\n",
              "                   .text(text);\n",
              "\n",
              "  add_tooltip(options, item, () => tooltip);\n",
              "  output.vertical_offset += 10;\n",
              "}\n",
              "\n",
              "/**\n",
              " * Adds a tooltip to a dom element.\n",
              " * @param {!options} options Dictionary of configurations.\n",
              " * @param {!dom} target Dom element to equip with a tooltip.\n",
              " * @param {!func} get_content Generates the html content of the tooltip.\n",
              " */\n",
              "function add_tooltip(options, target, get_content) {\n",
              "  function show(d) {\n",
              "    options.tooltip.style('display', 'block');\n",
              "    options.tooltip.html(get_content());\n",
              "  }\n",
              "\n",
              "  function hide(d) {\n",
              "    options.tooltip.style('display', 'none');\n",
              "  }\n",
              "\n",
              "  function move(d) {\n",
              "    options.tooltip.style('display', 'block');\n",
              "    options.tooltip.style('left', (d.pageX + 5) + 'px');\n",
              "    options.tooltip.style('top', d.pageY + 'px');\n",
              "  }\n",
              "\n",
              "  target.on('mouseover', show);\n",
              "  target.on('mouseout', hide);\n",
              "  target.on('mousemove', move);\n",
              "}\n",
              "\n",
              "/**\n",
              " * Adds a condition inside of a node.\n",
              " * @param {!options} options Dictionary of configurations.\n",
              " * @param {!condition} condition Condition to display.\n",
              " * @param {!output} output Output display accumulator.\n",
              " */\n",
              "function display_condition(options, condition, output) {\n",
              "  threshold_format = d3.format('r');\n",
              "\n",
              "  if (condition.type === 'IS_MISSING') {\n",
              "    display_node_text(options, `${condition.attribute} is missing`, output);\n",
              "    return;\n",
              "  }\n",
              "\n",
              "  if (condition.type === 'IS_TRUE') {\n",
              "    display_node_text(options, `${condition.attribute} is true`, output);\n",
              "    return;\n",
              "  }\n",
              "\n",
              "  if (condition.type === 'NUMERICAL_IS_HIGHER_THAN') {\n",
              "    format = d3.format('r');\n",
              "    display_node_text(\n",
              "        options,\n",
              "        `${condition.attribute} >= ${threshold_format(condition.threshold)}`,\n",
              "        output);\n",
              "    return;\n",
              "  }\n",
              "\n",
              "  if (condition.type === 'CATEGORICAL_IS_IN') {\n",
              "    display_node_text_with_tooltip(\n",
              "        options, `${condition.attribute} in [...]`,\n",
              "        `${condition.attribute} in [${condition.mask}]`, output);\n",
              "    return;\n",
              "  }\n",
              "\n",
              "  if (condition.type === 'CATEGORICAL_SET_CONTAINS') {\n",
              "    display_node_text_with_tooltip(\n",
              "        options, `${condition.attribute} intersect [...]`,\n",
              "        `${condition.attribute} intersect [${condition.mask}]`, output);\n",
              "    return;\n",
              "  }\n",
              "\n",
              "  if (condition.type === 'NUMERICAL_SPARSE_OBLIQUE') {\n",
              "    display_node_text_with_tooltip(\n",
              "        options, `Sparse oblique split...`,\n",
              "        `[${condition.attributes}]*[${condition.weights}]>=${\n",
              "            threshold_format(condition.threshold)}`,\n",
              "        output);\n",
              "    return;\n",
              "  }\n",
              "\n",
              "  display_node_text(\n",
              "      options, `Non supported condition ${condition.type}`, output);\n",
              "}\n",
              "\n",
              "/**\n",
              " * Adds a value inside of a node.\n",
              " * @param {!options} options Dictionary of configurations.\n",
              " * @param {!value} value Value to display.\n",
              " * @param {!output} output Output display accumulator.\n",
              " */\n",
              "function display_value(options, value, output) {\n",
              "  if (value.type === 'PROBABILITY') {\n",
              "    const left_margin = 0;\n",
              "    const right_margin = 50;\n",
              "    const plot_width = options.node_x_size - options.node_padding * 2 -\n",
              "        left_margin - right_margin;\n",
              "\n",
              "    let cusum = Array.from(d3.cumsum(value.distribution));\n",
              "    cusum.unshift(0);\n",
              "    const distribution_plot = output.content.append('g').attr(\n",
              "        'transform', `translate(0,${output.vertical_offset + 0.5})`);\n",
              "\n",
              "    distribution_plot.selectAll('rect')\n",
              "        .data(value.distribution)\n",
              "        .join('rect')\n",
              "        .attr('height', 10)\n",
              "        .attr(\n",
              "            'x',\n",
              "            (d, i) =>\n",
              "                (cusum[i] * plot_width + left_margin + options.node_padding))\n",
              "        .attr('width', (d, i) => d * plot_width)\n",
              "        .style('fill', (d, i) => d3.schemeSet1[i]);\n",
              "\n",
              "    const num_examples =\n",
              "        output.content.append('g')\n",
              "            .attr('transform', `translate(0,${output.vertical_offset})`)\n",
              "            .append('text')\n",
              "            .attr('x', options.node_x_size - options.node_padding)\n",
              "            .attr('alignment-baseline', 'hanging')\n",
              "            .attr('text-anchor', 'end')\n",
              "            .text(`(${value.num_examples})`);\n",
              "\n",
              "    const distribution_details = d3.create('ul');\n",
              "    distribution_details.selectAll('li')\n",
              "        .data(value.distribution)\n",
              "        .join('li')\n",
              "        .append('span')\n",
              "        .text(\n",
              "            (d, i) =>\n",
              "                'class ' + i + ': ' + d3.format('.3%')(value.distribution[i]));\n",
              "\n",
              "    add_tooltip(options, distribution_plot, () => distribution_details.html());\n",
              "    add_tooltip(options, num_examples, () => 'Number of examples');\n",
              "\n",
              "    output.vertical_offset += 10;\n",
              "    return;\n",
              "  }\n",
              "\n",
              "  if (value.type === 'REGRESSION') {\n",
              "    display_node_text(\n",
              "        options,\n",
              "        'value: ' + d3.format('r')(value.value) + ` (` +\n",
              "            d3.format('.6')(value.num_examples) + `)`,\n",
              "        output);\n",
              "    return;\n",
              "  }\n",
              "\n",
              "  if (value.type === 'UPLIFT') {\n",
              "    display_node_text(\n",
              "        options,\n",
              "        'effect: ' + d3.format('r')(value.treatment_effect) + ` (` +\n",
              "            d3.format('.6')(value.num_examples) + `)`,\n",
              "        output);\n",
              "    return;\n",
              "  }\n",
              "\n",
              "  display_node_text(options, `Non supported value ${value.type}`, output);\n",
              "}\n",
              "\n",
              "/**\n",
              " * Adds an explanation inside of a node.\n",
              " * @param {!options} options Dictionary of configurations.\n",
              " * @param {!explanation} explanation Explanation to display.\n",
              " * @param {!output} output Output display accumulator.\n",
              " */\n",
              "function display_explanation(options, explanation, output) {\n",
              "  // Margin before the explanation.\n",
              "  output.vertical_offset += 10;\n",
              "\n",
              "  display_node_text(\n",
              "      options, `Non supported explanation ${explanation.type}`, output);\n",
              "}\n",
              "\n",
              "\n",
              "/**\n",
              " * Draw the edges of the tree.\n",
              " * @param {!options} options Dictionary of configurations.\n",
              " * @param {!graph} graph D3 search handle containing the graph.\n",
              " * @param {!tree_struct} tree_struct Structure of the tree (node placement,\n",
              " *     data, etc.).\n",
              " */\n",
              "function display_edges(options, graph, tree_struct) {\n",
              "  // Draw an edge between a parent and a child node with a bezier.\n",
              "  function draw_single_edge(d) {\n",
              "    return 'M' + (d.source.y + options.node_x_size) + ',' + d.source.x + ' C' +\n",
              "        (d.source.y + options.node_x_size + options.edge_rounding) + ',' +\n",
              "        d.source.x + ' ' + (d.target.y - options.edge_rounding) + ',' +\n",
              "        d.target.x + ' ' + d.target.y + ',' + d.target.x;\n",
              "  }\n",
              "\n",
              "  graph.append('g')\n",
              "      .attr('fill', 'none')\n",
              "      .attr('stroke-width', 1.2)\n",
              "      .selectAll('path')\n",
              "      .data(tree_struct.links())\n",
              "      .join('path')\n",
              "      .attr('d', draw_single_edge)\n",
              "      .attr(\n",
              "          'stroke', d => (d.target === d.source.children[0]) ? '#0F0' : '#F00');\n",
              "}\n",
              "\n",
              "display_tree({\"margin\": 10, \"node_x_size\": 160, \"node_y_size\": 28, \"node_x_offset\": 180, \"node_y_offset\": 33, \"font_size\": 10, \"edge_rounding\": 20, \"node_padding\": 2, \"show_plot_bounding_box\": false}, {\"value\": {\"type\": \"REGRESSION\", \"value\": 74.10539245605469, \"num_examples\": 3492.0, \"standard_deviation\": 10.521410936610767}, \"condition\": {\"type\": \"NUMERICAL_IS_HIGHER_THAN\", \"attribute\": \"HF_PCT\", \"threshold\": 0.5559245347976685}, \"children\": [{\"value\": {\"type\": \"REGRESSION\", \"value\": 79.42607116699219, \"num_examples\": 2309.0, \"standard_deviation\": 8.245128342297292}, \"condition\": {\"type\": \"NUMERICAL_IS_HIGHER_THAN\", \"attribute\": \"MEAN_RR\", \"threshold\": 749.6641845703125}, \"children\": [{\"value\": {\"type\": \"REGRESSION\", \"value\": 74.92874908447266, \"num_examples\": 1535.0, \"standard_deviation\": 4.1707760512155545}, \"condition\": {\"type\": \"NUMERICAL_IS_HIGHER_THAN\", \"attribute\": \"HF_NU\", \"threshold\": 2.9385178089141846}, \"children\": [{\"value\": {\"type\": \"REGRESSION\", \"value\": 75.8868179321289, \"num_examples\": 1046.0, \"standard_deviation\": 3.859686788383302}, \"condition\": {\"type\": \"NUMERICAL_IS_HIGHER_THAN\", \"attribute\": \"MEDIAN_RR\", \"threshold\": 799.1275024414062}}, {\"value\": {\"type\": \"REGRESSION\", \"value\": 72.8793716430664, \"num_examples\": 489.0, \"standard_deviation\": 4.071333668516319}, \"condition\": {\"type\": \"NUMERICAL_IS_HIGHER_THAN\", \"attribute\": \"MEAN_RR\", \"threshold\": 840.599365234375}}]}, {\"value\": {\"type\": \"REGRESSION\", \"value\": 88.34518432617188, \"num_examples\": 774.0, \"standard_deviation\": 6.974477067642884}, \"condition\": {\"type\": \"NUMERICAL_IS_HIGHER_THAN\", \"attribute\": \"MEAN_RR\", \"threshold\": 663.1814575195312}, \"children\": [{\"value\": {\"type\": \"REGRESSION\", \"value\": 85.47663879394531, \"num_examples\": 620.0, \"standard_deviation\": 3.5526992741929364}, \"condition\": {\"type\": \"NUMERICAL_IS_HIGHER_THAN\", \"attribute\": \"SDRR_RMSSD_REL_RR\", \"threshold\": 1.3961955308914185}}, {\"value\": {\"type\": \"REGRESSION\", \"value\": 99.89385223388672, \"num_examples\": 154.0, \"standard_deviation\": 5.2120963845879755}, \"condition\": {\"type\": \"NUMERICAL_IS_HIGHER_THAN\", \"attribute\": \"MEDIAN_RR\", \"threshold\": 590.0645141601562}}]}]}, {\"value\": {\"type\": \"REGRESSION\", \"value\": 63.72040939331055, \"num_examples\": 1183.0, \"standard_deviation\": 5.565483096150483}, \"condition\": {\"type\": \"NUMERICAL_IS_HIGHER_THAN\", \"attribute\": \"MEAN_RR\", \"threshold\": 975.8746337890625}, \"children\": [{\"value\": {\"type\": \"REGRESSION\", \"value\": 59.30537414550781, \"num_examples\": 546.0, \"standard_deviation\": 3.5814478798662543}, \"condition\": {\"type\": \"NUMERICAL_IS_HIGHER_THAN\", \"attribute\": \"HF_PCT\", \"threshold\": 0.049277544021606445}, \"children\": [{\"value\": {\"type\": \"REGRESSION\", \"value\": 60.64640808105469, \"num_examples\": 429.0, \"standard_deviation\": 2.550160805950694}, \"condition\": {\"type\": \"NUMERICAL_IS_HIGHER_THAN\", \"attribute\": \"LF_NU\", \"threshold\": 96.51167297363281}}, {\"value\": {\"type\": \"REGRESSION\", \"value\": 54.38824462890625, \"num_examples\": 117.0, \"standard_deviation\": 2.2892240516968556}, \"condition\": {\"type\": \"NUMERICAL_IS_HIGHER_THAN\", \"attribute\": \"MEAN_RR\", \"threshold\": 1141.3704833984375}}]}, {\"value\": {\"type\": \"REGRESSION\", \"value\": 67.50472259521484, \"num_examples\": 637.0, \"standard_deviation\": 3.9371279578444027}, \"condition\": {\"type\": \"NUMERICAL_IS_HIGHER_THAN\", \"attribute\": \"MEAN_RR\", \"threshold\": 852.9949340820312}, \"children\": [{\"value\": {\"type\": \"REGRESSION\", \"value\": 66.75837707519531, \"num_examples\": 585.0, \"standard_deviation\": 2.7546576876136197}, \"condition\": {\"type\": \"NUMERICAL_IS_HIGHER_THAN\", \"attribute\": \"SDRR_RMSSD\", \"threshold\": 15.5330810546875}}, {\"value\": {\"type\": \"REGRESSION\", \"value\": 75.90109252929688, \"num_examples\": 52.0, \"standard_deviation\": 5.268286409659732}, \"condition\": {\"type\": \"NUMERICAL_IS_HIGHER_THAN\", \"attribute\": \"SKEW\", \"threshold\": 0.6316297054290771}}]}]}]}, \"#tree_plot_7130075a33214d6a894f05dd8a329095\")\n",
              "</script>\n"
            ]
          },
          "metadata": {},
          "execution_count": 76
        }
      ]
    },
    {
      "cell_type": "code",
      "source": [
        "logs = rf.make_inspector().training_logs()\n",
        "plt.plot([log.num_trees for log in logs], [log.evaluation.rmse for log in logs])\n",
        "plt.xlabel(\"Number of trees\")\n",
        "plt.ylabel(\"RMSE\")\n",
        "plt.show()"
      ],
      "metadata": {
        "colab": {
          "base_uri": "https://localhost:8080/",
          "height": 441
        },
        "id": "P3y4IkmagrXW",
        "outputId": "2b50e994-871c-4b86-c7c1-ff014cad0659"
      },
      "execution_count": 60,
      "outputs": [
        {
          "output_type": "display_data",
          "data": {
            "text/plain": [
              "<Figure size 640x480 with 1 Axes>"
            ],
            "image/png": "[encoded data removed]"
          },
          "metadata": {}
        }
      ]
    },
    {
      "cell_type": "code",
      "source": [
        "evaluation = rf.evaluate(x=valid_ds,return_dict=True)\n",
        "\n",
        "for name, value in evaluation.items():\n",
        "  print(f\"{name}: {value:.4f}\")"
      ],
      "metadata": {
        "colab": {
          "base_uri": "https://localhost:8080/"
        },
        "id": "WEB3_ItAhRpp",
        "outputId": "3607ef70-eaa8-44fc-9178-8d67187c0825"
      },
      "execution_count": 61,
      "outputs": [
        {
          "output_type": "stream",
          "name": "stdout",
          "text": [
            "2/2 [==============================] - 1s 41ms/step - loss: 0.0000e+00 - mse: 0.3135 - mae: 0.2676\n",
            "loss: 0.0000\n",
            "mse: 0.3135\n",
            "mae: 0.2676\n"
          ]
        }
      ]
    },
    {
      "cell_type": "code",
      "source": [
        "inspector = rf.make_inspector()\n",
        "print(f\"Available variable importances:\")\n",
        "for importance in inspector.variable_importances().keys():\n",
        "  print(\"\\t\", importance)"
      ],
      "metadata": {
        "colab": {
          "base_uri": "https://localhost:8080/"
        },
        "id": "hbl5bLJJhb6P",
        "outputId": "e0415500-d0f2-4c71-fc0d-1967b6ac3068"
      },
      "execution_count": 62,
      "outputs": [
        {
          "output_type": "stream",
          "name": "stdout",
          "text": [
            "Available variable importances:\n",
            "\t NUM_NODES\n",
            "\t SUM_SCORE\n",
            "\t NUM_AS_ROOT\n",
            "\t INV_MEAN_MIN_DEPTH\n"
          ]
        }
      ]
    },
    {
      "cell_type": "markdown",
      "source": [
        " The larger the importance score for NUM_AS_ROOT, the more impact it has on the outcome of the model. The list is sorted from the most important to the least."
      ],
      "metadata": {
        "id": "X7t4SlKNiGdQ"
      }
    },
    {
      "cell_type": "code",
      "source": [
        "inspector.variable_importances()[\"NUM_AS_ROOT\"]"
      ],
      "metadata": {
        "colab": {
          "base_uri": "https://localhost:8080/"
        },
        "id": "_GkrUkiHhju3",
        "outputId": "5dbedcd0-c2b2-4adf-b4dd-230696493b25"
      },
      "execution_count": 64,
      "outputs": [
        {
          "output_type": "execute_result",
          "data": {
            "text/plain": [
              "[(\"MEDIAN_RR\" (1; #13), 118.0),\n",
              " (\"MEAN_RR\" (1; #11), 65.0),\n",
              " (\"HF_PCT\" (1; #3), 43.0),\n",
              " (\"HF_NU\" (1; #2), 22.0),\n",
              " (\"LF_NU\" (1; #8), 19.0),\n",
              " (\"LF_HF\" (1; #7), 14.0),\n",
              " (\"HF_LF\" (1; #1), 13.0),\n",
              " (\"HF\" (1; #0), 3.0),\n",
              " (\"SDRR_RMSSD_REL_RR\" (1; #21), 3.0)]"
            ]
          },
          "metadata": {},
          "execution_count": 64
        }
      ]
    },
    {
      "cell_type": "markdown",
      "source": [
        "# Evaluating the model on test data\n",
        "\n",
        "\n"
      ],
      "metadata": {
        "id": "c4BoWeSwaVjY"
      }
    },
    {
      "cell_type": "code",
      "source": [
        "test_file_path = \"/content/drive/MyDrive/aicure/sample_test_data.csv\"\n",
        "test_data = pd.read_csv(test_file_path)"
      ],
      "metadata": {
        "id": "LKAVSgrTmxqs"
      },
      "execution_count": 65,
      "outputs": []
    },
    {
      "cell_type": "code",
      "source": [
        "test_data.head()"
      ],
      "metadata": {
        "colab": {
          "base_uri": "https://localhost:8080/",
          "height": 516
        },
        "id": "YyRvOOFDmyse",
        "outputId": "277ed9a1-ecbd-490c-e8d9-b39e2d29b6f8"
      },
      "execution_count": 66,
      "outputs": [
        {
          "output_type": "execute_result",
          "data": {
            "text/plain": [
              "                                   uuid          VLF    VLF_PCT           LF  \\\n",
              "0  1ae30e0b-098e-46fc-a897-0a6661f26370  1038.142757  43.053026  1316.747853   \n",
              "1  428b41b3-9461-4c79-ab4e-d03b122b2553  1069.353244  27.758342  2663.293874   \n",
              "2  88f82ac7-02dd-447e-a289-22e8e22432c2  1044.054317  62.673708   618.715329   \n",
              "3  1d09b18f-d82f-4c1a-bb2d-71fda6fea837  4587.562353  73.598925  1622.011912   \n",
              "4  a6302640-f70a-4a3a-ad36-a8c3d5df9400  1837.820853  49.193639  1873.914322   \n",
              "\n",
              "      LF_PCT      LF_NU          HF    HF_PCT     HF_NU           TP  ...  \\\n",
              "0  54.607113  95.891158   56.421352  2.339861  4.108842  2411.311962  ...   \n",
              "1  69.133958  95.698188  119.720039  3.107701  4.301812  3852.367156  ...   \n",
              "2  37.140964  99.503494    3.087286  0.185327  0.496506  1665.856933  ...   \n",
              "3  26.022171  98.564819   23.617762  0.378903  1.435181  6233.192027  ...   \n",
              "4  50.159766  98.727334   24.156100  0.646595  1.272666  3735.891274  ...   \n",
              "\n",
              "       KURT      SKEW  MEAN_REL_RR  MEDIAN_REL_RR  SDRR_REL_RR  RMSSD_REL_RR  \\\n",
              "0 -0.165101 -0.224105    -0.000032      -0.000942     0.022748      0.012756   \n",
              "1 -0.729494  0.169267     0.000129      -0.002245     0.031830      0.017082   \n",
              "2  0.408727 -0.099498    -0.000022       0.000121     0.012729      0.005996   \n",
              "3  6.720692  2.506984    -0.000093      -0.001052     0.022455      0.011130   \n",
              "4 -0.320871 -0.007052     0.000090      -0.000726     0.023134      0.012082   \n",
              "\n",
              "   SDSD_REL_RR SDRR_RMSSD_REL_RR  KURT_REL_RR  SKEW_REL_RR  \n",
              "0     0.012756          1.783259    -0.165101    -0.224105  \n",
              "1     0.017082          1.863380    -0.729494     0.169267  \n",
              "2     0.005996          2.122806     0.408727    -0.099498  \n",
              "3     0.011130          2.017539     6.720692     2.506984  \n",
              "4     0.012082          1.914702    -0.320871    -0.007052  \n",
              "\n",
              "[5 rows x 36 columns]"
            ],
            "text/html": [
              "\n",
              "  <div id=\"df-6c98a5e3-9833-4822-a753-a046fb0f4200\" class=\"colab-df-container\">\n",
              "    <div>\n",
              "<style scoped>\n",
              "    .dataframe tbody tr th:only-of-type {\n",
              "        vertical-align: middle;\n",
              "    }\n",
              "\n",
              "    .dataframe tbody tr th {\n",
              "        vertical-align: top;\n",
              "    }\n",
              "\n",
              "    .dataframe thead th {\n",
              "        text-align: right;\n",
              "    }\n",
              "</style>\n",
              "<table border=\"1\" class=\"dataframe\">\n",
              "  <thead>\n",
              "    <tr style=\"text-align: right;\">\n",
              "      <th></th>\n",
              "      <th>uuid</th>\n",
              "      <th>VLF</th>\n",
              "      <th>VLF_PCT</th>\n",
              "      <th>LF</th>\n",
              "      <th>LF_PCT</th>\n",
              "      <th>LF_NU</th>\n",
              "      <th>HF</th>\n",
              "      <th>HF_PCT</th>\n",
              "      <th>HF_NU</th>\n",
              "      <th>TP</th>\n",
              "      <th>...</th>\n",
              "      <th>KURT</th>\n",
              "      <th>SKEW</th>\n",
              "      <th>MEAN_REL_RR</th>\n",
              "      <th>MEDIAN_REL_RR</th>\n",
              "      <th>SDRR_REL_RR</th>\n",
              "      <th>RMSSD_REL_RR</th>\n",
              "      <th>SDSD_REL_RR</th>\n",
              "      <th>SDRR_RMSSD_REL_RR</th>\n",
              "      <th>KURT_REL_RR</th>\n",
              "      <th>SKEW_REL_RR</th>\n",
              "    </tr>\n",
              "  </thead>\n",
              "  <tbody>\n",
              "    <tr>\n",
              "      <th>0</th>\n",
              "      <td>1ae30e0b-098e-46fc-a897-0a6661f26370</td>\n",
              "      <td>1038.142757</td>\n",
              "      <td>43.053026</td>\n",
              "      <td>1316.747853</td>\n",
              "      <td>54.607113</td>\n",
              "      <td>95.891158</td>\n",
              "      <td>56.421352</td>\n",
              "      <td>2.339861</td>\n",
              "      <td>4.108842</td>\n",
              "      <td>2411.311962</td>\n",
              "      <td>...</td>\n",
              "      <td>-0.165101</td>\n",
              "      <td>-0.224105</td>\n",
              "      <td>-0.000032</td>\n",
              "      <td>-0.000942</td>\n",
              "      <td>0.022748</td>\n",
              "      <td>0.012756</td>\n",
              "      <td>0.012756</td>\n",
              "      <td>1.783259</td>\n",
              "      <td>-0.165101</td>\n",
              "      <td>-0.224105</td>\n",
              "    </tr>\n",
              "    <tr>\n",
              "      <th>1</th>\n",
              "      <td>428b41b3-9461-4c79-ab4e-d03b122b2553</td>\n",
              "      <td>1069.353244</td>\n",
              "      <td>27.758342</td>\n",
              "      <td>2663.293874</td>\n",
              "      <td>69.133958</td>\n",
              "      <td>95.698188</td>\n",
              "      <td>119.720039</td>\n",
              "      <td>3.107701</td>\n",
              "      <td>4.301812</td>\n",
              "      <td>3852.367156</td>\n",
              "      <td>...</td>\n",
              "      <td>-0.729494</td>\n",
              "      <td>0.169267</td>\n",
              "      <td>0.000129</td>\n",
              "      <td>-0.002245</td>\n",
              "      <td>0.031830</td>\n",
              "      <td>0.017082</td>\n",
              "      <td>0.017082</td>\n",
              "      <td>1.863380</td>\n",
              "      <td>-0.729494</td>\n",
              "      <td>0.169267</td>\n",
              "    </tr>\n",
              "    <tr>\n",
              "      <th>2</th>\n",
              "      <td>88f82ac7-02dd-447e-a289-22e8e22432c2</td>\n",
              "      <td>1044.054317</td>\n",
              "      <td>62.673708</td>\n",
              "      <td>618.715329</td>\n",
              "      <td>37.140964</td>\n",
              "      <td>99.503494</td>\n",
              "      <td>3.087286</td>\n",
              "      <td>0.185327</td>\n",
              "      <td>0.496506</td>\n",
              "      <td>1665.856933</td>\n",
              "      <td>...</td>\n",
              "      <td>0.408727</td>\n",
              "      <td>-0.099498</td>\n",
              "      <td>-0.000022</td>\n",
              "      <td>0.000121</td>\n",
              "      <td>0.012729</td>\n",
              "      <td>0.005996</td>\n",
              "      <td>0.005996</td>\n",
              "      <td>2.122806</td>\n",
              "      <td>0.408727</td>\n",
              "      <td>-0.099498</td>\n",
              "    </tr>\n",
              "    <tr>\n",
              "      <th>3</th>\n",
              "      <td>1d09b18f-d82f-4c1a-bb2d-71fda6fea837</td>\n",
              "      <td>4587.562353</td>\n",
              "      <td>73.598925</td>\n",
              "      <td>1622.011912</td>\n",
              "      <td>26.022171</td>\n",
              "      <td>98.564819</td>\n",
              "      <td>23.617762</td>\n",
              "      <td>0.378903</td>\n",
              "      <td>1.435181</td>\n",
              "      <td>6233.192027</td>\n",
              "      <td>...</td>\n",
              "      <td>6.720692</td>\n",
              "      <td>2.506984</td>\n",
              "      <td>-0.000093</td>\n",
              "      <td>-0.001052</td>\n",
              "      <td>0.022455</td>\n",
              "      <td>0.011130</td>\n",
              "      <td>0.011130</td>\n",
              "      <td>2.017539</td>\n",
              "      <td>6.720692</td>\n",
              "      <td>2.506984</td>\n",
              "    </tr>\n",
              "    <tr>\n",
              "      <th>4</th>\n",
              "      <td>a6302640-f70a-4a3a-ad36-a8c3d5df9400</td>\n",
              "      <td>1837.820853</td>\n",
              "      <td>49.193639</td>\n",
              "      <td>1873.914322</td>\n",
              "      <td>50.159766</td>\n",
              "      <td>98.727334</td>\n",
              "      <td>24.156100</td>\n",
              "      <td>0.646595</td>\n",
              "      <td>1.272666</td>\n",
              "      <td>3735.891274</td>\n",
              "      <td>...</td>\n",
              "      <td>-0.320871</td>\n",
              "      <td>-0.007052</td>\n",
              "      <td>0.000090</td>\n",
              "      <td>-0.000726</td>\n",
              "      <td>0.023134</td>\n",
              "      <td>0.012082</td>\n",
              "      <td>0.012082</td>\n",
              "      <td>1.914702</td>\n",
              "      <td>-0.320871</td>\n",
              "      <td>-0.007052</td>\n",
              "    </tr>\n",
              "  </tbody>\n",
              "</table>\n",
              "<p>5 rows × 36 columns</p>\n",
              "</div>\n",
              "    <div class=\"colab-df-buttons\">\n",
              "\n",
              "  <div class=\"colab-df-container\">\n",
              "    <button class=\"colab-df-convert\" onclick=\"convertToInteractive('df-6c98a5e3-9833-4822-a753-a046fb0f4200')\"\n",
              "            title=\"Convert this dataframe to an interactive table.\"\n",
              "            style=\"display:none;\">\n",
              "\n",
              "  <svg xmlns=\"http://www.w3.org/2000/svg\" height=\"24px\" viewBox=\"0 -960 960 960\">\n",
              "    <path d=\"M120-120v-720h720v720H120Zm60-500h600v-160H180v160Zm220 220h160v-160H400v160Zm0 220h160v-160H400v160ZM180-400h160v-160H180v160Zm440 0h160v-160H620v160ZM180-180h160v-160H180v160Zm440 0h160v-160H620v160Z\"/>\n",
              "  </svg>\n",
              "    </button>\n",
              "\n",
              "  <style>\n",
              "    .colab-df-container {\n",
              "      display:flex;\n",
              "      gap: 12px;\n",
              "    }\n",
              "\n",
              "    .colab-df-convert {\n",
              "      background-color: #E8F0FE;\n",
              "      border: none;\n",
              "      border-radius: 50%;\n",
              "      cursor: pointer;\n",
              "      display: none;\n",
              "      fill: #1967D2;\n",
              "      height: 32px;\n",
              "      padding: 0 0 0 0;\n",
              "      width: 32px;\n",
              "    }\n",
              "\n",
              "    .colab-df-convert:hover {\n",
              "      background-color: #E2EBFA;\n",
              "      box-shadow: 0px 1px 2px rgba(60, 64, 67, 0.3), 0px 1px 3px 1px rgba(60, 64, 67, 0.15);\n",
              "      fill: #174EA6;\n",
              "    }\n",
              "\n",
              "    .colab-df-buttons div {\n",
              "      margin-bottom: 4px;\n",
              "    }\n",
              "\n",
              "    [theme=dark] .colab-df-convert {\n",
              "      background-color: #3B4455;\n",
              "      fill: #D2E3FC;\n",
              "    }\n",
              "\n",
              "    [theme=dark] .colab-df-convert:hover {\n",
              "      background-color: #434B5C;\n",
              "      box-shadow: 0px 1px 3px 1px rgba(0, 0, 0, 0.15);\n",
              "      filter: drop-shadow(0px 1px 2px rgba(0, 0, 0, 0.3));\n",
              "      fill: #FFFFFF;\n",
              "    }\n",
              "  </style>\n",
              "\n",
              "    <script>\n",
              "      const buttonEl =\n",
              "        document.querySelector('#df-6c98a5e3-9833-4822-a753-a046fb0f4200 button.colab-df-convert');\n",
              "      buttonEl.style.display =\n",
              "        google.colab.kernel.accessAllowed ? 'block' : 'none';\n",
              "\n",
              "      async function convertToInteractive(key) {\n",
              "        const element = document.querySelector('#df-6c98a5e3-9833-4822-a753-a046fb0f4200');\n",
              "        const dataTable =\n",
              "          await google.colab.kernel.invokeFunction('convertToInteractive',\n",
              "                                                    [key], {});\n",
              "        if (!dataTable) return;\n",
              "\n",
              "        const docLinkHtml = 'Like what you see? Visit the ' +\n",
              "          '<a target=\"_blank\" href=https://colab.research.google.com/notebooks/data_table.ipynb>data table notebook</a>'\n",
              "          + ' to learn more about interactive tables.';\n",
              "        element.innerHTML = '';\n",
              "        dataTable['output_type'] = 'display_data';\n",
              "        await google.colab.output.renderOutput(dataTable, element);\n",
              "        const docLink = document.createElement('div');\n",
              "        docLink.innerHTML = docLinkHtml;\n",
              "        element.appendChild(docLink);\n",
              "      }\n",
              "    </script>\n",
              "  </div>\n",
              "\n",
              "\n",
              "<div id=\"df-3cc972ef-d243-4537-b166-847f15d7e82f\">\n",
              "  <button class=\"colab-df-quickchart\" onclick=\"quickchart('df-3cc972ef-d243-4537-b166-847f15d7e82f')\"\n",
              "            title=\"Suggest charts\"\n",
              "            style=\"display:none;\">\n",
              "\n",
              "<svg xmlns=\"http://www.w3.org/2000/svg\" height=\"24px\"viewBox=\"0 0 24 24\"\n",
              "     width=\"24px\">\n",
              "    <g>\n",
              "        <path d=\"M19 3H5c-1.1 0-2 .9-2 2v14c0 1.1.9 2 2 2h14c1.1 0 2-.9 2-2V5c0-1.1-.9-2-2-2zM9 17H7v-7h2v7zm4 0h-2V7h2v10zm4 0h-2v-4h2v4z\"/>\n",
              "    </g>\n",
              "</svg>\n",
              "  </button>\n",
              "\n",
              "<style>\n",
              "  .colab-df-quickchart {\n",
              "      --bg-color: #E8F0FE;\n",
              "      --fill-color: #1967D2;\n",
              "      --hover-bg-color: #E2EBFA;\n",
              "      --hover-fill-color: #174EA6;\n",
              "      --disabled-fill-color: #AAA;\n",
              "      --disabled-bg-color: #DDD;\n",
              "  }\n",
              "\n",
              "  [theme=dark] .colab-df-quickchart {\n",
              "      --bg-color: #3B4455;\n",
              "      --fill-color: #D2E3FC;\n",
              "      --hover-bg-color: #434B5C;\n",
              "      --hover-fill-color: #FFFFFF;\n",
              "      --disabled-bg-color: #3B4455;\n",
              "      --disabled-fill-color: #666;\n",
              "  }\n",
              "\n",
              "  .colab-df-quickchart {\n",
              "    background-color: var(--bg-color);\n",
              "    border: none;\n",
              "    border-radius: 50%;\n",
              "    cursor: pointer;\n",
              "    display: none;\n",
              "    fill: var(--fill-color);\n",
              "    height: 32px;\n",
              "    padding: 0;\n",
              "    width: 32px;\n",
              "  }\n",
              "\n",
              "  .colab-df-quickchart:hover {\n",
              "    background-color: var(--hover-bg-color);\n",
              "    box-shadow: 0 1px 2px rgba(60, 64, 67, 0.3), 0 1px 3px 1px rgba(60, 64, 67, 0.15);\n",
              "    fill: var(--button-hover-fill-color);\n",
              "  }\n",
              "\n",
              "  .colab-df-quickchart-complete:disabled,\n",
              "  .colab-df-quickchart-complete:disabled:hover {\n",
              "    background-color: var(--disabled-bg-color);\n",
              "    fill: var(--disabled-fill-color);\n",
              "    box-shadow: none;\n",
              "  }\n",
              "\n",
              "  .colab-df-spinner {\n",
              "    border: 2px solid var(--fill-color);\n",
              "    border-color: transparent;\n",
              "    border-bottom-color: var(--fill-color);\n",
              "    animation:\n",
              "      spin 1s steps(1) infinite;\n",
              "  }\n",
              "\n",
              "  @keyframes spin {\n",
              "    0% {\n",
              "      border-color: transparent;\n",
              "      border-bottom-color: var(--fill-color);\n",
              "      border-left-color: var(--fill-color);\n",
              "    }\n",
              "    20% {\n",
              "      border-color: transparent;\n",
              "      border-left-color: var(--fill-color);\n",
              "      border-top-color: var(--fill-color);\n",
              "    }\n",
              "    30% {\n",
              "      border-color: transparent;\n",
              "      border-left-color: var(--fill-color);\n",
              "      border-top-color: var(--fill-color);\n",
              "      border-right-color: var(--fill-color);\n",
              "    }\n",
              "    40% {\n",
              "      border-color: transparent;\n",
              "      border-right-color: var(--fill-color);\n",
              "      border-top-color: var(--fill-color);\n",
              "    }\n",
              "    60% {\n",
              "      border-color: transparent;\n",
              "      border-right-color: var(--fill-color);\n",
              "    }\n",
              "    80% {\n",
              "      border-color: transparent;\n",
              "      border-right-color: var(--fill-color);\n",
              "      border-bottom-color: var(--fill-color);\n",
              "    }\n",
              "    90% {\n",
              "      border-color: transparent;\n",
              "      border-bottom-color: var(--fill-color);\n",
              "    }\n",
              "  }\n",
              "</style>\n",
              "\n",
              "  <script>\n",
              "    async function quickchart(key) {\n",
              "      const quickchartButtonEl =\n",
              "        document.querySelector('#' + key + ' button');\n",
              "      quickchartButtonEl.disabled = true;  // To prevent multiple clicks.\n",
              "      quickchartButtonEl.classList.add('colab-df-spinner');\n",
              "      try {\n",
              "        const charts = await google.colab.kernel.invokeFunction(\n",
              "            'suggestCharts', [key], {});\n",
              "      } catch (error) {\n",
              "        console.error('Error during call to suggestCharts:', error);\n",
              "      }\n",
              "      quickchartButtonEl.classList.remove('colab-df-spinner');\n",
              "      quickchartButtonEl.classList.add('colab-df-quickchart-complete');\n",
              "    }\n",
              "    (() => {\n",
              "      let quickchartButtonEl =\n",
              "        document.querySelector('#df-3cc972ef-d243-4537-b166-847f15d7e82f button');\n",
              "      quickchartButtonEl.style.display =\n",
              "        google.colab.kernel.accessAllowed ? 'block' : 'none';\n",
              "    })();\n",
              "  </script>\n",
              "</div>\n",
              "\n",
              "    </div>\n",
              "  </div>\n"
            ]
          },
          "metadata": {},
          "execution_count": 66
        }
      ]
    },
    {
      "cell_type": "code",
      "source": [
        "test_data.columns"
      ],
      "metadata": {
        "colab": {
          "base_uri": "https://localhost:8080/"
        },
        "id": "QrmrP9JAm36V",
        "outputId": "47cfb8a4-edd3-4d83-8590-e1a4c1bf7a06"
      },
      "execution_count": 67,
      "outputs": [
        {
          "output_type": "execute_result",
          "data": {
            "text/plain": [
              "Index(['uuid', 'VLF', 'VLF_PCT', 'LF', 'LF_PCT', 'LF_NU', 'HF', 'HF_PCT',\n",
              "       'HF_NU', 'TP', 'LF_HF', 'HF_LF', 'SD1', 'SD2', 'sampen', 'higuci',\n",
              "       'datasetId', 'condition', 'MEAN_RR', 'MEDIAN_RR', 'SDRR', 'RMSSD',\n",
              "       'SDSD', 'SDRR_RMSSD', 'pNN25', 'pNN50', 'KURT', 'SKEW', 'MEAN_REL_RR',\n",
              "       'MEDIAN_REL_RR', 'SDRR_REL_RR', 'RMSSD_REL_RR', 'SDSD_REL_RR',\n",
              "       'SDRR_RMSSD_REL_RR', 'KURT_REL_RR', 'SKEW_REL_RR'],\n",
              "      dtype='object')"
            ]
          },
          "metadata": {},
          "execution_count": 67
        }
      ]
    },
    {
      "cell_type": "code",
      "source": [
        "ids = test_data.pop('uuid')"
      ],
      "metadata": {
        "id": "JVwPGh_xm8am"
      },
      "execution_count": 68,
      "outputs": []
    },
    {
      "cell_type": "code",
      "source": [
        "test_ds = tfdf.keras.pd_dataframe_to_tf_dataset(\n",
        "    test_data,\n",
        "    task = tfdf.keras.Task.REGRESSION)\n"
      ],
      "metadata": {
        "id": "0hB91Grxm9ZR"
      },
      "execution_count": 69,
      "outputs": []
    },
    {
      "cell_type": "code",
      "source": [
        "preds = rf.predict(test_ds)\n",
        "output = pd.DataFrame({'uuid': ids,\n",
        "                       'HR': preds.squeeze()})"
      ],
      "metadata": {
        "colab": {
          "base_uri": "https://localhost:8080/"
        },
        "id": "e8ILzqHLnUnE",
        "outputId": "6fdac2f8-6ed7-4e5b-dedd-368952770cbd"
      },
      "execution_count": 70,
      "outputs": [
        {
          "output_type": "stream",
          "name": "stdout",
          "text": [
            "1/1 [==============================] - 0s 332ms/step\n"
          ]
        }
      ]
    },
    {
      "cell_type": "code",
      "source": [
        "output"
      ],
      "metadata": {
        "colab": {
          "base_uri": "https://localhost:8080/",
          "height": 363
        },
        "id": "BA_sSpBQpRy8",
        "outputId": "0a98551c-6153-44a9-a944-191286ca2287"
      },
      "execution_count": 71,
      "outputs": [
        {
          "output_type": "execute_result",
          "data": {
            "text/plain": [
              "                                   uuid         HR\n",
              "0  1ae30e0b-098e-46fc-a897-0a6661f26370  75.213852\n",
              "1  428b41b3-9461-4c79-ab4e-d03b122b2553  80.822456\n",
              "2  88f82ac7-02dd-447e-a289-22e8e22432c2  62.421078\n",
              "3  1d09b18f-d82f-4c1a-bb2d-71fda6fea837  66.187584\n",
              "4  a6302640-f70a-4a3a-ad36-a8c3d5df9400  64.461266\n",
              "5  3f6508be-4b0a-4008-b701-49d8c2d5dd43  56.904274\n",
              "6  a07d84c8-fc44-45ef-bb85-f06f06b70e9f  75.191284\n",
              "7  f4a449db-a7ff-437b-852b-821a6e965f2f  62.215286\n",
              "8  94364ef1-12e2-4ddd-9f35-99e270547849  56.895504\n",
              "9  231d34f5-1028-4f2e-8e1d-00d086b0c218  71.021286"
            ],
            "text/html": [
              "\n",
              "  <div id=\"df-eabe6376-ed98-42ea-bfc2-6365ce2e35d1\" class=\"colab-df-container\">\n",
              "    <div>\n",
              "<style scoped>\n",
              "    .dataframe tbody tr th:only-of-type {\n",
              "        vertical-align: middle;\n",
              "    }\n",
              "\n",
              "    .dataframe tbody tr th {\n",
              "        vertical-align: top;\n",
              "    }\n",
              "\n",
              "    .dataframe thead th {\n",
              "        text-align: right;\n",
              "    }\n",
              "</style>\n",
              "<table border=\"1\" class=\"dataframe\">\n",
              "  <thead>\n",
              "    <tr style=\"text-align: right;\">\n",
              "      <th></th>\n",
              "      <th>uuid</th>\n",
              "      <th>HR</th>\n",
              "    </tr>\n",
              "  </thead>\n",
              "  <tbody>\n",
              "    <tr>\n",
              "      <th>0</th>\n",
              "      <td>1ae30e0b-098e-46fc-a897-0a6661f26370</td>\n",
              "      <td>75.213852</td>\n",
              "    </tr>\n",
              "    <tr>\n",
              "      <th>1</th>\n",
              "      <td>428b41b3-9461-4c79-ab4e-d03b122b2553</td>\n",
              "      <td>80.822456</td>\n",
              "    </tr>\n",
              "    <tr>\n",
              "      <th>2</th>\n",
              "      <td>88f82ac7-02dd-447e-a289-22e8e22432c2</td>\n",
              "      <td>62.421078</td>\n",
              "    </tr>\n",
              "    <tr>\n",
              "      <th>3</th>\n",
              "      <td>1d09b18f-d82f-4c1a-bb2d-71fda6fea837</td>\n",
              "      <td>66.187584</td>\n",
              "    </tr>\n",
              "    <tr>\n",
              "      <th>4</th>\n",
              "      <td>a6302640-f70a-4a3a-ad36-a8c3d5df9400</td>\n",
              "      <td>64.461266</td>\n",
              "    </tr>\n",
              "    <tr>\n",
              "      <th>5</th>\n",
              "      <td>3f6508be-4b0a-4008-b701-49d8c2d5dd43</td>\n",
              "      <td>56.904274</td>\n",
              "    </tr>\n",
              "    <tr>\n",
              "      <th>6</th>\n",
              "      <td>a07d84c8-fc44-45ef-bb85-f06f06b70e9f</td>\n",
              "      <td>75.191284</td>\n",
              "    </tr>\n",
              "    <tr>\n",
              "      <th>7</th>\n",
              "      <td>f4a449db-a7ff-437b-852b-821a6e965f2f</td>\n",
              "      <td>62.215286</td>\n",
              "    </tr>\n",
              "    <tr>\n",
              "      <th>8</th>\n",
              "      <td>94364ef1-12e2-4ddd-9f35-99e270547849</td>\n",
              "      <td>56.895504</td>\n",
              "    </tr>\n",
              "    <tr>\n",
              "      <th>9</th>\n",
              "      <td>231d34f5-1028-4f2e-8e1d-00d086b0c218</td>\n",
              "      <td>71.021286</td>\n",
              "    </tr>\n",
              "  </tbody>\n",
              "</table>\n",
              "</div>\n",
              "    <div class=\"colab-df-buttons\">\n",
              "\n",
              "  <div class=\"colab-df-container\">\n",
              "    <button class=\"colab-df-convert\" onclick=\"convertToInteractive('df-eabe6376-ed98-42ea-bfc2-6365ce2e35d1')\"\n",
              "            title=\"Convert this dataframe to an interactive table.\"\n",
              "            style=\"display:none;\">\n",
              "\n",
              "  <svg xmlns=\"http://www.w3.org/2000/svg\" height=\"24px\" viewBox=\"0 -960 960 960\">\n",
              "    <path d=\"M120-120v-720h720v720H120Zm60-500h600v-160H180v160Zm220 220h160v-160H400v160Zm0 220h160v-160H400v160ZM180-400h160v-160H180v160Zm440 0h160v-160H620v160ZM180-180h160v-160H180v160Zm440 0h160v-160H620v160Z\"/>\n",
              "  </svg>\n",
              "    </button>\n",
              "\n",
              "  <style>\n",
              "    .colab-df-container {\n",
              "      display:flex;\n",
              "      gap: 12px;\n",
              "    }\n",
              "\n",
              "    .colab-df-convert {\n",
              "      background-color: #E8F0FE;\n",
              "      border: none;\n",
              "      border-radius: 50%;\n",
              "      cursor: pointer;\n",
              "      display: none;\n",
              "      fill: #1967D2;\n",
              "      height: 32px;\n",
              "      padding: 0 0 0 0;\n",
              "      width: 32px;\n",
              "    }\n",
              "\n",
              "    .colab-df-convert:hover {\n",
              "      background-color: #E2EBFA;\n",
              "      box-shadow: 0px 1px 2px rgba(60, 64, 67, 0.3), 0px 1px 3px 1px rgba(60, 64, 67, 0.15);\n",
              "      fill: #174EA6;\n",
              "    }\n",
              "\n",
              "    .colab-df-buttons div {\n",
              "      margin-bottom: 4px;\n",
              "    }\n",
              "\n",
              "    [theme=dark] .colab-df-convert {\n",
              "      background-color: #3B4455;\n",
              "      fill: #D2E3FC;\n",
              "    }\n",
              "\n",
              "    [theme=dark] .colab-df-convert:hover {\n",
              "      background-color: #434B5C;\n",
              "      box-shadow: 0px 1px 3px 1px rgba(0, 0, 0, 0.15);\n",
              "      filter: drop-shadow(0px 1px 2px rgba(0, 0, 0, 0.3));\n",
              "      fill: #FFFFFF;\n",
              "    }\n",
              "  </style>\n",
              "\n",
              "    <script>\n",
              "      const buttonEl =\n",
              "        document.querySelector('#df-eabe6376-ed98-42ea-bfc2-6365ce2e35d1 button.colab-df-convert');\n",
              "      buttonEl.style.display =\n",
              "        google.colab.kernel.accessAllowed ? 'block' : 'none';\n",
              "\n",
              "      async function convertToInteractive(key) {\n",
              "        const element = document.querySelector('#df-eabe6376-ed98-42ea-bfc2-6365ce2e35d1');\n",
              "        const dataTable =\n",
              "          await google.colab.kernel.invokeFunction('convertToInteractive',\n",
              "                                                    [key], {});\n",
              "        if (!dataTable) return;\n",
              "\n",
              "        const docLinkHtml = 'Like what you see? Visit the ' +\n",
              "          '<a target=\"_blank\" href=https://colab.research.google.com/notebooks/data_table.ipynb>data table notebook</a>'\n",
              "          + ' to learn more about interactive tables.';\n",
              "        element.innerHTML = '';\n",
              "        dataTable['output_type'] = 'display_data';\n",
              "        await google.colab.output.renderOutput(dataTable, element);\n",
              "        const docLink = document.createElement('div');\n",
              "        docLink.innerHTML = docLinkHtml;\n",
              "        element.appendChild(docLink);\n",
              "      }\n",
              "    </script>\n",
              "  </div>\n",
              "\n",
              "\n",
              "<div id=\"df-5e808129-8743-4033-95ab-357d0c1e0b86\">\n",
              "  <button class=\"colab-df-quickchart\" onclick=\"quickchart('df-5e808129-8743-4033-95ab-357d0c1e0b86')\"\n",
              "            title=\"Suggest charts\"\n",
              "            style=\"display:none;\">\n",
              "\n",
              "<svg xmlns=\"http://www.w3.org/2000/svg\" height=\"24px\"viewBox=\"0 0 24 24\"\n",
              "     width=\"24px\">\n",
              "    <g>\n",
              "        <path d=\"M19 3H5c-1.1 0-2 .9-2 2v14c0 1.1.9 2 2 2h14c1.1 0 2-.9 2-2V5c0-1.1-.9-2-2-2zM9 17H7v-7h2v7zm4 0h-2V7h2v10zm4 0h-2v-4h2v4z\"/>\n",
              "    </g>\n",
              "</svg>\n",
              "  </button>\n",
              "\n",
              "<style>\n",
              "  .colab-df-quickchart {\n",
              "      --bg-color: #E8F0FE;\n",
              "      --fill-color: #1967D2;\n",
              "      --hover-bg-color: #E2EBFA;\n",
              "      --hover-fill-color: #174EA6;\n",
              "      --disabled-fill-color: #AAA;\n",
              "      --disabled-bg-color: #DDD;\n",
              "  }\n",
              "\n",
              "  [theme=dark] .colab-df-quickchart {\n",
              "      --bg-color: #3B4455;\n",
              "      --fill-color: #D2E3FC;\n",
              "      --hover-bg-color: #434B5C;\n",
              "      --hover-fill-color: #FFFFFF;\n",
              "      --disabled-bg-color: #3B4455;\n",
              "      --disabled-fill-color: #666;\n",
              "  }\n",
              "\n",
              "  .colab-df-quickchart {\n",
              "    background-color: var(--bg-color);\n",
              "    border: none;\n",
              "    border-radius: 50%;\n",
              "    cursor: pointer;\n",
              "    display: none;\n",
              "    fill: var(--fill-color);\n",
              "    height: 32px;\n",
              "    padding: 0;\n",
              "    width: 32px;\n",
              "  }\n",
              "\n",
              "  .colab-df-quickchart:hover {\n",
              "    background-color: var(--hover-bg-color);\n",
              "    box-shadow: 0 1px 2px rgba(60, 64, 67, 0.3), 0 1px 3px 1px rgba(60, 64, 67, 0.15);\n",
              "    fill: var(--button-hover-fill-color);\n",
              "  }\n",
              "\n",
              "  .colab-df-quickchart-complete:disabled,\n",
              "  .colab-df-quickchart-complete:disabled:hover {\n",
              "    background-color: var(--disabled-bg-color);\n",
              "    fill: var(--disabled-fill-color);\n",
              "    box-shadow: none;\n",
              "  }\n",
              "\n",
              "  .colab-df-spinner {\n",
              "    border: 2px solid var(--fill-color);\n",
              "    border-color: transparent;\n",
              "    border-bottom-color: var(--fill-color);\n",
              "    animation:\n",
              "      spin 1s steps(1) infinite;\n",
              "  }\n",
              "\n",
              "  @keyframes spin {\n",
              "    0% {\n",
              "      border-color: transparent;\n",
              "      border-bottom-color: var(--fill-color);\n",
              "      border-left-color: var(--fill-color);\n",
              "    }\n",
              "    20% {\n",
              "      border-color: transparent;\n",
              "      border-left-color: var(--fill-color);\n",
              "      border-top-color: var(--fill-color);\n",
              "    }\n",
              "    30% {\n",
              "      border-color: transparent;\n",
              "      border-left-color: var(--fill-color);\n",
              "      border-top-color: var(--fill-color);\n",
              "      border-right-color: var(--fill-color);\n",
              "    }\n",
              "    40% {\n",
              "      border-color: transparent;\n",
              "      border-right-color: var(--fill-color);\n",
              "      border-top-color: var(--fill-color);\n",
              "    }\n",
              "    60% {\n",
              "      border-color: transparent;\n",
              "      border-right-color: var(--fill-color);\n",
              "    }\n",
              "    80% {\n",
              "      border-color: transparent;\n",
              "      border-right-color: var(--fill-color);\n",
              "      border-bottom-color: var(--fill-color);\n",
              "    }\n",
              "    90% {\n",
              "      border-color: transparent;\n",
              "      border-bottom-color: var(--fill-color);\n",
              "    }\n",
              "  }\n",
              "</style>\n",
              "\n",
              "  <script>\n",
              "    async function quickchart(key) {\n",
              "      const quickchartButtonEl =\n",
              "        document.querySelector('#' + key + ' button');\n",
              "      quickchartButtonEl.disabled = true;  // To prevent multiple clicks.\n",
              "      quickchartButtonEl.classList.add('colab-df-spinner');\n",
              "      try {\n",
              "        const charts = await google.colab.kernel.invokeFunction(\n",
              "            'suggestCharts', [key], {});\n",
              "      } catch (error) {\n",
              "        console.error('Error during call to suggestCharts:', error);\n",
              "      }\n",
              "      quickchartButtonEl.classList.remove('colab-df-spinner');\n",
              "      quickchartButtonEl.classList.add('colab-df-quickchart-complete');\n",
              "    }\n",
              "    (() => {\n",
              "      let quickchartButtonEl =\n",
              "        document.querySelector('#df-5e808129-8743-4033-95ab-357d0c1e0b86 button');\n",
              "      quickchartButtonEl.style.display =\n",
              "        google.colab.kernel.accessAllowed ? 'block' : 'none';\n",
              "    })();\n",
              "  </script>\n",
              "</div>\n",
              "\n",
              "  <div id=\"id_6e52428e-d697-4d1b-8672-add6c0a5f924\">\n",
              "    <style>\n",
              "      .colab-df-generate {\n",
              "        background-color: #E8F0FE;\n",
              "        border: none;\n",
              "        border-radius: 50%;\n",
              "        cursor: pointer;\n",
              "        display: none;\n",
              "        fill: #1967D2;\n",
              "        height: 32px;\n",
              "        padding: 0 0 0 0;\n",
              "        width: 32px;\n",
              "      }\n",
              "\n",
              "      .colab-df-generate:hover {\n",
              "        background-color: #E2EBFA;\n",
              "        box-shadow: 0px 1px 2px rgba(60, 64, 67, 0.3), 0px 1px 3px 1px rgba(60, 64, 67, 0.15);\n",
              "        fill: #174EA6;\n",
              "      }\n",
              "\n",
              "      [theme=dark] .colab-df-generate {\n",
              "        background-color: #3B4455;\n",
              "        fill: #D2E3FC;\n",
              "      }\n",
              "\n",
              "      [theme=dark] .colab-df-generate:hover {\n",
              "        background-color: #434B5C;\n",
              "        box-shadow: 0px 1px 3px 1px rgba(0, 0, 0, 0.15);\n",
              "        filter: drop-shadow(0px 1px 2px rgba(0, 0, 0, 0.3));\n",
              "        fill: #FFFFFF;\n",
              "      }\n",
              "    </style>\n",
              "    <button class=\"colab-df-generate\" onclick=\"generateWithVariable('output')\"\n",
              "            title=\"Generate code using this dataframe.\"\n",
              "            style=\"display:none;\">\n",
              "\n",
              "  <svg xmlns=\"http://www.w3.org/2000/svg\" height=\"24px\"viewBox=\"0 0 24 24\"\n",
              "       width=\"24px\">\n",
              "    <path d=\"M7,19H8.4L18.45,9,17,7.55,7,17.6ZM5,21V16.75L18.45,3.32a2,2,0,0,1,2.83,0l1.4,1.43a1.91,1.91,0,0,1,.58,1.4,1.91,1.91,0,0,1-.58,1.4L9.25,21ZM18.45,9,17,7.55Zm-12,3A5.31,5.31,0,0,0,4.9,8.1,5.31,5.31,0,0,0,1,6.5,5.31,5.31,0,0,0,4.9,4.9,5.31,5.31,0,0,0,6.5,1,5.31,5.31,0,0,0,8.1,4.9,5.31,5.31,0,0,0,12,6.5,5.46,5.46,0,0,0,6.5,12Z\"/>\n",
              "  </svg>\n",
              "    </button>\n",
              "    <script>\n",
              "      (() => {\n",
              "      const buttonEl =\n",
              "        document.querySelector('#id_6e52428e-d697-4d1b-8672-add6c0a5f924 button.colab-df-generate');\n",
              "      buttonEl.style.display =\n",
              "        google.colab.kernel.accessAllowed ? 'block' : 'none';\n",
              "\n",
              "      buttonEl.onclick = () => {\n",
              "        google.colab.notebook.generateWithVariable('output');\n",
              "      }\n",
              "      })();\n",
              "    </script>\n",
              "  </div>\n",
              "\n",
              "    </div>\n",
              "  </div>\n"
            ]
          },
          "metadata": {},
          "execution_count": 71
        }
      ]
    },
    {
      "cell_type": "code",
      "source": [
        "output_file_path = \"/content/drive/MyDrive/aicure/sample_output_generated.csv\"\n",
        "test_data_file_path = \"/content/drive/MyDrive/aicure/sample_test_data.csv\"\n",
        "\n",
        "output_data = pd.read_csv(output_file_path)\n",
        "test_data = pd.read_csv(test_data_file_path)\n",
        "\n",
        "merged_data = pd.merge(test_data, output_data, on='uuid', how='left')\n",
        "\n",
        "print(merged_data.head())\n",
        "\n",
        "merged_file_path = \"/content/drive/MyDrive/aicure/merged_data.csv\"\n",
        "merged_data.to_csv(merged_file_path, index=False)\n"
      ],
      "metadata": {
        "id": "RPqNI0xRgVTB",
        "colab": {
          "base_uri": "https://localhost:8080/"
        },
        "outputId": "1403e8bb-3550-4ba5-c519-57d1ef2f9293"
      },
      "execution_count": 72,
      "outputs": [
        {
          "output_type": "stream",
          "name": "stdout",
          "text": [
            "                                   uuid          VLF    VLF_PCT           LF  \\\n",
            "0  1ae30e0b-098e-46fc-a897-0a6661f26370  1038.142757  43.053026  1316.747853   \n",
            "1  428b41b3-9461-4c79-ab4e-d03b122b2553  1069.353244  27.758342  2663.293874   \n",
            "2  88f82ac7-02dd-447e-a289-22e8e22432c2  1044.054317  62.673708   618.715329   \n",
            "3  1d09b18f-d82f-4c1a-bb2d-71fda6fea837  4587.562353  73.598925  1622.011912   \n",
            "4  a6302640-f70a-4a3a-ad36-a8c3d5df9400  1837.820853  49.193639  1873.914322   \n",
            "\n",
            "      LF_PCT      LF_NU          HF    HF_PCT     HF_NU           TP  ...  \\\n",
            "0  54.607113  95.891158   56.421352  2.339861  4.108842  2411.311962  ...   \n",
            "1  69.133958  95.698188  119.720039  3.107701  4.301812  3852.367156  ...   \n",
            "2  37.140964  99.503494    3.087286  0.185327  0.496506  1665.856933  ...   \n",
            "3  26.022171  98.564819   23.617762  0.378903  1.435181  6233.192027  ...   \n",
            "4  50.159766  98.727334   24.156100  0.646595  1.272666  3735.891274  ...   \n",
            "\n",
            "       SKEW  MEAN_REL_RR  MEDIAN_REL_RR  SDRR_REL_RR  RMSSD_REL_RR  \\\n",
            "0 -0.224105    -0.000032      -0.000942     0.022748      0.012756   \n",
            "1  0.169267     0.000129      -0.002245     0.031830      0.017082   \n",
            "2 -0.099498    -0.000022       0.000121     0.012729      0.005996   \n",
            "3  2.506984    -0.000093      -0.001052     0.022455      0.011130   \n",
            "4 -0.007052     0.000090      -0.000726     0.023134      0.012082   \n",
            "\n",
            "   SDSD_REL_RR  SDRR_RMSSD_REL_RR KURT_REL_RR  SKEW_REL_RR         HR  \n",
            "0     0.012756           1.783259   -0.165101    -0.224105  75.206050  \n",
            "1     0.017082           1.863380   -0.729494     0.169267  80.870132  \n",
            "2     0.005996           2.122806    0.408727    -0.099498  62.313063  \n",
            "3     0.011130           2.017539    6.720692     2.506984  66.336924  \n",
            "4     0.012082           1.914702   -0.320871    -0.007052  64.422596  \n",
            "\n",
            "[5 rows x 37 columns]\n"
          ]
        }
      ]
    },
    {
      "cell_type": "code",
      "source": [
        "merged_data.head()"
      ],
      "metadata": {
        "colab": {
          "base_uri": "https://localhost:8080/",
          "height": 516
        },
        "id": "suxxoRGAgw8t",
        "outputId": "e226df51-df4b-4ba7-9524-141f131926a3"
      },
      "execution_count": 73,
      "outputs": [
        {
          "output_type": "execute_result",
          "data": {
            "text/plain": [
              "                                   uuid          VLF    VLF_PCT           LF  \\\n",
              "0  1ae30e0b-098e-46fc-a897-0a6661f26370  1038.142757  43.053026  1316.747853   \n",
              "1  428b41b3-9461-4c79-ab4e-d03b122b2553  1069.353244  27.758342  2663.293874   \n",
              "2  88f82ac7-02dd-447e-a289-22e8e22432c2  1044.054317  62.673708   618.715329   \n",
              "3  1d09b18f-d82f-4c1a-bb2d-71fda6fea837  4587.562353  73.598925  1622.011912   \n",
              "4  a6302640-f70a-4a3a-ad36-a8c3d5df9400  1837.820853  49.193639  1873.914322   \n",
              "\n",
              "      LF_PCT      LF_NU          HF    HF_PCT     HF_NU           TP  ...  \\\n",
              "0  54.607113  95.891158   56.421352  2.339861  4.108842  2411.311962  ...   \n",
              "1  69.133958  95.698188  119.720039  3.107701  4.301812  3852.367156  ...   \n",
              "2  37.140964  99.503494    3.087286  0.185327  0.496506  1665.856933  ...   \n",
              "3  26.022171  98.564819   23.617762  0.378903  1.435181  6233.192027  ...   \n",
              "4  50.159766  98.727334   24.156100  0.646595  1.272666  3735.891274  ...   \n",
              "\n",
              "       SKEW  MEAN_REL_RR  MEDIAN_REL_RR  SDRR_REL_RR  RMSSD_REL_RR  \\\n",
              "0 -0.224105    -0.000032      -0.000942     0.022748      0.012756   \n",
              "1  0.169267     0.000129      -0.002245     0.031830      0.017082   \n",
              "2 -0.099498    -0.000022       0.000121     0.012729      0.005996   \n",
              "3  2.506984    -0.000093      -0.001052     0.022455      0.011130   \n",
              "4 -0.007052     0.000090      -0.000726     0.023134      0.012082   \n",
              "\n",
              "   SDSD_REL_RR  SDRR_RMSSD_REL_RR KURT_REL_RR  SKEW_REL_RR         HR  \n",
              "0     0.012756           1.783259   -0.165101    -0.224105  75.206050  \n",
              "1     0.017082           1.863380   -0.729494     0.169267  80.870132  \n",
              "2     0.005996           2.122806    0.408727    -0.099498  62.313063  \n",
              "3     0.011130           2.017539    6.720692     2.506984  66.336924  \n",
              "4     0.012082           1.914702   -0.320871    -0.007052  64.422596  \n",
              "\n",
              "[5 rows x 37 columns]"
            ],
            "text/html": [
              "\n",
              "  <div id=\"df-3f1b6305-372d-4818-9558-33d8052beb4d\" class=\"colab-df-container\">\n",
              "    <div>\n",
              "<style scoped>\n",
              "    .dataframe tbody tr th:only-of-type {\n",
              "        vertical-align: middle;\n",
              "    }\n",
              "\n",
              "    .dataframe tbody tr th {\n",
              "        vertical-align: top;\n",
              "    }\n",
              "\n",
              "    .dataframe thead th {\n",
              "        text-align: right;\n",
              "    }\n",
              "</style>\n",
              "<table border=\"1\" class=\"dataframe\">\n",
              "  <thead>\n",
              "    <tr style=\"text-align: right;\">\n",
              "      <th></th>\n",
              "      <th>uuid</th>\n",
              "      <th>VLF</th>\n",
              "      <th>VLF_PCT</th>\n",
              "      <th>LF</th>\n",
              "      <th>LF_PCT</th>\n",
              "      <th>LF_NU</th>\n",
              "      <th>HF</th>\n",
              "      <th>HF_PCT</th>\n",
              "      <th>HF_NU</th>\n",
              "      <th>TP</th>\n",
              "      <th>...</th>\n",
              "      <th>SKEW</th>\n",
              "      <th>MEAN_REL_RR</th>\n",
              "      <th>MEDIAN_REL_RR</th>\n",
              "      <th>SDRR_REL_RR</th>\n",
              "      <th>RMSSD_REL_RR</th>\n",
              "      <th>SDSD_REL_RR</th>\n",
              "      <th>SDRR_RMSSD_REL_RR</th>\n",
              "      <th>KURT_REL_RR</th>\n",
              "      <th>SKEW_REL_RR</th>\n",
              "      <th>HR</th>\n",
              "    </tr>\n",
              "  </thead>\n",
              "  <tbody>\n",
              "    <tr>\n",
              "      <th>0</th>\n",
              "      <td>1ae30e0b-098e-46fc-a897-0a6661f26370</td>\n",
              "      <td>1038.142757</td>\n",
              "      <td>43.053026</td>\n",
              "      <td>1316.747853</td>\n",
              "      <td>54.607113</td>\n",
              "      <td>95.891158</td>\n",
              "      <td>56.421352</td>\n",
              "      <td>2.339861</td>\n",
              "      <td>4.108842</td>\n",
              "      <td>2411.311962</td>\n",
              "      <td>...</td>\n",
              "      <td>-0.224105</td>\n",
              "      <td>-0.000032</td>\n",
              "      <td>-0.000942</td>\n",
              "      <td>0.022748</td>\n",
              "      <td>0.012756</td>\n",
              "      <td>0.012756</td>\n",
              "      <td>1.783259</td>\n",
              "      <td>-0.165101</td>\n",
              "      <td>-0.224105</td>\n",
              "      <td>75.206050</td>\n",
              "    </tr>\n",
              "    <tr>\n",
              "      <th>1</th>\n",
              "      <td>428b41b3-9461-4c79-ab4e-d03b122b2553</td>\n",
              "      <td>1069.353244</td>\n",
              "      <td>27.758342</td>\n",
              "      <td>2663.293874</td>\n",
              "      <td>69.133958</td>\n",
              "      <td>95.698188</td>\n",
              "      <td>119.720039</td>\n",
              "      <td>3.107701</td>\n",
              "      <td>4.301812</td>\n",
              "      <td>3852.367156</td>\n",
              "      <td>...</td>\n",
              "      <td>0.169267</td>\n",
              "      <td>0.000129</td>\n",
              "      <td>-0.002245</td>\n",
              "      <td>0.031830</td>\n",
              "      <td>0.017082</td>\n",
              "      <td>0.017082</td>\n",
              "      <td>1.863380</td>\n",
              "      <td>-0.729494</td>\n",
              "      <td>0.169267</td>\n",
              "      <td>80.870132</td>\n",
              "    </tr>\n",
              "    <tr>\n",
              "      <th>2</th>\n",
              "      <td>88f82ac7-02dd-447e-a289-22e8e22432c2</td>\n",
              "      <td>1044.054317</td>\n",
              "      <td>62.673708</td>\n",
              "      <td>618.715329</td>\n",
              "      <td>37.140964</td>\n",
              "      <td>99.503494</td>\n",
              "      <td>3.087286</td>\n",
              "      <td>0.185327</td>\n",
              "      <td>0.496506</td>\n",
              "      <td>1665.856933</td>\n",
              "      <td>...</td>\n",
              "      <td>-0.099498</td>\n",
              "      <td>-0.000022</td>\n",
              "      <td>0.000121</td>\n",
              "      <td>0.012729</td>\n",
              "      <td>0.005996</td>\n",
              "      <td>0.005996</td>\n",
              "      <td>2.122806</td>\n",
              "      <td>0.408727</td>\n",
              "      <td>-0.099498</td>\n",
              "      <td>62.313063</td>\n",
              "    </tr>\n",
              "    <tr>\n",
              "      <th>3</th>\n",
              "      <td>1d09b18f-d82f-4c1a-bb2d-71fda6fea837</td>\n",
              "      <td>4587.562353</td>\n",
              "      <td>73.598925</td>\n",
              "      <td>1622.011912</td>\n",
              "      <td>26.022171</td>\n",
              "      <td>98.564819</td>\n",
              "      <td>23.617762</td>\n",
              "      <td>0.378903</td>\n",
              "      <td>1.435181</td>\n",
              "      <td>6233.192027</td>\n",
              "      <td>...</td>\n",
              "      <td>2.506984</td>\n",
              "      <td>-0.000093</td>\n",
              "      <td>-0.001052</td>\n",
              "      <td>0.022455</td>\n",
              "      <td>0.011130</td>\n",
              "      <td>0.011130</td>\n",
              "      <td>2.017539</td>\n",
              "      <td>6.720692</td>\n",
              "      <td>2.506984</td>\n",
              "      <td>66.336924</td>\n",
              "    </tr>\n",
              "    <tr>\n",
              "      <th>4</th>\n",
              "      <td>a6302640-f70a-4a3a-ad36-a8c3d5df9400</td>\n",
              "      <td>1837.820853</td>\n",
              "      <td>49.193639</td>\n",
              "      <td>1873.914322</td>\n",
              "      <td>50.159766</td>\n",
              "      <td>98.727334</td>\n",
              "      <td>24.156100</td>\n",
              "      <td>0.646595</td>\n",
              "      <td>1.272666</td>\n",
              "      <td>3735.891274</td>\n",
              "      <td>...</td>\n",
              "      <td>-0.007052</td>\n",
              "      <td>0.000090</td>\n",
              "      <td>-0.000726</td>\n",
              "      <td>0.023134</td>\n",
              "      <td>0.012082</td>\n",
              "      <td>0.012082</td>\n",
              "      <td>1.914702</td>\n",
              "      <td>-0.320871</td>\n",
              "      <td>-0.007052</td>\n",
              "      <td>64.422596</td>\n",
              "    </tr>\n",
              "  </tbody>\n",
              "</table>\n",
              "<p>5 rows × 37 columns</p>\n",
              "</div>\n",
              "    <div class=\"colab-df-buttons\">\n",
              "\n",
              "  <div class=\"colab-df-container\">\n",
              "    <button class=\"colab-df-convert\" onclick=\"convertToInteractive('df-3f1b6305-372d-4818-9558-33d8052beb4d')\"\n",
              "            title=\"Convert this dataframe to an interactive table.\"\n",
              "            style=\"display:none;\">\n",
              "\n",
              "  <svg xmlns=\"http://www.w3.org/2000/svg\" height=\"24px\" viewBox=\"0 -960 960 960\">\n",
              "    <path d=\"M120-120v-720h720v720H120Zm60-500h600v-160H180v160Zm220 220h160v-160H400v160Zm0 220h160v-160H400v160ZM180-400h160v-160H180v160Zm440 0h160v-160H620v160ZM180-180h160v-160H180v160Zm440 0h160v-160H620v160Z\"/>\n",
              "  </svg>\n",
              "    </button>\n",
              "\n",
              "  <style>\n",
              "    .colab-df-container {\n",
              "      display:flex;\n",
              "      gap: 12px;\n",
              "    }\n",
              "\n",
              "    .colab-df-convert {\n",
              "      background-color: #E8F0FE;\n",
              "      border: none;\n",
              "      border-radius: 50%;\n",
              "      cursor: pointer;\n",
              "      display: none;\n",
              "      fill: #1967D2;\n",
              "      height: 32px;\n",
              "      padding: 0 0 0 0;\n",
              "      width: 32px;\n",
              "    }\n",
              "\n",
              "    .colab-df-convert:hover {\n",
              "      background-color: #E2EBFA;\n",
              "      box-shadow: 0px 1px 2px rgba(60, 64, 67, 0.3), 0px 1px 3px 1px rgba(60, 64, 67, 0.15);\n",
              "      fill: #174EA6;\n",
              "    }\n",
              "\n",
              "    .colab-df-buttons div {\n",
              "      margin-bottom: 4px;\n",
              "    }\n",
              "\n",
              "    [theme=dark] .colab-df-convert {\n",
              "      background-color: #3B4455;\n",
              "      fill: #D2E3FC;\n",
              "    }\n",
              "\n",
              "    [theme=dark] .colab-df-convert:hover {\n",
              "      background-color: #434B5C;\n",
              "      box-shadow: 0px 1px 3px 1px rgba(0, 0, 0, 0.15);\n",
              "      filter: drop-shadow(0px 1px 2px rgba(0, 0, 0, 0.3));\n",
              "      fill: #FFFFFF;\n",
              "    }\n",
              "  </style>\n",
              "\n",
              "    <script>\n",
              "      const buttonEl =\n",
              "        document.querySelector('#df-3f1b6305-372d-4818-9558-33d8052beb4d button.colab-df-convert');\n",
              "      buttonEl.style.display =\n",
              "        google.colab.kernel.accessAllowed ? 'block' : 'none';\n",
              "\n",
              "      async function convertToInteractive(key) {\n",
              "        const element = document.querySelector('#df-3f1b6305-372d-4818-9558-33d8052beb4d');\n",
              "        const dataTable =\n",
              "          await google.colab.kernel.invokeFunction('convertToInteractive',\n",
              "                                                    [key], {});\n",
              "        if (!dataTable) return;\n",
              "\n",
              "        const docLinkHtml = 'Like what you see? Visit the ' +\n",
              "          '<a target=\"_blank\" href=https://colab.research.google.com/notebooks/data_table.ipynb>data table notebook</a>'\n",
              "          + ' to learn more about interactive tables.';\n",
              "        element.innerHTML = '';\n",
              "        dataTable['output_type'] = 'display_data';\n",
              "        await google.colab.output.renderOutput(dataTable, element);\n",
              "        const docLink = document.createElement('div');\n",
              "        docLink.innerHTML = docLinkHtml;\n",
              "        element.appendChild(docLink);\n",
              "      }\n",
              "    </script>\n",
              "  </div>\n",
              "\n",
              "\n",
              "<div id=\"df-f7a86c8b-87f6-491e-8d40-480730d43cc4\">\n",
              "  <button class=\"colab-df-quickchart\" onclick=\"quickchart('df-f7a86c8b-87f6-491e-8d40-480730d43cc4')\"\n",
              "            title=\"Suggest charts\"\n",
              "            style=\"display:none;\">\n",
              "\n",
              "<svg xmlns=\"http://www.w3.org/2000/svg\" height=\"24px\"viewBox=\"0 0 24 24\"\n",
              "     width=\"24px\">\n",
              "    <g>\n",
              "        <path d=\"M19 3H5c-1.1 0-2 .9-2 2v14c0 1.1.9 2 2 2h14c1.1 0 2-.9 2-2V5c0-1.1-.9-2-2-2zM9 17H7v-7h2v7zm4 0h-2V7h2v10zm4 0h-2v-4h2v4z\"/>\n",
              "    </g>\n",
              "</svg>\n",
              "  </button>\n",
              "\n",
              "<style>\n",
              "  .colab-df-quickchart {\n",
              "      --bg-color: #E8F0FE;\n",
              "      --fill-color: #1967D2;\n",
              "      --hover-bg-color: #E2EBFA;\n",
              "      --hover-fill-color: #174EA6;\n",
              "      --disabled-fill-color: #AAA;\n",
              "      --disabled-bg-color: #DDD;\n",
              "  }\n",
              "\n",
              "  [theme=dark] .colab-df-quickchart {\n",
              "      --bg-color: #3B4455;\n",
              "      --fill-color: #D2E3FC;\n",
              "      --hover-bg-color: #434B5C;\n",
              "      --hover-fill-color: #FFFFFF;\n",
              "      --disabled-bg-color: #3B4455;\n",
              "      --disabled-fill-color: #666;\n",
              "  }\n",
              "\n",
              "  .colab-df-quickchart {\n",
              "    background-color: var(--bg-color);\n",
              "    border: none;\n",
              "    border-radius: 50%;\n",
              "    cursor: pointer;\n",
              "    display: none;\n",
              "    fill: var(--fill-color);\n",
              "    height: 32px;\n",
              "    padding: 0;\n",
              "    width: 32px;\n",
              "  }\n",
              "\n",
              "  .colab-df-quickchart:hover {\n",
              "    background-color: var(--hover-bg-color);\n",
              "    box-shadow: 0 1px 2px rgba(60, 64, 67, 0.3), 0 1px 3px 1px rgba(60, 64, 67, 0.15);\n",
              "    fill: var(--button-hover-fill-color);\n",
              "  }\n",
              "\n",
              "  .colab-df-quickchart-complete:disabled,\n",
              "  .colab-df-quickchart-complete:disabled:hover {\n",
              "    background-color: var(--disabled-bg-color);\n",
              "    fill: var(--disabled-fill-color);\n",
              "    box-shadow: none;\n",
              "  }\n",
              "\n",
              "  .colab-df-spinner {\n",
              "    border: 2px solid var(--fill-color);\n",
              "    border-color: transparent;\n",
              "    border-bottom-color: var(--fill-color);\n",
              "    animation:\n",
              "      spin 1s steps(1) infinite;\n",
              "  }\n",
              "\n",
              "  @keyframes spin {\n",
              "    0% {\n",
              "      border-color: transparent;\n",
              "      border-bottom-color: var(--fill-color);\n",
              "      border-left-color: var(--fill-color);\n",
              "    }\n",
              "    20% {\n",
              "      border-color: transparent;\n",
              "      border-left-color: var(--fill-color);\n",
              "      border-top-color: var(--fill-color);\n",
              "    }\n",
              "    30% {\n",
              "      border-color: transparent;\n",
              "      border-left-color: var(--fill-color);\n",
              "      border-top-color: var(--fill-color);\n",
              "      border-right-color: var(--fill-color);\n",
              "    }\n",
              "    40% {\n",
              "      border-color: transparent;\n",
              "      border-right-color: var(--fill-color);\n",
              "      border-top-color: var(--fill-color);\n",
              "    }\n",
              "    60% {\n",
              "      border-color: transparent;\n",
              "      border-right-color: var(--fill-color);\n",
              "    }\n",
              "    80% {\n",
              "      border-color: transparent;\n",
              "      border-right-color: var(--fill-color);\n",
              "      border-bottom-color: var(--fill-color);\n",
              "    }\n",
              "    90% {\n",
              "      border-color: transparent;\n",
              "      border-bottom-color: var(--fill-color);\n",
              "    }\n",
              "  }\n",
              "</style>\n",
              "\n",
              "  <script>\n",
              "    async function quickchart(key) {\n",
              "      const quickchartButtonEl =\n",
              "        document.querySelector('#' + key + ' button');\n",
              "      quickchartButtonEl.disabled = true;  // To prevent multiple clicks.\n",
              "      quickchartButtonEl.classList.add('colab-df-spinner');\n",
              "      try {\n",
              "        const charts = await google.colab.kernel.invokeFunction(\n",
              "            'suggestCharts', [key], {});\n",
              "      } catch (error) {\n",
              "        console.error('Error during call to suggestCharts:', error);\n",
              "      }\n",
              "      quickchartButtonEl.classList.remove('colab-df-spinner');\n",
              "      quickchartButtonEl.classList.add('colab-df-quickchart-complete');\n",
              "    }\n",
              "    (() => {\n",
              "      let quickchartButtonEl =\n",
              "        document.querySelector('#df-f7a86c8b-87f6-491e-8d40-480730d43cc4 button');\n",
              "      quickchartButtonEl.style.display =\n",
              "        google.colab.kernel.accessAllowed ? 'block' : 'none';\n",
              "    })();\n",
              "  </script>\n",
              "</div>\n",
              "\n",
              "    </div>\n",
              "  </div>\n"
            ]
          },
          "metadata": {},
          "execution_count": 73
        }
      ]
    },
    {
      "cell_type": "code",
      "source": [
        "y_true = merged_data['HR']\n",
        "mse = mean_squared_error(y_true, preds)\n",
        "mae = mean_absolute_error(y_true, preds)\n",
        "print(f'Mean Squared Error (MSE): {mse}')\n",
        "print(f'Mean Absolute Error (MAE): {mae}')"
      ],
      "metadata": {
        "colab": {
          "base_uri": "https://localhost:8080/"
        },
        "id": "SNgdz5YXdc1y",
        "outputId": "24c12a4a-78cd-4cb8-b86e-7e4d7e8f9e4a"
      },
      "execution_count": 74,
      "outputs": [
        {
          "output_type": "stream",
          "name": "stdout",
          "text": [
            "Mean Squared Error (MSE): 0.13533647036685723\n",
            "Mean Absolute Error (MAE): 0.25939088017335477\n"
          ]
        }
      ]
    },
    {
      "cell_type": "markdown",
      "source": [
        "Mean Squared Error using Random forest comes out as 0.13533647036685723 and the MAE is 0.25939088017335477, but we also observe in the output that the predicted HR values are very close to the actual values"
      ],
      "metadata": {
        "id": "RFyNQFxKhtJU"
      }
    },
    {
      "cell_type": "markdown",
      "source": [
        "\n",
        "\n",
        "---\n",
        "\n"
      ],
      "metadata": {
        "id": "FSxUWdkMebR6"
      }
    },
    {
      "cell_type": "markdown",
      "source": [
        "Saving the Random Forest Model"
      ],
      "metadata": {
        "id": "mClNNoE9eB-6"
      }
    },
    {
      "cell_type": "code",
      "source": [
        "import pickle"
      ],
      "metadata": {
        "id": "yWIYnk3CelRw"
      },
      "execution_count": 77,
      "outputs": []
    },
    {
      "cell_type": "code",
      "source": [
        "pickle.dump(rf,open(\"/content/drive/MyDrive/aicure/check_new_fin.pkl\",'wb'))"
      ],
      "metadata": {
        "id": "zu7vbolyepto"
      },
      "execution_count": 79,
      "outputs": []
    },
    {
      "cell_type": "code",
      "source": [
        "model_loaded=pickle.load(open(\"/content/drive/MyDrive/aicure/check_new_fin.pkl\",'rb'))"
      ],
      "metadata": {
        "id": "eOR0qK0Zesm6"
      },
      "execution_count": null,
      "outputs": []
    },
    {
      "cell_type": "code",
      "source": [
        "model_loaded.predict(X_test)"
      ],
      "metadata": {
        "id": "1CPyi4w1euU6"
      },
      "execution_count": null,
      "outputs": []
    },
    {
      "cell_type": "code",
      "source": [
        "test_file_path = \"/content/drive/MyDrive/aicure/sample_test_data.csv\"\n",
        "test_data = pd.read_csv(test_file_path)"
      ],
      "metadata": {
        "id": "D1-6u1dEewcv"
      },
      "execution_count": 82,
      "outputs": []
    },
    {
      "cell_type": "code",
      "source": [
        "len(test_data.columns)"
      ],
      "metadata": {
        "colab": {
          "base_uri": "https://localhost:8080/"
        },
        "id": "VUimwfgeHiEL",
        "outputId": "895a1a7a-c625-4170-a4d5-56e5068e13b9"
      },
      "execution_count": 83,
      "outputs": [
        {
          "output_type": "execute_result",
          "data": {
            "text/plain": [
              "36"
            ]
          },
          "metadata": {},
          "execution_count": 83
        }
      ]
    },
    {
      "cell_type": "code",
      "source": [
        "preds=model_loaded.predict(X_test)\n",
        "preds"
      ],
      "metadata": {
        "id": "zr13eg9bHkZD"
      },
      "execution_count": null,
      "outputs": []
    },
    {
      "cell_type": "code",
      "source": [
        "'''#Multiple linear regression\n",
        "# from sklearn.linear_model import LinearRegression\n",
        "# regressor=LinearRegression()\n",
        "# regressor.fit(X_train,y_train)\n",
        "\n",
        "#Decision tree Regression\n",
        "# from sklearn.tree import DecisionTreeRegressor\n",
        "# regressor=DecisionTreeRegressor(random_state=0)\n",
        "# regressor.fit(X_train,y_train)\n",
        "# mse comes to be 1.45"
      ],
      "metadata": {
        "id": "3mvkHefcPi65"
      },
      "execution_count": null,
      "outputs": []
    },
    {
      "cell_type": "markdown",
      "source": [
        "\n",
        "\n",
        "---\n",
        "\n"
      ],
      "metadata": {
        "id": "4mXweXuNg2dj"
      }
    },
    {
      "cell_type": "markdown",
      "source": [
        "#Neural Networks Approach\n",
        "\n",
        "\n",
        "\n",
        "\n",
        "\n"
      ],
      "metadata": {
        "id": "g2XwvL1-QLhd"
      }
    },
    {
      "cell_type": "markdown",
      "source": [
        "(Not used finally -> due to huge overfitting)"
      ],
      "metadata": {
        "id": "qY16suPPjJ4g"
      }
    },
    {
      "cell_type": "code",
      "source": [
        "len(X.columns)"
      ],
      "metadata": {
        "colab": {
          "base_uri": "https://localhost:8080/"
        },
        "id": "UoHgmvEuQFEK",
        "outputId": "2a24ef16-c1f0-4080-ac96-cac92b0453b8"
      },
      "execution_count": 85,
      "outputs": [
        {
          "output_type": "execute_result",
          "data": {
            "text/plain": [
              "36"
            ]
          },
          "metadata": {},
          "execution_count": 85
        }
      ]
    },
    {
      "cell_type": "code",
      "source": [
        "scaler = StandardScaler()\n",
        "X_train_scaled = scaler.fit_transform(X_train)\n",
        "X_test_scaled = scaler.transform(X_test)\n",
        "\n",
        "model = keras.Sequential([\n",
        "    keras.layers.Dense(64, activation='relu', input_shape=(36,)),\n",
        "    keras.layers.Dense(32, activation='relu'),\n",
        "    keras.layers.Dense(1)  # Output layer with one neuron for regression\n",
        "])"
      ],
      "metadata": {
        "id": "ks5NCBO8QVWA"
      },
      "execution_count": 86,
      "outputs": []
    },
    {
      "cell_type": "code",
      "source": [
        "model.compile(optimizer='adam', loss='mean_squared_error')"
      ],
      "metadata": {
        "id": "sV6LG2K1Ry_b"
      },
      "execution_count": 87,
      "outputs": []
    },
    {
      "cell_type": "code",
      "source": [
        "model.fit(X_train_scaled, y_train, epochs=150, batch_size=32, validation_split=0.1)"
      ],
      "metadata": {
        "colab": {
          "base_uri": "https://localhost:8080/"
        },
        "id": "HRO-hm9ZR1HZ",
        "outputId": "37bd7c05-f1b3-4f57-ef25-af3205f3e325"
      },
      "execution_count": 88,
      "outputs": [
        {
          "output_type": "stream",
          "name": "stdout",
          "text": [
            "Epoch 1/150\n",
            "113/113 [==============================] - 1s 3ms/step - loss: 3386.7861 - val_loss: 601.4288\n",
            "Epoch 2/150\n",
            "113/113 [==============================] - 0s 2ms/step - loss: 337.4975 - val_loss: 196.0341\n",
            "Epoch 3/150\n",
            "113/113 [==============================] - 0s 2ms/step - loss: 158.7857 - val_loss: 121.9764\n",
            "Epoch 4/150\n",
            "113/113 [==============================] - 0s 2ms/step - loss: 97.4748 - val_loss: 81.1458\n",
            "Epoch 5/150\n",
            "113/113 [==============================] - 0s 2ms/step - loss: 65.9989 - val_loss: 58.9698\n",
            "Epoch 6/150\n",
            "113/113 [==============================] - 0s 2ms/step - loss: 47.0908 - val_loss: 45.5200\n",
            "Epoch 7/150\n",
            "113/113 [==============================] - 0s 2ms/step - loss: 34.8214 - val_loss: 35.6720\n",
            "Epoch 8/150\n",
            "113/113 [==============================] - 0s 2ms/step - loss: 26.7710 - val_loss: 28.2541\n",
            "Epoch 9/150\n",
            "113/113 [==============================] - 0s 3ms/step - loss: 20.9822 - val_loss: 22.4819\n",
            "Epoch 10/150\n",
            "113/113 [==============================] - 0s 2ms/step - loss: 16.6925 - val_loss: 19.0029\n",
            "Epoch 11/150\n",
            "113/113 [==============================] - 0s 2ms/step - loss: 13.7300 - val_loss: 15.3036\n",
            "Epoch 12/150\n",
            "113/113 [==============================] - 0s 3ms/step - loss: 11.5415 - val_loss: 13.4059\n",
            "Epoch 13/150\n",
            "113/113 [==============================] - 0s 3ms/step - loss: 9.8352 - val_loss: 11.2937\n",
            "Epoch 14/150\n",
            "113/113 [==============================] - 0s 3ms/step - loss: 8.4406 - val_loss: 9.8309\n",
            "Epoch 15/150\n",
            "113/113 [==============================] - 0s 3ms/step - loss: 7.4310 - val_loss: 8.9525\n",
            "Epoch 16/150\n",
            "113/113 [==============================] - 0s 4ms/step - loss: 6.4220 - val_loss: 7.9974\n",
            "Epoch 17/150\n",
            "113/113 [==============================] - 0s 3ms/step - loss: 5.8304 - val_loss: 7.0001\n",
            "Epoch 18/150\n",
            "113/113 [==============================] - 0s 4ms/step - loss: 5.1967 - val_loss: 6.7472\n",
            "Epoch 19/150\n",
            "113/113 [==============================] - 0s 3ms/step - loss: 4.7115 - val_loss: 5.8429\n",
            "Epoch 20/150\n",
            "113/113 [==============================] - 0s 3ms/step - loss: 4.2747 - val_loss: 5.4949\n",
            "Epoch 21/150\n",
            "113/113 [==============================] - 0s 3ms/step - loss: 3.8218 - val_loss: 4.7570\n",
            "Epoch 22/150\n",
            "113/113 [==============================] - 0s 3ms/step - loss: 3.5136 - val_loss: 4.3268\n",
            "Epoch 23/150\n",
            "113/113 [==============================] - 0s 3ms/step - loss: 3.2498 - val_loss: 4.1121\n",
            "Epoch 24/150\n",
            "113/113 [==============================] - 0s 3ms/step - loss: 2.9733 - val_loss: 3.7584\n",
            "Epoch 25/150\n",
            "113/113 [==============================] - 0s 3ms/step - loss: 2.6794 - val_loss: 3.3583\n",
            "Epoch 26/150\n",
            "113/113 [==============================] - 0s 3ms/step - loss: 2.4688 - val_loss: 3.2953\n",
            "Epoch 27/150\n",
            "113/113 [==============================] - 0s 2ms/step - loss: 2.3274 - val_loss: 2.8800\n",
            "Epoch 28/150\n",
            "113/113 [==============================] - 0s 2ms/step - loss: 2.1450 - val_loss: 2.7257\n",
            "Epoch 29/150\n",
            "113/113 [==============================] - 0s 2ms/step - loss: 1.9807 - val_loss: 2.3752\n",
            "Epoch 30/150\n",
            "113/113 [==============================] - 0s 2ms/step - loss: 1.8240 - val_loss: 2.1101\n",
            "Epoch 31/150\n",
            "113/113 [==============================] - 0s 2ms/step - loss: 1.6446 - val_loss: 2.1575\n",
            "Epoch 32/150\n",
            "113/113 [==============================] - 0s 2ms/step - loss: 1.5772 - val_loss: 1.8804\n",
            "Epoch 33/150\n",
            "113/113 [==============================] - 0s 2ms/step - loss: 1.5009 - val_loss: 1.6612\n",
            "Epoch 34/150\n",
            "113/113 [==============================] - 0s 2ms/step - loss: 1.3169 - val_loss: 1.7584\n",
            "Epoch 35/150\n",
            "113/113 [==============================] - 0s 2ms/step - loss: 1.2014 - val_loss: 1.5064\n",
            "Epoch 36/150\n",
            "113/113 [==============================] - 0s 2ms/step - loss: 1.1711 - val_loss: 1.4264\n",
            "Epoch 37/150\n",
            "113/113 [==============================] - 0s 2ms/step - loss: 1.0943 - val_loss: 1.4618\n",
            "Epoch 38/150\n",
            "113/113 [==============================] - 0s 2ms/step - loss: 1.0039 - val_loss: 1.2348\n",
            "Epoch 39/150\n",
            "113/113 [==============================] - 0s 2ms/step - loss: 0.9157 - val_loss: 1.0152\n",
            "Epoch 40/150\n",
            "113/113 [==============================] - 0s 2ms/step - loss: 0.8668 - val_loss: 1.0110\n",
            "Epoch 41/150\n",
            "113/113 [==============================] - 0s 2ms/step - loss: 0.7825 - val_loss: 0.8619\n",
            "Epoch 42/150\n",
            "113/113 [==============================] - 0s 2ms/step - loss: 0.7597 - val_loss: 0.8259\n",
            "Epoch 43/150\n",
            "113/113 [==============================] - 0s 2ms/step - loss: 0.7088 - val_loss: 0.7882\n",
            "Epoch 44/150\n",
            "113/113 [==============================] - 0s 2ms/step - loss: 0.6916 - val_loss: 0.8450\n",
            "Epoch 45/150\n",
            "113/113 [==============================] - 0s 2ms/step - loss: 0.6519 - val_loss: 0.6393\n",
            "Epoch 46/150\n",
            "113/113 [==============================] - 0s 2ms/step - loss: 0.6311 - val_loss: 0.8522\n",
            "Epoch 47/150\n",
            "113/113 [==============================] - 0s 2ms/step - loss: 0.5812 - val_loss: 0.6501\n",
            "Epoch 48/150\n",
            "113/113 [==============================] - 0s 2ms/step - loss: 0.5295 - val_loss: 0.6356\n",
            "Epoch 49/150\n",
            "113/113 [==============================] - 0s 2ms/step - loss: 0.5470 - val_loss: 0.5536\n",
            "Epoch 50/150\n",
            "113/113 [==============================] - 0s 2ms/step - loss: 0.5188 - val_loss: 0.6997\n",
            "Epoch 51/150\n",
            "113/113 [==============================] - 0s 2ms/step - loss: 0.4678 - val_loss: 0.5599\n",
            "Epoch 52/150\n",
            "113/113 [==============================] - 0s 2ms/step - loss: 0.5130 - val_loss: 0.4366\n",
            "Epoch 53/150\n",
            "113/113 [==============================] - 0s 2ms/step - loss: 0.4079 - val_loss: 0.5664\n",
            "Epoch 54/150\n",
            "113/113 [==============================] - 0s 2ms/step - loss: 0.3968 - val_loss: 0.3843\n",
            "Epoch 55/150\n",
            "113/113 [==============================] - 0s 2ms/step - loss: 0.3864 - val_loss: 0.4350\n",
            "Epoch 56/150\n",
            "113/113 [==============================] - 0s 2ms/step - loss: 0.3763 - val_loss: 0.3966\n",
            "Epoch 57/150\n",
            "113/113 [==============================] - 0s 2ms/step - loss: 0.3635 - val_loss: 0.4542\n",
            "Epoch 58/150\n",
            "113/113 [==============================] - 0s 2ms/step - loss: 0.3740 - val_loss: 0.3556\n",
            "Epoch 59/150\n",
            "113/113 [==============================] - 0s 2ms/step - loss: 0.3307 - val_loss: 0.3924\n",
            "Epoch 60/150\n",
            "113/113 [==============================] - 0s 2ms/step - loss: 0.3153 - val_loss: 0.3165\n",
            "Epoch 61/150\n",
            "113/113 [==============================] - 0s 2ms/step - loss: 0.3325 - val_loss: 0.3276\n",
            "Epoch 62/150\n",
            "113/113 [==============================] - 0s 2ms/step - loss: 0.3045 - val_loss: 0.2668\n",
            "Epoch 63/150\n",
            "113/113 [==============================] - 0s 2ms/step - loss: 0.3121 - val_loss: 0.2779\n",
            "Epoch 64/150\n",
            "113/113 [==============================] - 0s 2ms/step - loss: 0.2643 - val_loss: 0.2560\n",
            "Epoch 65/150\n",
            "113/113 [==============================] - 0s 2ms/step - loss: 0.2778 - val_loss: 0.3180\n",
            "Epoch 66/150\n",
            "113/113 [==============================] - 0s 2ms/step - loss: 0.2724 - val_loss: 0.4309\n",
            "Epoch 67/150\n",
            "113/113 [==============================] - 0s 2ms/step - loss: 0.2743 - val_loss: 0.2978\n",
            "Epoch 68/150\n",
            "113/113 [==============================] - 0s 3ms/step - loss: 0.2313 - val_loss: 0.2723\n",
            "Epoch 69/150\n",
            "113/113 [==============================] - 0s 3ms/step - loss: 0.2478 - val_loss: 0.3990\n",
            "Epoch 70/150\n",
            "113/113 [==============================] - 0s 3ms/step - loss: 0.2707 - val_loss: 0.2646\n",
            "Epoch 71/150\n",
            "113/113 [==============================] - 0s 4ms/step - loss: 0.2594 - val_loss: 0.2902\n",
            "Epoch 72/150\n",
            "113/113 [==============================] - 0s 3ms/step - loss: 0.2798 - val_loss: 0.3236\n",
            "Epoch 73/150\n",
            "113/113 [==============================] - 0s 3ms/step - loss: 0.2379 - val_loss: 0.2943\n",
            "Epoch 74/150\n",
            "113/113 [==============================] - 0s 4ms/step - loss: 0.2115 - val_loss: 0.2441\n",
            "Epoch 75/150\n",
            "113/113 [==============================] - 0s 3ms/step - loss: 0.2050 - val_loss: 0.2439\n",
            "Epoch 76/150\n",
            "113/113 [==============================] - 0s 3ms/step - loss: 0.2305 - val_loss: 0.2189\n",
            "Epoch 77/150\n",
            "113/113 [==============================] - 0s 3ms/step - loss: 0.1973 - val_loss: 0.2646\n",
            "Epoch 78/150\n",
            "113/113 [==============================] - 0s 3ms/step - loss: 0.2449 - val_loss: 0.4110\n",
            "Epoch 79/150\n",
            "113/113 [==============================] - 0s 3ms/step - loss: 0.2250 - val_loss: 0.2438\n",
            "Epoch 80/150\n",
            "113/113 [==============================] - 0s 3ms/step - loss: 0.2754 - val_loss: 0.2503\n",
            "Epoch 81/150\n",
            "113/113 [==============================] - 0s 3ms/step - loss: 0.1857 - val_loss: 0.1519\n",
            "Epoch 82/150\n",
            "113/113 [==============================] - 0s 2ms/step - loss: 0.1387 - val_loss: 0.1578\n",
            "Epoch 83/150\n",
            "113/113 [==============================] - 0s 2ms/step - loss: 0.1747 - val_loss: 0.1628\n",
            "Epoch 84/150\n",
            "113/113 [==============================] - 0s 2ms/step - loss: 0.1534 - val_loss: 0.1701\n",
            "Epoch 85/150\n",
            "113/113 [==============================] - 0s 2ms/step - loss: 0.2043 - val_loss: 0.2550\n",
            "Epoch 86/150\n",
            "113/113 [==============================] - 0s 2ms/step - loss: 0.1842 - val_loss: 0.1770\n",
            "Epoch 87/150\n",
            "113/113 [==============================] - 0s 2ms/step - loss: 0.1723 - val_loss: 0.3142\n",
            "Epoch 88/150\n",
            "113/113 [==============================] - 0s 2ms/step - loss: 0.2116 - val_loss: 0.1632\n",
            "Epoch 89/150\n",
            "113/113 [==============================] - 0s 2ms/step - loss: 0.1627 - val_loss: 0.2909\n",
            "Epoch 90/150\n",
            "113/113 [==============================] - 0s 2ms/step - loss: 0.1982 - val_loss: 0.1594\n",
            "Epoch 91/150\n",
            "113/113 [==============================] - 0s 2ms/step - loss: 0.1463 - val_loss: 0.1570\n",
            "Epoch 92/150\n",
            "113/113 [==============================] - 0s 2ms/step - loss: 0.1280 - val_loss: 0.1647\n",
            "Epoch 93/150\n",
            "113/113 [==============================] - 0s 2ms/step - loss: 0.1378 - val_loss: 0.1642\n",
            "Epoch 94/150\n",
            "113/113 [==============================] - 0s 2ms/step - loss: 0.1473 - val_loss: 0.2072\n",
            "Epoch 95/150\n",
            "113/113 [==============================] - 0s 2ms/step - loss: 0.1250 - val_loss: 0.1496\n",
            "Epoch 96/150\n",
            "113/113 [==============================] - 0s 2ms/step - loss: 0.1263 - val_loss: 0.1914\n",
            "Epoch 97/150\n",
            "113/113 [==============================] - 0s 2ms/step - loss: 0.1506 - val_loss: 0.1478\n",
            "Epoch 98/150\n",
            "113/113 [==============================] - 0s 2ms/step - loss: 0.1580 - val_loss: 0.1409\n",
            "Epoch 99/150\n",
            "113/113 [==============================] - 0s 2ms/step - loss: 0.1528 - val_loss: 0.1627\n",
            "Epoch 100/150\n",
            "113/113 [==============================] - 0s 2ms/step - loss: 0.1766 - val_loss: 0.2510\n",
            "Epoch 101/150\n",
            "113/113 [==============================] - 0s 2ms/step - loss: 0.2447 - val_loss: 0.1419\n",
            "Epoch 102/150\n",
            "113/113 [==============================] - 0s 2ms/step - loss: 0.1094 - val_loss: 0.1213\n",
            "Epoch 103/150\n",
            "113/113 [==============================] - 0s 2ms/step - loss: 0.1245 - val_loss: 0.1878\n",
            "Epoch 104/150\n",
            "113/113 [==============================] - 0s 2ms/step - loss: 0.1255 - val_loss: 0.1386\n",
            "Epoch 105/150\n",
            "113/113 [==============================] - 0s 2ms/step - loss: 0.1243 - val_loss: 0.1491\n",
            "Epoch 106/150\n",
            "113/113 [==============================] - 0s 2ms/step - loss: 0.1193 - val_loss: 0.1092\n",
            "Epoch 107/150\n",
            "113/113 [==============================] - 0s 2ms/step - loss: 0.1177 - val_loss: 0.2125\n",
            "Epoch 108/150\n",
            "113/113 [==============================] - 0s 2ms/step - loss: 0.1595 - val_loss: 0.1051\n",
            "Epoch 109/150\n",
            "113/113 [==============================] - 0s 2ms/step - loss: 0.0984 - val_loss: 0.1394\n",
            "Epoch 110/150\n",
            "113/113 [==============================] - 0s 2ms/step - loss: 0.1033 - val_loss: 0.1509\n",
            "Epoch 111/150\n",
            "113/113 [==============================] - 0s 2ms/step - loss: 0.1485 - val_loss: 0.1441\n",
            "Epoch 112/150\n",
            "113/113 [==============================] - 0s 2ms/step - loss: 0.0899 - val_loss: 0.0946\n",
            "Epoch 113/150\n",
            "113/113 [==============================] - 0s 2ms/step - loss: 0.0982 - val_loss: 0.1447\n",
            "Epoch 114/150\n",
            "113/113 [==============================] - 0s 2ms/step - loss: 0.1379 - val_loss: 0.1054\n",
            "Epoch 115/150\n",
            "113/113 [==============================] - 0s 2ms/step - loss: 0.0871 - val_loss: 0.1696\n",
            "Epoch 116/150\n",
            "113/113 [==============================] - 0s 2ms/step - loss: 0.1013 - val_loss: 0.1153\n",
            "Epoch 117/150\n",
            "113/113 [==============================] - 0s 2ms/step - loss: 0.1411 - val_loss: 0.1647\n",
            "Epoch 118/150\n",
            "113/113 [==============================] - 0s 2ms/step - loss: 0.1217 - val_loss: 0.1691\n",
            "Epoch 119/150\n",
            "113/113 [==============================] - 0s 2ms/step - loss: 0.1340 - val_loss: 0.1287\n",
            "Epoch 120/150\n",
            "113/113 [==============================] - 0s 2ms/step - loss: 0.1496 - val_loss: 0.1870\n",
            "Epoch 121/150\n",
            "113/113 [==============================] - 0s 2ms/step - loss: 0.1590 - val_loss: 0.1015\n",
            "Epoch 122/150\n",
            "113/113 [==============================] - 0s 2ms/step - loss: 0.0984 - val_loss: 0.1117\n",
            "Epoch 123/150\n",
            "113/113 [==============================] - 0s 2ms/step - loss: 0.1068 - val_loss: 0.1024\n",
            "Epoch 124/150\n",
            "113/113 [==============================] - 0s 4ms/step - loss: 0.1542 - val_loss: 0.1768\n",
            "Epoch 125/150\n",
            "113/113 [==============================] - 0s 3ms/step - loss: 0.1176 - val_loss: 0.1551\n",
            "Epoch 126/150\n",
            "113/113 [==============================] - 0s 3ms/step - loss: 0.1343 - val_loss: 0.1518\n",
            "Epoch 127/150\n",
            "113/113 [==============================] - 0s 3ms/step - loss: 0.0968 - val_loss: 0.1361\n",
            "Epoch 128/150\n",
            "113/113 [==============================] - 0s 3ms/step - loss: 0.0925 - val_loss: 0.1036\n",
            "Epoch 129/150\n",
            "113/113 [==============================] - 0s 3ms/step - loss: 0.1060 - val_loss: 0.2076\n",
            "Epoch 130/150\n",
            "113/113 [==============================] - 0s 3ms/step - loss: 0.1133 - val_loss: 0.0807\n",
            "Epoch 131/150\n",
            "113/113 [==============================] - 0s 3ms/step - loss: 0.0927 - val_loss: 0.1959\n",
            "Epoch 132/150\n",
            "113/113 [==============================] - 0s 3ms/step - loss: 0.1067 - val_loss: 0.1811\n",
            "Epoch 133/150\n",
            "113/113 [==============================] - 0s 4ms/step - loss: 0.1773 - val_loss: 0.2511\n",
            "Epoch 134/150\n",
            "113/113 [==============================] - 0s 3ms/step - loss: 0.1255 - val_loss: 0.1299\n",
            "Epoch 135/150\n",
            "113/113 [==============================] - 0s 3ms/step - loss: 0.0762 - val_loss: 0.0820\n",
            "Epoch 136/150\n",
            "113/113 [==============================] - 0s 4ms/step - loss: 0.0738 - val_loss: 0.0778\n",
            "Epoch 137/150\n",
            "113/113 [==============================] - 0s 3ms/step - loss: 0.0685 - val_loss: 0.0907\n",
            "Epoch 138/150\n",
            "113/113 [==============================] - 0s 3ms/step - loss: 0.0715 - val_loss: 0.0999\n",
            "Epoch 139/150\n",
            "113/113 [==============================] - 0s 2ms/step - loss: 0.1020 - val_loss: 0.2318\n",
            "Epoch 140/150\n",
            "113/113 [==============================] - 0s 2ms/step - loss: 0.1231 - val_loss: 0.1365\n",
            "Epoch 141/150\n",
            "113/113 [==============================] - 0s 2ms/step - loss: 0.1340 - val_loss: 0.1178\n",
            "Epoch 142/150\n",
            "113/113 [==============================] - 0s 2ms/step - loss: 0.1184 - val_loss: 0.0847\n",
            "Epoch 143/150\n",
            "113/113 [==============================] - 0s 2ms/step - loss: 0.0951 - val_loss: 0.1319\n",
            "Epoch 144/150\n",
            "113/113 [==============================] - 0s 2ms/step - loss: 0.0834 - val_loss: 0.0914\n",
            "Epoch 145/150\n",
            "113/113 [==============================] - 0s 2ms/step - loss: 0.0785 - val_loss: 0.1218\n",
            "Epoch 146/150\n",
            "113/113 [==============================] - 0s 2ms/step - loss: 0.0977 - val_loss: 0.1917\n",
            "Epoch 147/150\n",
            "113/113 [==============================] - 0s 2ms/step - loss: 0.1108 - val_loss: 0.1499\n",
            "Epoch 148/150\n",
            "113/113 [==============================] - 0s 2ms/step - loss: 0.1880 - val_loss: 0.1069\n",
            "Epoch 149/150\n",
            "113/113 [==============================] - 0s 2ms/step - loss: 0.0986 - val_loss: 0.1642\n",
            "Epoch 150/150\n",
            "113/113 [==============================] - 0s 2ms/step - loss: 0.1789 - val_loss: 0.1446\n"
          ]
        },
        {
          "output_type": "execute_result",
          "data": {
            "text/plain": [
              "<keras.src.callbacks.History at 0x7bfb3356a380>"
            ]
          },
          "metadata": {},
          "execution_count": 88
        }
      ]
    },
    {
      "cell_type": "code",
      "source": [
        "mse = model.evaluate(X_test_scaled, y_test)\n",
        "print(f'Mean Squared Error (MSE) on the test set: {mse}')\n",
        "\n",
        "\n",
        "y_pred = model.predict(X_test_scaled)"
      ],
      "metadata": {
        "colab": {
          "base_uri": "https://localhost:8080/"
        },
        "id": "csnlRBzYR4fM",
        "outputId": "a4a097ee-3c23-4d8c-8a65-9f4b78df1d5d"
      },
      "execution_count": 89,
      "outputs": [
        {
          "output_type": "stream",
          "name": "stdout",
          "text": [
            "32/32 [==============================] - 0s 1ms/step - loss: 0.1615\n",
            "Mean Squared Error (MSE) on the test set: 0.16146883368492126\n",
            "32/32 [==============================] - 0s 1ms/step\n"
          ]
        }
      ]
    },
    {
      "cell_type": "markdown",
      "source": [
        "Saving the model"
      ],
      "metadata": {
        "id": "FNZrVH_ziH1R"
      }
    },
    {
      "cell_type": "code",
      "source": [
        "model.save(\"/content/drive/MyDrive/Copy of aicure/ANN_fin_model.h5\")"
      ],
      "metadata": {
        "colab": {
          "base_uri": "https://localhost:8080/"
        },
        "id": "5pLSs4brihze",
        "outputId": "e6b0045e-f548-4f65-81c9-cc2017f18fde"
      },
      "execution_count": 90,
      "outputs": [
        {
          "output_type": "stream",
          "name": "stderr",
          "text": [
            "/usr/local/lib/python3.10/dist-packages/keras/src/engine/training.py:3103: UserWarning: You are saving your model as an HDF5 file via `model.save()`. This file format is considered legacy. We recommend using instead the native Keras format, e.g. `model.save('my_model.keras')`.\n",
            "  saving_api.save_model(\n"
          ]
        }
      ]
    },
    {
      "cell_type": "code",
      "source": [
        "'''data_encoded = pd.get_dummies(data, columns=['condition'])\n",
        "data_numeric = data_encoded.select_dtypes(include=['number'])\n",
        "\n",
        "# Extract features and target variable\n",
        "X = data_numeric.drop(['HR'], axis=1)  # Features excluding the target variable\n",
        "Y = data_numeric['HR']\n",
        "'''"
      ],
      "metadata": {
        "id": "auYz5fc9Bnx-"
      },
      "execution_count": null,
      "outputs": []
    },
    {
      "cell_type": "code",
      "source": [
        "#data_numeric"
      ],
      "metadata": {
        "id": "xMktFzv1Uu9k"
      },
      "execution_count": null,
      "outputs": []
    },
    {
      "cell_type": "markdown",
      "source": [
        "# Evaluating the model on test data\n"
      ],
      "metadata": {
        "id": "HmXNxe-xkLGU"
      }
    },
    {
      "cell_type": "code",
      "source": [
        "test_data=pd.read_csv(\"/content/drive/MyDrive/aicure/merged_data.csv\")"
      ],
      "metadata": {
        "id": "ZdM6t1m9ks-R"
      },
      "execution_count": 92,
      "outputs": []
    },
    {
      "cell_type": "code",
      "source": [
        "len(test_data.columns)"
      ],
      "metadata": {
        "colab": {
          "base_uri": "https://localhost:8080/"
        },
        "id": "K1jATAB_kuor",
        "outputId": "d7e8b38b-59e4-44f5-e41c-ec1d7d62dd48"
      },
      "execution_count": 93,
      "outputs": [
        {
          "output_type": "execute_result",
          "data": {
            "text/plain": [
              "37"
            ]
          },
          "metadata": {},
          "execution_count": 93
        }
      ]
    },
    {
      "cell_type": "code",
      "source": [
        "data.columns"
      ],
      "metadata": {
        "colab": {
          "base_uri": "https://localhost:8080/"
        },
        "id": "Rs58Bd3HkzMm",
        "outputId": "fc185cf3-c18c-4ca3-a5bf-caea7f2557a1"
      },
      "execution_count": 94,
      "outputs": [
        {
          "output_type": "execute_result",
          "data": {
            "text/plain": [
              "Index(['uuid', 'VLF', 'VLF_PCT', 'LF', 'LF_PCT', 'LF_NU', 'HF', 'HF_PCT',\n",
              "       'HF_NU', 'TP', 'LF_HF', 'HF_LF', 'SD1', 'SD2', 'sampen', 'higuci',\n",
              "       'condition', 'MEAN_RR', 'MEDIAN_RR', 'SDRR', 'RMSSD', 'SDSD',\n",
              "       'SDRR_RMSSD', 'HR', 'pNN25', 'pNN50', 'KURT', 'SKEW', 'MEAN_REL_RR',\n",
              "       'MEDIAN_REL_RR', 'SDRR_REL_RR', 'RMSSD_REL_RR', 'SDSD_REL_RR',\n",
              "       'SDRR_RMSSD_REL_RR', 'KURT_REL_RR', 'SKEW_REL_RR'],\n",
              "      dtype='object')"
            ]
          },
          "metadata": {},
          "execution_count": 94
        }
      ]
    },
    {
      "cell_type": "code",
      "source": [
        "X_test = test_data.drop('HR', axis=1)\n",
        "X_test=X_test.drop('uuid', axis=1)  # Features (all columns except 'HR' and 'uuid')\n",
        "X_test=X_test.drop('datasetId',axis=1)\n",
        "y_test = test_data['HR']"
      ],
      "metadata": {
        "id": "x8msBlPfmAbF"
      },
      "execution_count": 95,
      "outputs": []
    },
    {
      "cell_type": "code",
      "source": [
        "len(X_test.columns)"
      ],
      "metadata": {
        "colab": {
          "base_uri": "https://localhost:8080/"
        },
        "id": "XUd-TkY2nJiM",
        "outputId": "711d7053-0d6f-4f7f-a9b9-ee7beaacb58b"
      },
      "execution_count": 96,
      "outputs": [
        {
          "output_type": "execute_result",
          "data": {
            "text/plain": [
              "34"
            ]
          },
          "metadata": {},
          "execution_count": 96
        }
      ]
    },
    {
      "cell_type": "code",
      "source": [
        "categorical_columns = ['condition']\n",
        "condition_index = X_test.columns.get_loc('condition')\n",
        "print(condition_index)\n",
        "preprocessor = ColumnTransformer(\n",
        "    transformers=[\n",
        "        ('encoder', OneHotEncoder(),[condition_index])\n",
        "    ],\n",
        "    remainder='passthrough'  # Keep the non-categorical columns as they are\n",
        ")\n",
        "X_test = pd.DataFrame(preprocessor.fit_transform(X_test), columns=preprocessor.get_feature_names_out())"
      ],
      "metadata": {
        "colab": {
          "base_uri": "https://localhost:8080/"
        },
        "id": "rstLg9uGnMMb",
        "outputId": "8c110354-8bef-43f2-e6d0-8cc10c40b5ed"
      },
      "execution_count": 97,
      "outputs": [
        {
          "output_type": "stream",
          "name": "stdout",
          "text": [
            "15\n"
          ]
        }
      ]
    },
    {
      "cell_type": "code",
      "source": [
        "\n",
        "scaler = StandardScaler()\n",
        "\n",
        "X_test_scaled = scaler.fit_transform(X_test)"
      ],
      "metadata": {
        "id": "m0Vnf_MxnSJ5"
      },
      "execution_count": 98,
      "outputs": []
    },
    {
      "cell_type": "code",
      "source": [
        "import pandas as pd\n",
        "from tensorflow.keras.models import load_model\n",
        "\n",
        "model_path = '/content/drive/MyDrive/Copy of aicure/ANN_fin_model.h5'\n",
        "model = load_model(model_path)"
      ],
      "metadata": {
        "id": "JWDyGb_gnThT"
      },
      "execution_count": 99,
      "outputs": []
    },
    {
      "cell_type": "code",
      "source": [
        "predictions = model.predict(X_test_scaled)"
      ],
      "metadata": {
        "colab": {
          "base_uri": "https://localhost:8080/"
        },
        "id": "q9fDNTclnZWN",
        "outputId": "e6b5f4d0-48f2-4ca3-ccec-e69a99b92837"
      },
      "execution_count": 100,
      "outputs": [
        {
          "output_type": "stream",
          "name": "stdout",
          "text": [
            "1/1 [==============================] - 0s 62ms/step\n"
          ]
        }
      ]
    },
    {
      "cell_type": "code",
      "source": [
        "predictions"
      ],
      "metadata": {
        "colab": {
          "base_uri": "https://localhost:8080/"
        },
        "id": "pore4e7JnbVZ",
        "outputId": "fce0c8b0-2a7b-47fb-82aa-0d3004d22138"
      },
      "execution_count": 101,
      "outputs": [
        {
          "output_type": "execute_result",
          "data": {
            "text/plain": [
              "array([[107.91907 ],\n",
              "       [ 89.88542 ],\n",
              "       [ 81.4502  ],\n",
              "       [ 69.39663 ],\n",
              "       [ 59.078228],\n",
              "       [ 53.890526],\n",
              "       [ 75.267525],\n",
              "       [ 50.641884],\n",
              "       [ 47.616474],\n",
              "       [104.196014]], dtype=float32)"
            ]
          },
          "metadata": {},
          "execution_count": 101
        }
      ]
    },
    {
      "cell_type": "code",
      "source": [
        "ids = test_data['uuid']\n",
        "\n",
        "output = pd.DataFrame({'uuid': ids,\n",
        "                       'HR': predictions.squeeze()})\n",
        "\n",
        "output"
      ],
      "metadata": {
        "colab": {
          "base_uri": "https://localhost:8080/",
          "height": 363
        },
        "id": "7-8QrpN9nc-M",
        "outputId": "2741b6b2-2e3c-437c-a8b0-88ddc2e92538"
      },
      "execution_count": 102,
      "outputs": [
        {
          "output_type": "execute_result",
          "data": {
            "text/plain": [
              "                                   uuid          HR\n",
              "0  1ae30e0b-098e-46fc-a897-0a6661f26370  107.919067\n",
              "1  428b41b3-9461-4c79-ab4e-d03b122b2553   89.885422\n",
              "2  88f82ac7-02dd-447e-a289-22e8e22432c2   81.450203\n",
              "3  1d09b18f-d82f-4c1a-bb2d-71fda6fea837   69.396629\n",
              "4  a6302640-f70a-4a3a-ad36-a8c3d5df9400   59.078228\n",
              "5  3f6508be-4b0a-4008-b701-49d8c2d5dd43   53.890526\n",
              "6  a07d84c8-fc44-45ef-bb85-f06f06b70e9f   75.267525\n",
              "7  f4a449db-a7ff-437b-852b-821a6e965f2f   50.641884\n",
              "8  94364ef1-12e2-4ddd-9f35-99e270547849   47.616474\n",
              "9  231d34f5-1028-4f2e-8e1d-00d086b0c218  104.196014"
            ],
            "text/html": [
              "\n",
              "  <div id=\"df-3d08bff4-fb9b-428b-8ce4-db08dc76ca59\" class=\"colab-df-container\">\n",
              "    <div>\n",
              "<style scoped>\n",
              "    .dataframe tbody tr th:only-of-type {\n",
              "        vertical-align: middle;\n",
              "    }\n",
              "\n",
              "    .dataframe tbody tr th {\n",
              "        vertical-align: top;\n",
              "    }\n",
              "\n",
              "    .dataframe thead th {\n",
              "        text-align: right;\n",
              "    }\n",
              "</style>\n",
              "<table border=\"1\" class=\"dataframe\">\n",
              "  <thead>\n",
              "    <tr style=\"text-align: right;\">\n",
              "      <th></th>\n",
              "      <th>uuid</th>\n",
              "      <th>HR</th>\n",
              "    </tr>\n",
              "  </thead>\n",
              "  <tbody>\n",
              "    <tr>\n",
              "      <th>0</th>\n",
              "      <td>1ae30e0b-098e-46fc-a897-0a6661f26370</td>\n",
              "      <td>107.919067</td>\n",
              "    </tr>\n",
              "    <tr>\n",
              "      <th>1</th>\n",
              "      <td>428b41b3-9461-4c79-ab4e-d03b122b2553</td>\n",
              "      <td>89.885422</td>\n",
              "    </tr>\n",
              "    <tr>\n",
              "      <th>2</th>\n",
              "      <td>88f82ac7-02dd-447e-a289-22e8e22432c2</td>\n",
              "      <td>81.450203</td>\n",
              "    </tr>\n",
              "    <tr>\n",
              "      <th>3</th>\n",
              "      <td>1d09b18f-d82f-4c1a-bb2d-71fda6fea837</td>\n",
              "      <td>69.396629</td>\n",
              "    </tr>\n",
              "    <tr>\n",
              "      <th>4</th>\n",
              "      <td>a6302640-f70a-4a3a-ad36-a8c3d5df9400</td>\n",
              "      <td>59.078228</td>\n",
              "    </tr>\n",
              "    <tr>\n",
              "      <th>5</th>\n",
              "      <td>3f6508be-4b0a-4008-b701-49d8c2d5dd43</td>\n",
              "      <td>53.890526</td>\n",
              "    </tr>\n",
              "    <tr>\n",
              "      <th>6</th>\n",
              "      <td>a07d84c8-fc44-45ef-bb85-f06f06b70e9f</td>\n",
              "      <td>75.267525</td>\n",
              "    </tr>\n",
              "    <tr>\n",
              "      <th>7</th>\n",
              "      <td>f4a449db-a7ff-437b-852b-821a6e965f2f</td>\n",
              "      <td>50.641884</td>\n",
              "    </tr>\n",
              "    <tr>\n",
              "      <th>8</th>\n",
              "      <td>94364ef1-12e2-4ddd-9f35-99e270547849</td>\n",
              "      <td>47.616474</td>\n",
              "    </tr>\n",
              "    <tr>\n",
              "      <th>9</th>\n",
              "      <td>231d34f5-1028-4f2e-8e1d-00d086b0c218</td>\n",
              "      <td>104.196014</td>\n",
              "    </tr>\n",
              "  </tbody>\n",
              "</table>\n",
              "</div>\n",
              "    <div class=\"colab-df-buttons\">\n",
              "\n",
              "  <div class=\"colab-df-container\">\n",
              "    <button class=\"colab-df-convert\" onclick=\"convertToInteractive('df-3d08bff4-fb9b-428b-8ce4-db08dc76ca59')\"\n",
              "            title=\"Convert this dataframe to an interactive table.\"\n",
              "            style=\"display:none;\">\n",
              "\n",
              "  <svg xmlns=\"http://www.w3.org/2000/svg\" height=\"24px\" viewBox=\"0 -960 960 960\">\n",
              "    <path d=\"M120-120v-720h720v720H120Zm60-500h600v-160H180v160Zm220 220h160v-160H400v160Zm0 220h160v-160H400v160ZM180-400h160v-160H180v160Zm440 0h160v-160H620v160ZM180-180h160v-160H180v160Zm440 0h160v-160H620v160Z\"/>\n",
              "  </svg>\n",
              "    </button>\n",
              "\n",
              "  <style>\n",
              "    .colab-df-container {\n",
              "      display:flex;\n",
              "      gap: 12px;\n",
              "    }\n",
              "\n",
              "    .colab-df-convert {\n",
              "      background-color: #E8F0FE;\n",
              "      border: none;\n",
              "      border-radius: 50%;\n",
              "      cursor: pointer;\n",
              "      display: none;\n",
              "      fill: #1967D2;\n",
              "      height: 32px;\n",
              "      padding: 0 0 0 0;\n",
              "      width: 32px;\n",
              "    }\n",
              "\n",
              "    .colab-df-convert:hover {\n",
              "      background-color: #E2EBFA;\n",
              "      box-shadow: 0px 1px 2px rgba(60, 64, 67, 0.3), 0px 1px 3px 1px rgba(60, 64, 67, 0.15);\n",
              "      fill: #174EA6;\n",
              "    }\n",
              "\n",
              "    .colab-df-buttons div {\n",
              "      margin-bottom: 4px;\n",
              "    }\n",
              "\n",
              "    [theme=dark] .colab-df-convert {\n",
              "      background-color: #3B4455;\n",
              "      fill: #D2E3FC;\n",
              "    }\n",
              "\n",
              "    [theme=dark] .colab-df-convert:hover {\n",
              "      background-color: #434B5C;\n",
              "      box-shadow: 0px 1px 3px 1px rgba(0, 0, 0, 0.15);\n",
              "      filter: drop-shadow(0px 1px 2px rgba(0, 0, 0, 0.3));\n",
              "      fill: #FFFFFF;\n",
              "    }\n",
              "  </style>\n",
              "\n",
              "    <script>\n",
              "      const buttonEl =\n",
              "        document.querySelector('#df-3d08bff4-fb9b-428b-8ce4-db08dc76ca59 button.colab-df-convert');\n",
              "      buttonEl.style.display =\n",
              "        google.colab.kernel.accessAllowed ? 'block' : 'none';\n",
              "\n",
              "      async function convertToInteractive(key) {\n",
              "        const element = document.querySelector('#df-3d08bff4-fb9b-428b-8ce4-db08dc76ca59');\n",
              "        const dataTable =\n",
              "          await google.colab.kernel.invokeFunction('convertToInteractive',\n",
              "                                                    [key], {});\n",
              "        if (!dataTable) return;\n",
              "\n",
              "        const docLinkHtml = 'Like what you see? Visit the ' +\n",
              "          '<a target=\"_blank\" href=https://colab.research.google.com/notebooks/data_table.ipynb>data table notebook</a>'\n",
              "          + ' to learn more about interactive tables.';\n",
              "        element.innerHTML = '';\n",
              "        dataTable['output_type'] = 'display_data';\n",
              "        await google.colab.output.renderOutput(dataTable, element);\n",
              "        const docLink = document.createElement('div');\n",
              "        docLink.innerHTML = docLinkHtml;\n",
              "        element.appendChild(docLink);\n",
              "      }\n",
              "    </script>\n",
              "  </div>\n",
              "\n",
              "\n",
              "<div id=\"df-596997ef-9228-4da6-a231-eb1ddd501afe\">\n",
              "  <button class=\"colab-df-quickchart\" onclick=\"quickchart('df-596997ef-9228-4da6-a231-eb1ddd501afe')\"\n",
              "            title=\"Suggest charts\"\n",
              "            style=\"display:none;\">\n",
              "\n",
              "<svg xmlns=\"http://www.w3.org/2000/svg\" height=\"24px\"viewBox=\"0 0 24 24\"\n",
              "     width=\"24px\">\n",
              "    <g>\n",
              "        <path d=\"M19 3H5c-1.1 0-2 .9-2 2v14c0 1.1.9 2 2 2h14c1.1 0 2-.9 2-2V5c0-1.1-.9-2-2-2zM9 17H7v-7h2v7zm4 0h-2V7h2v10zm4 0h-2v-4h2v4z\"/>\n",
              "    </g>\n",
              "</svg>\n",
              "  </button>\n",
              "\n",
              "<style>\n",
              "  .colab-df-quickchart {\n",
              "      --bg-color: #E8F0FE;\n",
              "      --fill-color: #1967D2;\n",
              "      --hover-bg-color: #E2EBFA;\n",
              "      --hover-fill-color: #174EA6;\n",
              "      --disabled-fill-color: #AAA;\n",
              "      --disabled-bg-color: #DDD;\n",
              "  }\n",
              "\n",
              "  [theme=dark] .colab-df-quickchart {\n",
              "      --bg-color: #3B4455;\n",
              "      --fill-color: #D2E3FC;\n",
              "      --hover-bg-color: #434B5C;\n",
              "      --hover-fill-color: #FFFFFF;\n",
              "      --disabled-bg-color: #3B4455;\n",
              "      --disabled-fill-color: #666;\n",
              "  }\n",
              "\n",
              "  .colab-df-quickchart {\n",
              "    background-color: var(--bg-color);\n",
              "    border: none;\n",
              "    border-radius: 50%;\n",
              "    cursor: pointer;\n",
              "    display: none;\n",
              "    fill: var(--fill-color);\n",
              "    height: 32px;\n",
              "    padding: 0;\n",
              "    width: 32px;\n",
              "  }\n",
              "\n",
              "  .colab-df-quickchart:hover {\n",
              "    background-color: var(--hover-bg-color);\n",
              "    box-shadow: 0 1px 2px rgba(60, 64, 67, 0.3), 0 1px 3px 1px rgba(60, 64, 67, 0.15);\n",
              "    fill: var(--button-hover-fill-color);\n",
              "  }\n",
              "\n",
              "  .colab-df-quickchart-complete:disabled,\n",
              "  .colab-df-quickchart-complete:disabled:hover {\n",
              "    background-color: var(--disabled-bg-color);\n",
              "    fill: var(--disabled-fill-color);\n",
              "    box-shadow: none;\n",
              "  }\n",
              "\n",
              "  .colab-df-spinner {\n",
              "    border: 2px solid var(--fill-color);\n",
              "    border-color: transparent;\n",
              "    border-bottom-color: var(--fill-color);\n",
              "    animation:\n",
              "      spin 1s steps(1) infinite;\n",
              "  }\n",
              "\n",
              "  @keyframes spin {\n",
              "    0% {\n",
              "      border-color: transparent;\n",
              "      border-bottom-color: var(--fill-color);\n",
              "      border-left-color: var(--fill-color);\n",
              "    }\n",
              "    20% {\n",
              "      border-color: transparent;\n",
              "      border-left-color: var(--fill-color);\n",
              "      border-top-color: var(--fill-color);\n",
              "    }\n",
              "    30% {\n",
              "      border-color: transparent;\n",
              "      border-left-color: var(--fill-color);\n",
              "      border-top-color: var(--fill-color);\n",
              "      border-right-color: var(--fill-color);\n",
              "    }\n",
              "    40% {\n",
              "      border-color: transparent;\n",
              "      border-right-color: var(--fill-color);\n",
              "      border-top-color: var(--fill-color);\n",
              "    }\n",
              "    60% {\n",
              "      border-color: transparent;\n",
              "      border-right-color: var(--fill-color);\n",
              "    }\n",
              "    80% {\n",
              "      border-color: transparent;\n",
              "      border-right-color: var(--fill-color);\n",
              "      border-bottom-color: var(--fill-color);\n",
              "    }\n",
              "    90% {\n",
              "      border-color: transparent;\n",
              "      border-bottom-color: var(--fill-color);\n",
              "    }\n",
              "  }\n",
              "</style>\n",
              "\n",
              "  <script>\n",
              "    async function quickchart(key) {\n",
              "      const quickchartButtonEl =\n",
              "        document.querySelector('#' + key + ' button');\n",
              "      quickchartButtonEl.disabled = true;  // To prevent multiple clicks.\n",
              "      quickchartButtonEl.classList.add('colab-df-spinner');\n",
              "      try {\n",
              "        const charts = await google.colab.kernel.invokeFunction(\n",
              "            'suggestCharts', [key], {});\n",
              "      } catch (error) {\n",
              "        console.error('Error during call to suggestCharts:', error);\n",
              "      }\n",
              "      quickchartButtonEl.classList.remove('colab-df-spinner');\n",
              "      quickchartButtonEl.classList.add('colab-df-quickchart-complete');\n",
              "    }\n",
              "    (() => {\n",
              "      let quickchartButtonEl =\n",
              "        document.querySelector('#df-596997ef-9228-4da6-a231-eb1ddd501afe button');\n",
              "      quickchartButtonEl.style.display =\n",
              "        google.colab.kernel.accessAllowed ? 'block' : 'none';\n",
              "    })();\n",
              "  </script>\n",
              "</div>\n",
              "\n",
              "  <div id=\"id_efbb329b-0ede-4622-9320-34a257bafa8b\">\n",
              "    <style>\n",
              "      .colab-df-generate {\n",
              "        background-color: #E8F0FE;\n",
              "        border: none;\n",
              "        border-radius: 50%;\n",
              "        cursor: pointer;\n",
              "        display: none;\n",
              "        fill: #1967D2;\n",
              "        height: 32px;\n",
              "        padding: 0 0 0 0;\n",
              "        width: 32px;\n",
              "      }\n",
              "\n",
              "      .colab-df-generate:hover {\n",
              "        background-color: #E2EBFA;\n",
              "        box-shadow: 0px 1px 2px rgba(60, 64, 67, 0.3), 0px 1px 3px 1px rgba(60, 64, 67, 0.15);\n",
              "        fill: #174EA6;\n",
              "      }\n",
              "\n",
              "      [theme=dark] .colab-df-generate {\n",
              "        background-color: #3B4455;\n",
              "        fill: #D2E3FC;\n",
              "      }\n",
              "\n",
              "      [theme=dark] .colab-df-generate:hover {\n",
              "        background-color: #434B5C;\n",
              "        box-shadow: 0px 1px 3px 1px rgba(0, 0, 0, 0.15);\n",
              "        filter: drop-shadow(0px 1px 2px rgba(0, 0, 0, 0.3));\n",
              "        fill: #FFFFFF;\n",
              "      }\n",
              "    </style>\n",
              "    <button class=\"colab-df-generate\" onclick=\"generateWithVariable('output')\"\n",
              "            title=\"Generate code using this dataframe.\"\n",
              "            style=\"display:none;\">\n",
              "\n",
              "  <svg xmlns=\"http://www.w3.org/2000/svg\" height=\"24px\"viewBox=\"0 0 24 24\"\n",
              "       width=\"24px\">\n",
              "    <path d=\"M7,19H8.4L18.45,9,17,7.55,7,17.6ZM5,21V16.75L18.45,3.32a2,2,0,0,1,2.83,0l1.4,1.43a1.91,1.91,0,0,1,.58,1.4,1.91,1.91,0,0,1-.58,1.4L9.25,21ZM18.45,9,17,7.55Zm-12,3A5.31,5.31,0,0,0,4.9,8.1,5.31,5.31,0,0,0,1,6.5,5.31,5.31,0,0,0,4.9,4.9,5.31,5.31,0,0,0,6.5,1,5.31,5.31,0,0,0,8.1,4.9,5.31,5.31,0,0,0,12,6.5,5.46,5.46,0,0,0,6.5,12Z\"/>\n",
              "  </svg>\n",
              "    </button>\n",
              "    <script>\n",
              "      (() => {\n",
              "      const buttonEl =\n",
              "        document.querySelector('#id_efbb329b-0ede-4622-9320-34a257bafa8b button.colab-df-generate');\n",
              "      buttonEl.style.display =\n",
              "        google.colab.kernel.accessAllowed ? 'block' : 'none';\n",
              "\n",
              "      buttonEl.onclick = () => {\n",
              "        google.colab.notebook.generateWithVariable('output');\n",
              "      }\n",
              "      })();\n",
              "    </script>\n",
              "  </div>\n",
              "\n",
              "    </div>\n",
              "  </div>\n"
            ]
          },
          "metadata": {},
          "execution_count": 102
        }
      ]
    },
    {
      "cell_type": "code",
      "source": [
        "mse = model.evaluate(X_test_scaled, y_test)\n",
        "y_pred = model.predict(X_test_scaled)\n",
        "mae = mean_absolute_error(y_test, y_pred)\n",
        "\n",
        "print(\"Mean Squared Error (MSE):\", mse)\n",
        "print(\"Mean Absolute Error (MAE):\", mae)"
      ],
      "metadata": {
        "colab": {
          "base_uri": "https://localhost:8080/"
        },
        "id": "roX1Ulw4ngWa",
        "outputId": "4a0c6707-58ca-40fd-9176-2b4ccc7555e4"
      },
      "execution_count": 105,
      "outputs": [
        {
          "output_type": "stream",
          "name": "stdout",
          "text": [
            "1/1 [==============================] - 0s 131ms/step - loss: 286.3539\n",
            "1/1 [==============================] - 0s 62ms/step\n",
            "Mean Squared Error (MSE): 286.35394287109375\n",
            "Mean Absolute Error (MAE): 12.51825489054735\n"
          ]
        }
      ]
    },
    {
      "cell_type": "markdown",
      "source": [
        "Since the MSE on test data is huge but on validaion data it is low, from this we can say there is high variance and low bias, we observe overfitting, and the predictions aren't close to the actual values, thus we do not go ahead with this approach, rather we choose the Random Forest approach as the best approach"
      ],
      "metadata": {
        "id": "E-qL1PwDiwzf"
      }
    }
  ]
}